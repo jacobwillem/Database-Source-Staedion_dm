{
    "metadata": {
        "kernelspec": {
            "name": "SQL",
            "display_name": "SQL",
            "language": "sql"
        },
        "language_info": {
            "name": "sql",
            "version": ""
        }
    },
    "nbformat_minor": 2,
    "nbformat": 4,
    "cells": [
        {
            "cell_type": "markdown",
            "source": [
                "# KCM Analyse database"
            ],
            "metadata": {
                "azdata_cell_guid": "8661e30e-cd73-4c52-92c7-c4ac25e925b2"
            },
            "attachments": {}
        },
        {
            "cell_type": "markdown",
            "source": [
                "## Queries om data op te halen te vergelijken met onderstaand plaatje"
            ],
            "metadata": {
                "azdata_cell_guid": "143c7123-e748-420a-be35-db76b76057bd"
            },
            "attachments": {}
        },
        {
            "cell_type": "code",
            "source": [
                "select * from dataanalysis.vw_staedion_kpi_scores_samengevat where Jaar = 2022 and Maand = 1 and KCM_onderzoek = 'STN812'\r\n",
                "\r\n",
                ""
            ],
            "metadata": {
                "azdata_cell_guid": "205764d8-8da0-4e53-99fe-4193221d2611",
                "tags": [
                    "hide_input"
                ]
            },
            "outputs": [],
            "execution_count": null
        },
        {
            "cell_type": "code",
            "source": [
                "select * from dataanalysis.vw_staedion_kpi_scores_details where Jaar = 2022 and Maand = 1 and KCM_onderzoek = 'STN812'"
            ],
            "metadata": {
                "azdata_cell_guid": "ed408206-e9c2-41a8-ab90-e0137f846db7"
            },
            "outputs": [],
            "execution_count": null
        },
        {
            "cell_type": "code",
            "source": [
                "select * from dataanalysis.vw_staedion_enquete_details  where Jaar = 2022 and Maand = 1 and KCM_onderzoek = 'STN812' "
            ],
            "metadata": {
                "azdata_cell_guid": "c232aead-26b3-4667-809c-883046680da9"
            },
            "outputs": [],
            "execution_count": null
        },
        {
            "cell_type": "code",
            "source": [
                "select DET.Indicator_Staedion, DET.KCM_resultaat, INFO.fieldvalue , INFO.name \r\n",
                "from dataanalysis.vw_staedion_kpi_scores_details as DET \r\n",
                "left outer join  dataanalysis.vw_staedion_enquete_details as INFO \r\n",
                "on DET.respondentid = INFO.respondentid\r\n",
                "and INFO.name = 'aantal termijnen'\r\n",
                "where DET.Jaar = 2022 and DET.Maand = 1 and DET.KCM_onderzoek = 'STN812'\r\n",
                "and DET.Indicator_Staedion = 'Indicator huurbetaling'"
            ],
            "metadata": {
                "azdata_cell_guid": "b829ff98-5c70-4027-b4fd-0bad03d38992",
                "tags": [
                    "hide_input"
                ]
            },
            "outputs": [],
            "execution_count": null
        },
        {
            "cell_type": "markdown",
            "source": [
                "## Voorbeeld plaatje meter KCM + bijbehorende query\n",
                "\n",
                "<span style=\"background-color: rgb(236, 238, 240);\"><font color=\"#0086b3\" face=\"Consolas, Source Code Pro, Liberation Mono, Courier New, Courier, monospace\"><span style=\"font-size: 13.8px; white-space: pre;\">![Cat](Voorbeeld_STN812_KCM.png)</span></font></span>"
            ],
            "metadata": {
                "azdata_cell_guid": "03252385-710e-48fd-b8ab-f4d8a05f276c"
            },
            "attachments": {}
        },
        {
            "cell_type": "markdown",
            "source": [
                "## Aantal ingevulde enquetes van een onderzoek"
            ],
            "metadata": {
                "azdata_cell_guid": "bc8cbe91-f96d-415e-ae44-195c2a2c20a2"
            },
            "attachments": {}
        },
        {
            "cell_type": "code",
            "source": [
                "select distinct sr.respondentid\r\n",
                "-- select distinct left(sr.externalreference,6), cfd.name, cf.contactfielddefinitionid--, cf.fieldvalue\r\n",
                "from dataanalysis.surveyresults  as sr\r\n",
                "left outer join dataanalysis.respondent as r\r\n",
                "on r.respondentid = sr.respondentid\r\n",
                "join dataanalysis.contactfields as cf \r\n",
                "on cf.contactid = r.contactid\r\n",
                "join dataanalysis.contactfielddefinitions as cfd \r\n",
                "on cfd.contactfielddefinitionid = cf.contactfielddefinitionid \r\n",
                "where left(sr.externalreference,6) = 'STN812' \r\n",
                "--and cfd.contactfielddefinitionid  in (20,22,88,91)\r\n",
                "and extract(year from completiondate) = 2022\r\n",
                "and extract(month from completiondate) = 1\r\n",
                "--and cf.contactid = 976657\r\n",
                ""
            ],
            "metadata": {
                "azdata_cell_guid": "a56524ca-ab10-47bb-8ba9-ee4f7845417e",
                "tags": [
                    "hide_input"
                ]
            },
            "outputs": [],
            "execution_count": null
        },
        {
            "cell_type": "markdown",
            "source": [
                "## Kenmerken van respondenten"
            ],
            "metadata": {
                "azdata_cell_guid": "ceb6b8ac-c243-46ec-9c1a-686bf7b661fe"
            },
            "attachments": {}
        },
        {
            "cell_type": "code",
            "source": [
                "select sr.completiondate, sr.respondentid, sr.surveyresultid, r.contactid, cfd.name, cf.contactfielddefinitionid, cf.fieldvalue\r\n",
                "-- select distinct left(sr.externalreference,6), cfd.name, cf.contactfielddefinitionid--, cf.fieldvalue\r\n",
                "from dataanalysis.surveyresults  as sr\r\n",
                "left outer join dataanalysis.respondent as r\r\n",
                "on r.respondentid = sr.respondentid\r\n",
                "join dataanalysis.contactfields as cf \r\n",
                "on cf.contactid = r.contactid\r\n",
                "join dataanalysis.contactfielddefinitions as cfd \r\n",
                "on cfd.contactfielddefinitionid = cf.contactfielddefinitionid \r\n",
                "where left(sr.externalreference,6) = 'STN812' \r\n",
                "--and cfd.contactfielddefinitionid  in (20,22,88,91)\r\n",
                "and extract(year from completiondate) >= 2022\r\n",
                "--and cf.contactid = 976657\r\n",
                "order by 1,2 limit 100"
            ],
            "metadata": {
                "azdata_cell_guid": "d40672bf-b196-41ac-bda4-e6d7f0a395c1",
                "tags": []
            },
            "outputs": [],
            "execution_count": null
        },
        {
            "cell_type": "markdown",
            "source": [
                "## Details van kwaliteit woning: scores op 8 onderdelen"
            ],
            "metadata": {
                "azdata_cell_guid": "d8f8514e-e4e2-4e19-af7c-1f727f710074"
            },
            "attachments": {}
        },
        {
            "cell_type": "code",
            "source": [
                "select kcm_vraag,\r\n",
                "       avg(kcm_resultaat) as score,\r\n",
                "       count(kcm_resultaat) as aantal_ingevuld\r\n",
                "from dataanalysis.vw_staedion_kpi_scores_details\r\n",
                "where Jaar = 2022\r\n",
                "    and Maand = 1\r\n",
                "    and KCM_onderzoek = 'STN661'\r\n",
                "    and (kcm_vraag like '%keuken%'\r\n",
                "         or kcm_vraag like '%badk%toilet%'\r\n",
                "         or kcm_vraag like '%gehorig%'\r\n",
                "         or kcm_vraag like '%tocht%'\r\n",
                "         or kcm_vraag like '%huur%kwaliteit%'\r\n",
                "         or kcm_vraag like '%veilig in mijn w%'\r\n",
                "         or kcm_vraag like '%energie%'\r\n",
                "         or kcm_vraag like '%lichamelijk%')\r\n",
                "group by kcm_vraag ;\r\n",
                "\r\n",
                ""
            ],
            "metadata": {
                "azdata_cell_guid": "c2ac92d1-a5d1-4f70-bf18-49591dda39ac"
            },
            "outputs": [],
            "execution_count": null
        }
    ]
}