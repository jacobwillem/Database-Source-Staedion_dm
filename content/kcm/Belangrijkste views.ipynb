{
    "metadata": {
        "kernelspec": {
            "name": "SQL",
            "display_name": "SQL",
            "language": "sql"
        },
        "language_info": {
            "name": "sql",
            "version": ""
        }
    },
    "nbformat_minor": 2,
    "nbformat": 4,
    "cells": [
        {
            "cell_type": "markdown",
            "source": [
                "# KCM Analyse database"
            ],
            "metadata": {
                "azdata_cell_guid": "8661e30e-cd73-4c52-92c7-c4ac25e925b2"
            },
            "attachments": {}
        },
        {
            "cell_type": "markdown",
            "source": [
                "## Query voor resultaten over 1 maand"
            ],
            "metadata": {
                "azdata_cell_guid": "ce0b2ebc-96d7-49b9-a91c-e8cab660f0c5"
            }
        },
        {
            "cell_type": "code",
            "source": [
                "select * from dataanalysis.vw_staedion_kpi_scores_samengevat where Jaar = 2022 and Maand = 1 order by KCM_onderzoek asc"
            ],
            "metadata": {
                "azdata_cell_guid": "592f4a0b-96c3-421f-af9d-71471b185187",
                "tags": []
            },
            "outputs": [],
            "execution_count": null
        },
        {
            "cell_type": "markdown",
            "source": [
                "## Opbouw view vw\\_staedion\\_kpi\\_scores\\_samengevat"
            ],
            "metadata": {
                "azdata_cell_guid": "bc8cbe91-f96d-415e-ae44-195c2a2c20a2"
            },
            "attachments": {}
        },
        {
            "cell_type": "code",
            "source": [
                "--drop view dataanalysis.vw_staedion_kpi_scores_samengevat \r\n",
                "--CREATE OR REPLACE VIEW dataanalysis.vw_staedion_kpi_scores_samengevat AS\r\n",
                "/* --------------------------------------------------------------------------------------------\r\n",
                "VAN: JvdW Staedion, 4-1-2022\r\n",
                "BETREFT: ophalen benodigde informatie om kpi-scores te kunnen berekenen\r\n",
                "Daarvoor is nodig de vraag van KCM + vertaling naar unieke score in dashboard\r\n",
                "+ datum ingevulde enquete\r\n",
                "\r\n",
                "NB: questiontypedefinitionid = 5: dan ja/nee vraag - wordt in de view omgezet naar 1/0\r\n",
                "NB: sommige vragen verplicht andere niet, delen door aantal ingevulde enquetes op betreffende vraag geeft score\r\n",
                "NB: 4-1-2022 data gecheckt met KCM zelf = akkoord\r\n",
                "-------------------------------------------------------------------------------------------- */\r\n",
                "SELECT Jaar\r\n",
                "\t, Maand\r\n",
                "    , KCM_onderzoek\r\n",
                "\t, Indicator_Staedion\r\n",
                "    , KCM_vraagtypedefinitie_intern\r\n",
                "    , max(KCM_vraag) AS KCM_vraag\r\n",
                "    , count(*) AS n\r\n",
                "    , sum(KCM_resultaat) / count(*) AS Score\r\n",
                "    , case when count(DISTINCT KCM_vraag)>1 then 'Vraag is gewijzigd' else 'Vraag niet gewijzigd' end as Opmerking_1\r\n",
                "-- select *\r\n",
                "FROM dataanalysis.vw_staedion_kpi_scores_details\r\n",
                "WHERE Indicator_Staedion IS NOT NULL\r\n",
                "--and questiontypedefinitionid = 5\r\n",
                "GROUP BY Jaar\r\n",
                "\t, Maand\r\n",
                "\t, KCM_onderzoek\r\n",
                "    , Indicator_Staedion\r\n",
                "    , KCM_vraagtypedefinitie_intern\r\n",
                "ORDER BY Jaar\r\n",
                "\t, KCM_onderzoek\r\n",
                "    , Indicator_Staedion\r\n",
                "    , KCM_vraagtypedefinitie_intern\r\n",
                ""
            ],
            "metadata": {
                "azdata_cell_guid": "a5e98c4c-c576-4ba9-a2a1-d1f4e14ad31e",
                "tags": []
            },
            "outputs": [],
            "execution_count": null
        },
        {
            "cell_type": "markdown",
            "source": [
                "## Opbouw view vw_staedion_kpi_scores_details"
            ],
            "metadata": {
                "azdata_cell_guid": "6d1b7f1f-b715-4628-9368-d75caf32f42b"
            }
        },
        {
            "cell_type": "code",
            "source": [
                "-- drop VIEW dataanalysis.vw_staedion_kpi_scores_details\r\n",
                "--CREATE OR REPLACE VIEW dataanalysis.vw_staedion_kpi_scores_details AS\r\n",
                "/* --------------------------------------------------------------------------------------------\r\n",
                "VAN: JvdW Staedion, 4-1-2022\r\n",
                "BETREFT: ophalen benodigde informatie om kpi-scores te kunnen berekenen\r\n",
                "Daarvoor is nodig de vraag van KCM + vertaling naar unieke score in dashboard\r\n",
                "+ datum ingevulde enquete\r\n",
                "\r\n",
                "NB: questiontypedefinitionid = 5: dan ja/nee vraag - wordt in de view omgezet naar 1/0\r\n",
                "NB: sommige vragen verplicht andere niet, delen door aantal ingevulde enquetes op betreffende vraag geeft score\r\n",
                "NB: 4-1-2022 data gecheckt met KCM zelf = akkoord, alleen STN417 leverde afwijking op\r\n",
                "> 35 reacties in 2021 op vraag online terug kunnen vinden\r\n",
                "> 89 reacties in 2021 op telefonisch niet terug kunnen vinden\r\n",
                "NB\r\n",
                "-------------------------------------------------------------------------------------------- */\r\n",
                " SELECT \"left\"((sr.externalreference)::text, 6) AS KCM_onderzoek,\r\n",
                "    qr.questiontext AS KCM_vraag,\r\n",
                "        CASE qr.questiondefinitionid\r\n",
                "            WHEN 3746 THEN 'Score Planmatig Onderhoud'::text\r\n",
                "            WHEN 3760 THEN 'Score huurbetaling'::text\r\n",
                "            WHEN 3776 THEN 'Score dagelijks onderhoud'::text\r\n",
                "            WHEN 3790 THEN 'Score dagelijks onderhoud'::text\r\n",
                "            WHEN 7834 THEN 'Score dagelijks onderhoud'::text\r\n",
                "            WHEN 7901 THEN 'Score dagelijks onderhoud'::text\t\t\t\r\n",
                "            WHEN 7819 THEN 'Score dagelijks onderhoud'::text\t\t\t\t\t\r\n",
                "            WHEN 3817 THEN 'Score BKT'::text\r\n",
                "            WHEN 3868 THEN 'Score groenonderhoud'::text\r\n",
                "            WHEN 3887 THEN 'Score telefonische dienstverlening Woonservice'::text\r\n",
                "            WHEN 3922 THEN 'Score telefonische dienstverlening Intake'::text\r\n",
                "            WHEN 3925 THEN 'Score betrekken woning'::text\r\n",
                "            WHEN 3950 THEN 'Score verlaten woning'::text\r\n",
                "            WHEN 3968 THEN 'Score klachtenmanagement'::text\r\n",
                "            WHEN 6871 THEN 'Indicator Voelt zich thuis'::text\r\n",
                "            WHEN 6872 THEN 'Score thuisgevoel'::text\r\n",
                "            WHEN 6875 THEN 'Score woningkwaliteit'::text\r\n",
                "            WHEN 6885 THEN 'Score algemene ruimte'::text\r\n",
                "            WHEN 6892 THEN 'Score buurt'::text\r\n",
                "            WHEN 6945 THEN 'Indicator Voelt zich thuis in buurt'::text\r\n",
                "            WHEN 6958 THEN 'Indicator schoonmaakonderhoud'::text\r\n",
                "            WHEN 7803 THEN 'Indicator huurbetaling'::text\t\t\t\r\n",
                "            ELSE NULL::text\r\n",
                "        END AS Indicator_Staedion,\r\n",
                "    sr.completiondate AS Datum_ingevuld,\r\n",
                "    date_part('year'::text, sr.completiondate) AS jaar,\r\n",
                "    date_part('month'::text, sr.completiondate) AS maand,\r\n",
                "    (\"substring\"((qd.externalreference)::text, 8, 10))::integer AS KCM_vraagnummer_intern,\r\n",
                "    qr.questiondefinitionid AS KCM_vraagdefinitie_intern,\r\n",
                "    qd.questiontypedefinitionid AS KCM_vraagtypedefinitie_intern,\r\n",
                "    ar.answertext AS KCM_antwoord,\r\n",
                "        CASE\r\n",
                "            WHEN ((qd.questiontypedefinitionid = 5) AND (ar.answertext <> 'n / a'::text)) THEN (\r\n",
                "            CASE\r\n",
                "                WHEN (ar.answertext = 'Ja'::text) THEN 1\r\n",
                "                ELSE 0\r\n",
                "            END)::numeric\r\n",
                "            ELSE\r\n",
                "            CASE\r\n",
                "                WHEN ((qd.questiontypedefinitionid = 4) AND (ar.answertext <> 'n / a'::text)) THEN (ar.answertext)::numeric\r\n",
                "                ELSE NULL::numeric\r\n",
                "            END\r\n",
                "        END AS KCM_resultaat,\r\n",
                "    sr.respondentid,\r\n",
                "    sr.surveyresultid\r\n",
                "\t-- select distinct qr.questiondefinitionid, qr.questiontext\r\n",
                "   FROM (((dataanalysis.surveyresults sr\r\n",
                "     LEFT JOIN dataanalysis.questionresults qr ON ((sr.surveyresultid = qr.surveyresultid)))\r\n",
                "     JOIN dataanalysis.questiondefinitions qd ON ((qr.questiondefinitionid = qd.questiondefinitionid)))\r\n",
                "     JOIN dataanalysis.answerresults ar ON ((qr.questionresultid = ar.questionresultid)))\r\n",
                "  WHERE ((\"left\"((sr.externalreference)::text, 6) = ANY (ARRAY['STN407'::text, 'STN410'::text, 'STN414'::text, 'STN417'::text, 'STN418'::text, 'STN420'::text, 'STN421'::text, 'STN647'::text, 'STN658'::text, 'STN659'::text, 'STN660'::text, 'STN661'::text, 'STN812'::text, 'STN813'::text, 'STN814'::text])) \r\n",
                "\t\t AND (date_part('year'::text, sr.completiondate) >= (2020)::double precision) \r\n",
                "\t\t AND (qd.questiontypedefinitionid = ANY (ARRAY[4, 5])))\r\n",
                "\t\t AND \"left\"((sr.externalreference)::text, 6) = 'STN814'\r\n",
                "  ORDER BY sr.completiondate DESC;\r\n",
                ""
            ],
            "metadata": {
                "azdata_cell_guid": "2c1c83fd-2e1b-4e46-9c5f-9364d27e2050",
                "tags": []
            },
            "outputs": [],
            "execution_count": null
        },
        {
            "cell_type": "markdown",
            "source": [
                "## Opbouw view vw\\_staedion\\_enquete\\_details"
            ],
            "metadata": {
                "azdata_cell_guid": "dfe0e2d4-34a7-43e3-bb97-8fdfc55011ad"
            },
            "attachments": {}
        },
        {
            "cell_type": "code",
            "source": [
                "-- drop VIEW dataanalysis.vw_staedion_enquete_details\r\n",
                "-- CREATE OR REPLACE VIEW dataanalysis.vw_staedion_enquete_details AS\r\n",
                "/* --------------------------------------------------------------------------------------------\r\n",
                "VAN: JvdW Staedion, 11-1-2022\r\n",
                "BETREFT: ophalen benodigde informatie die gekoppeld is aan ingevulde enquetes\r\n",
                "-------------------------------------------------------------------------------------------- */\r\n",
                "-- ingevulde surveys\r\n",
                "select left(sr.externalreference,6) AS KCM_onderzoek,\r\n",
                "\t\tsr.completiondate as Datum_ingevuld,\r\n",
                "        date_part('year'::text, sr.completiondate) AS jaar,\r\n",
                "        date_part('month'::text, sr.completiondate) AS maand,\t\t\r\n",
                "\t\tsr.respondentid, \r\n",
                "\t\tsr.surveyresultid, \r\n",
                "\t\tr.contactid, \r\n",
                "\t\tcfd.name, \r\n",
                "\t\tcf.contactfielddefinitionid, \r\n",
                "\t\tcf.fieldvalue\r\n",
                "from dataanalysis.surveyresults  as sr\r\n",
                "left outer join dataanalysis.respondent as r\r\n",
                "on r.respondentid = sr.respondentid\r\n",
                "join dataanalysis.contactfields as cf \r\n",
                "on cf.contactid = r.contactid\r\n",
                "join dataanalysis.contactfielddefinitions as cfd \r\n",
                "on cfd.contactfielddefinitionid = cf.contactfielddefinitionid\r\n",
                "where extract(year from completiondate) >= 2022-- limit 100\r\n",
                "-- and left(sr.externalreference,6) = 'STN660' \r\n",
                "--and cfd.contactfielddefinitionid  in (20,22,88,91)\r\n",
                "--and cf.contactid = 976657"
            ],
            "metadata": {
                "azdata_cell_guid": "998d52b8-82c2-40e5-81fb-1dd7c25e2c0f",
                "tags": []
            },
            "outputs": [],
            "execution_count": null
        }
    ]
}