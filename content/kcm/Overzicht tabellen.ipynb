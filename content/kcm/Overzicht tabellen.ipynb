{
    "metadata": {
        "kernelspec": {
            "name": "SQL",
            "display_name": "SQL",
            "language": "sql"
        },
        "language_info": {
            "name": "sql",
            "version": ""
        }
    },
    "nbformat_minor": 2,
    "nbformat": 4,
    "cells": [
        {
            "cell_type": "markdown",
            "source": [
                "# KCM Analyse database"
            ],
            "metadata": {
                "azdata_cell_guid": "8661e30e-cd73-4c52-92c7-c4ac25e925b2"
            },
            "attachments": {}
        },
        {
            "cell_type": "markdown",
            "source": [
                "## Tabellen data-analysis"
            ],
            "metadata": {
                "azdata_cell_guid": "bc8cbe91-f96d-415e-ae44-195c2a2c20a2"
            },
            "attachments": {}
        },
        {
            "cell_type": "code",
            "source": [
                "select 'dataanalysis.answerdefinitions' as bron, count(*) as aantal from dataanalysis.answerdefinitions union\r\n",
                "select 'dataanalysis.answerresults' as bron, count(*) as aantal from dataanalysis.answerresults union\r\n",
                "select 'dataanalysis.contactfielddefinitions' as bron, count(*) as aantal from dataanalysis.contactfielddefinitions union\r\n",
                "select 'dataanalysis.contactfields' as bron, count(*) as aantal from dataanalysis.contactfields union\r\n",
                "select 'dataanalysis.contactinvites' as bron, count(*) as aantal from dataanalysis.contactinvites union\r\n",
                "select 'dataanalysis.contactresponses' as bron, count(*) as aantal from dataanalysis.contactresponses union\r\n",
                "select 'dataanalysis.contacts' as bron, count(*) as aantal from dataanalysis.contacts union\r\n",
                "select 'dataanalysis.contacttypes' as bron, count(*) as aantal from dataanalysis.contacttypes union\r\n",
                "select 'dataanalysis.country' as bron, count(*) as aantal from dataanalysis.country union\r\n",
                "select 'dataanalysis.customers' as bron, count(*) as aantal from dataanalysis.customers union\r\n",
                "select 'dataanalysis.gender' as bron, count(*) as aantal from dataanalysis.gender union\r\n",
                "select 'dataanalysis.loginfo' as bron, count(*) as aantal from dataanalysis.loginfo union\r\n",
                "select 'dataanalysis.questiondefinitions' as bron, count(*) as aantal from dataanalysis.questiondefinitions union\r\n",
                "select 'dataanalysis.questionresults' as bron, count(*) as aantal from dataanalysis.questionresults union\r\n",
                "select 'dataanalysis.questiontypedefinitions' as bron, count(*) as aantal from dataanalysis.questiontypedefinitions union\r\n",
                "select 'dataanalysis.researchsubjectdefinitions' as bron, count(*) as aantal from dataanalysis.researchsubjectdefinitions union\r\n",
                "select 'dataanalysis.respondent' as bron, count(*) as aantal from dataanalysis.respondent union\r\n",
                "select 'dataanalysis.respondentfield' as bron, count(*) as aantal from dataanalysis.respondentfield union\r\n",
                "select 'dataanalysis.respondentfielddefinition' as bron, count(*) as aantal from dataanalysis.respondentfielddefinition union\r\n",
                "select 'dataanalysis.respondenttype' as bron, count(*) as aantal from dataanalysis.respondenttype union\r\n",
                "select 'dataanalysis.surveydefinitions' as bron, count(*) as aantal from dataanalysis.surveydefinitions union\r\n",
                "select 'dataanalysis.surveyresults' as bron, count(*) as aantal from dataanalysis.surveyresults union\r\n",
                "select 'dataanalysis.surveystatuses' as bron, count(*) as aantal from dataanalysis.surveystatuses union\r\n",
                "select 'dataanalysis.surveytypes' as bron, count(*) as aantal from dataanalysis.surveytypes \r\n",
                "order by 2 desc"
            ],
            "metadata": {
                "azdata_cell_guid": "2c1c83fd-2e1b-4e46-9c5f-9364d27e2050",
                "tags": []
            },
            "outputs": [
                {
                    "output_type": "display_data",
                    "data": {
                        "text/html": "(24 row(s) affected)"
                    },
                    "metadata": {}
                },
                {
                    "output_type": "display_data",
                    "data": {
                        "text/html": "Total execution time: 00:00:18.885"
                    },
                    "metadata": {}
                },
                {
                    "output_type": "execute_result",
                    "execution_count": 10,
                    "data": {
                        "application/vnd.dataresource+json": {
                            "schema": {
                                "fields": [
                                    {
                                        "name": "bron"
                                    },
                                    {
                                        "name": "aantal"
                                    }
                                ]
                            },
                            "data": [
                                {
                                    "0": "dataanalysis.contactfields",
                                    "1": "6139710"
                                },
                                {
                                    "0": "dataanalysis.respondentfield",
                                    "1": "1088470"
                                },
                                {
                                    "0": "dataanalysis.answerresults",
                                    "1": "1006859"
                                },
                                {
                                    "0": "dataanalysis.contactinvites",
                                    "1": "955809"
                                },
                                {
                                    "0": "dataanalysis.questionresults",
                                    "1": "908995"
                                },
                                {
                                    "0": "dataanalysis.contacts",
                                    "1": "586827"
                                },
                                {
                                    "0": "dataanalysis.contactresponses",
                                    "1": "175676"
                                },
                                {
                                    "0": "dataanalysis.respondent",
                                    "1": "54502"
                                },
                                {
                                    "0": "dataanalysis.surveyresults",
                                    "1": "54502"
                                },
                                {
                                    "0": "dataanalysis.answerdefinitions",
                                    "1": "9769"
                                },
                                {
                                    "0": "dataanalysis.questiondefinitions",
                                    "1": "3792"
                                },
                                {
                                    "0": "dataanalysis.loginfo",
                                    "1": "378"
                                },
                                {
                                    "0": "dataanalysis.contactfielddefinitions",
                                    "1": "177"
                                },
                                {
                                    "0": "dataanalysis.respondentfielddefinition",
                                    "1": "123"
                                },
                                {
                                    "0": "dataanalysis.surveydefinitions",
                                    "1": "121"
                                },
                                {
                                    "0": "dataanalysis.questiontypedefinitions",
                                    "1": "7"
                                },
                                {
                                    "0": "dataanalysis.country",
                                    "1": "5"
                                },
                                {
                                    "0": "dataanalysis.gender",
                                    "1": "2"
                                },
                                {
                                    "0": "dataanalysis.surveystatuses",
                                    "1": "2"
                                },
                                {
                                    "0": "dataanalysis.researchsubjectdefinitions",
                                    "1": "1"
                                },
                                {
                                    "0": "dataanalysis.customers",
                                    "1": "1"
                                },
                                {
                                    "0": "dataanalysis.surveytypes",
                                    "1": "1"
                                },
                                {
                                    "0": "dataanalysis.respondenttype",
                                    "1": "1"
                                },
                                {
                                    "0": "dataanalysis.contacttypes",
                                    "1": "1"
                                }
                            ]
                        },
                        "text/html": "<table><tr><th>bron</th><th>aantal</th></tr><tr><td>dataanalysis.contactfields</td><td>6139710</td></tr><tr><td>dataanalysis.respondentfield</td><td>1088470</td></tr><tr><td>dataanalysis.answerresults</td><td>1006859</td></tr><tr><td>dataanalysis.contactinvites</td><td>955809</td></tr><tr><td>dataanalysis.questionresults</td><td>908995</td></tr><tr><td>dataanalysis.contacts</td><td>586827</td></tr><tr><td>dataanalysis.contactresponses</td><td>175676</td></tr><tr><td>dataanalysis.respondent</td><td>54502</td></tr><tr><td>dataanalysis.surveyresults</td><td>54502</td></tr><tr><td>dataanalysis.answerdefinitions</td><td>9769</td></tr><tr><td>dataanalysis.questiondefinitions</td><td>3792</td></tr><tr><td>dataanalysis.loginfo</td><td>378</td></tr><tr><td>dataanalysis.contactfielddefinitions</td><td>177</td></tr><tr><td>dataanalysis.respondentfielddefinition</td><td>123</td></tr><tr><td>dataanalysis.surveydefinitions</td><td>121</td></tr><tr><td>dataanalysis.questiontypedefinitions</td><td>7</td></tr><tr><td>dataanalysis.country</td><td>5</td></tr><tr><td>dataanalysis.gender</td><td>2</td></tr><tr><td>dataanalysis.surveystatuses</td><td>2</td></tr><tr><td>dataanalysis.researchsubjectdefinitions</td><td>1</td></tr><tr><td>dataanalysis.customers</td><td>1</td></tr><tr><td>dataanalysis.surveytypes</td><td>1</td></tr><tr><td>dataanalysis.respondenttype</td><td>1</td></tr><tr><td>dataanalysis.contacttypes</td><td>1</td></tr></table>"
                    },
                    "metadata": {}
                }
            ],
            "execution_count": 10
        },
        {
            "cell_type": "markdown",
            "source": [
                "## Tabellen kcmdump"
            ],
            "metadata": {
                "azdata_cell_guid": "fd2c1736-0bf6-412c-869d-a92f68c9b760"
            },
            "attachments": {}
        },
        {
            "cell_type": "code",
            "source": [
                "select 'kcm_dump.loginfo' as bron, count(*) as aantal, min(datecreated) as min_created, max(datecreated) as max_created from kcm_dump.loginfo union\r\n",
                "select 'kcm_dump.surveycontacts' as bron, count(*) as aantal, min(datecreated) as min_created, max(datecreated) as max_created from kcm_dump.surveycontacts union\r\n",
                "select 'kcm_dump.surveydetails' as bron, count(*) as aantal, min(datecreated) as min_created, max(datecreated) as max_created from kcm_dump.surveydetails union\r\n",
                "select 'kcm_dump.surveylists' as bron, count(*) as aantal, min(datecreated) as min_created, max(datecreated) as max_created from kcm_dump.surveylists union\r\n",
                "select 'kcm_dump.surveyquestionexports' as bron, count(*) as aantal, min(datecreated) as min_created, max(datecreated) as max_created from kcm_dump.surveyquestionexports union\r\n",
                "select 'kcm_dump.surveyresultexports' as bron, count(*) as aantal, min(datecreated) as min_created, max(datecreated) as max_created from kcm_dump.surveyresultexports "
            ],
            "metadata": {
                "azdata_cell_guid": "d9f9ad60-b8d9-4d56-914a-98e60665f322"
            },
            "outputs": [
                {
                    "output_type": "display_data",
                    "data": {
                        "text/html": "(6 row(s) affected)"
                    },
                    "metadata": {}
                },
                {
                    "output_type": "display_data",
                    "data": {
                        "text/html": "Total execution time: 00:00:00.061"
                    },
                    "metadata": {}
                },
                {
                    "output_type": "execute_result",
                    "execution_count": 9,
                    "data": {
                        "application/vnd.dataresource+json": {
                            "schema": {
                                "fields": [
                                    {
                                        "name": "bron"
                                    },
                                    {
                                        "name": "aantal"
                                    },
                                    {
                                        "name": "min_created"
                                    },
                                    {
                                        "name": "max_created"
                                    }
                                ]
                            },
                            "data": [
                                {
                                    "0": "kcm_dump.surveydetails",
                                    "1": "3568",
                                    "2": "2022-01-29T05:16:59.483000",
                                    "3": "2022-02-09T13:51:38.653000"
                                },
                                {
                                    "0": "kcm_dump.surveyresultexports",
                                    "1": "227",
                                    "2": "2022-01-29T05:17:35.936000",
                                    "3": "2022-02-09T13:51:40.435000"
                                },
                                {
                                    "0": "kcm_dump.surveylists",
                                    "1": "2413",
                                    "2": "2021-06-22T12:41:25.697000",
                                    "3": "2022-02-09T13:46:45.622000"
                                },
                                {
                                    "0": "kcm_dump.surveyquestionexports",
                                    "1": "242",
                                    "2": "2021-06-07T10:34:15.474000",
                                    "3": "2022-02-08T10:24:24.517000"
                                },
                                {
                                    "0": "kcm_dump.surveycontacts",
                                    "1": "654",
                                    "2": "2022-01-29T05:17:19.842000",
                                    "3": "2022-02-09T13:51:44.513000"
                                },
                                {
                                    "0": "kcm_dump.loginfo",
                                    "1": "12727",
                                    "2": "2022-01-25T05:17:15.665000",
                                    "3": "2022-02-09T13:51:44.804000"
                                }
                            ]
                        },
                        "text/html": "<table><tr><th>bron</th><th>aantal</th><th>min_created</th><th>max_created</th></tr><tr><td>kcm_dump.surveydetails</td><td>3568</td><td>2022-01-29T05:16:59.483000</td><td>2022-02-09T13:51:38.653000</td></tr><tr><td>kcm_dump.surveyresultexports</td><td>227</td><td>2022-01-29T05:17:35.936000</td><td>2022-02-09T13:51:40.435000</td></tr><tr><td>kcm_dump.surveylists</td><td>2413</td><td>2021-06-22T12:41:25.697000</td><td>2022-02-09T13:46:45.622000</td></tr><tr><td>kcm_dump.surveyquestionexports</td><td>242</td><td>2021-06-07T10:34:15.474000</td><td>2022-02-08T10:24:24.517000</td></tr><tr><td>kcm_dump.surveycontacts</td><td>654</td><td>2022-01-29T05:17:19.842000</td><td>2022-02-09T13:51:44.513000</td></tr><tr><td>kcm_dump.loginfo</td><td>12727</td><td>2022-01-25T05:17:15.665000</td><td>2022-02-09T13:51:44.804000</td></tr></table>"
                    },
                    "metadata": {}
                }
            ],
            "execution_count": 9
        },
        {
            "cell_type": "markdown",
            "source": [
                "## Voorbeeld data\r\n",
                ""
            ],
            "metadata": {
                "azdata_cell_guid": "f2e618a7-9953-423a-815d-f7953af8e343"
            },
            "attachments": {}
        },
        {
            "cell_type": "code",
            "source": [
                "select * from dataanalysis.surveydefinitions where externalreference = 'STN660' limit 2;\r\n",
                "select * from dataanalysis.plaindump limit 2;\r\n",
                "select * from dataanalysis.plaindump limit 2;\r\n",
                "select * from dataanalysis.respondenten limit 2;\r\n",
                "select * from dataanalysis.respondentvelden limit 2;\r\n",
                "select * from dataanalysis.resultaten limit 2;\r\n",
                "select * from dataanalysis.surveys limit 2;\r\n",
                "select * from dataanalysis.vragen limit 2;\r\n",
                "select * from dataanalysis.vw_surveydefinitions limit 2;\r\n",
                "select * from dataanalysis.vw_surveylist limit 2;\r\n",
                ""
            ],
            "metadata": {
                "azdata_cell_guid": "129c1775-1ff7-4561-bfed-67f3ac5d0cc2"
            },
            "outputs": [
                {
                    "output_type": "display_data",
                    "data": {
                        "text/html": "(1 row(s) affected)"
                    },
                    "metadata": {}
                },
                {
                    "output_type": "display_data",
                    "data": {
                        "text/html": "(2 row(s) affected)"
                    },
                    "metadata": {}
                },
                {
                    "output_type": "display_data",
                    "data": {
                        "text/html": "(2 row(s) affected)"
                    },
                    "metadata": {}
                },
                {
                    "output_type": "display_data",
                    "data": {
                        "text/html": "Total execution time: 00:00:20.210"
                    },
                    "metadata": {}
                },
                {
                    "output_type": "execute_result",
                    "execution_count": 16,
                    "data": {
                        "application/vnd.dataresource+json": {
                            "schema": {
                                "fields": [
                                    {
                                        "name": "surveydefinitionid"
                                    },
                                    {
                                        "name": "guid"
                                    },
                                    {
                                        "name": "name"
                                    },
                                    {
                                        "name": "description"
                                    },
                                    {
                                        "name": "researchsubjectdefinitionid"
                                    },
                                    {
                                        "name": "surveytypeid"
                                    },
                                    {
                                        "name": "externalreference"
                                    },
                                    {
                                        "name": "datestart"
                                    },
                                    {
                                        "name": "dateend"
                                    },
                                    {
                                        "name": "datecreated"
                                    },
                                    {
                                        "name": "datemodified"
                                    },
                                    {
                                        "name": "datedeleted"
                                    },
                                    {
                                        "name": "surveystatusid"
                                    },
                                    {
                                        "name": "datelastincompleteresponse"
                                    },
                                    {
                                        "name": "datelastcontact"
                                    },
                                    {
                                        "name": "datelastinvite"
                                    },
                                    {
                                        "name": "datelastreminder"
                                    },
                                    {
                                        "name": "datelastdelivery"
                                    },
                                    {
                                        "name": "kcm_datequestionsmodified"
                                    },
                                    {
                                        "name": "kcm_datelastresponse"
                                    }
                                ]
                            },
                            "data": [
                                {
                                    "0": "102",
                                    "1": "b22ab681-7b54-429b-9ffc-0b6496ddeb0e",
                                    "2": "Schoonmaakonderhoud",
                                    "3": "Nieuw per 1-1-2020",
                                    "4": "1",
                                    "5": "1",
                                    "6": "STN660",
                                    "7": "2020-01-21T00:00:00",
                                    "8": "2022-02-09T13:56:39.435000",
                                    "9": "2021-06-04T18:20:58.875000",
                                    "10": "2022-02-09T13:56:39.435000",
                                    "11": "NULL",
                                    "12": "2",
                                    "13": "2022-02-09T13:31:47",
                                    "14": "2022-02-08T12:21:03",
                                    "15": "2022-02-03T12:21:58",
                                    "16": "2022-02-08T12:22:14",
                                    "17": "2022-02-08T12:23:15",
                                    "18": "2021-12-30T14:06:52",
                                    "19": "2022-02-09T11:50:38"
                                }
                            ]
                        },
                        "text/html": "<table><tr><th>surveydefinitionid</th><th>guid</th><th>name</th><th>description</th><th>researchsubjectdefinitionid</th><th>surveytypeid</th><th>externalreference</th><th>datestart</th><th>dateend</th><th>datecreated</th><th>datemodified</th><th>datedeleted</th><th>surveystatusid</th><th>datelastincompleteresponse</th><th>datelastcontact</th><th>datelastinvite</th><th>datelastreminder</th><th>datelastdelivery</th><th>kcm_datequestionsmodified</th><th>kcm_datelastresponse</th></tr><tr><td>102</td><td>b22ab681-7b54-429b-9ffc-0b6496ddeb0e</td><td>Schoonmaakonderhoud</td><td>Nieuw per 1-1-2020</td><td>1</td><td>1</td><td>STN660</td><td>2020-01-21T00:00:00</td><td>2022-02-09T13:56:39.435000</td><td>2021-06-04T18:20:58.875000</td><td>2022-02-09T13:56:39.435000</td><td>NULL</td><td>2</td><td>2022-02-09T13:31:47</td><td>2022-02-08T12:21:03</td><td>2022-02-03T12:21:58</td><td>2022-02-08T12:22:14</td><td>2022-02-08T12:23:15</td><td>2021-12-30T14:06:52</td><td>2022-02-09T11:50:38</td></tr></table>"
                    },
                    "metadata": {}
                },
                {
                    "output_type": "execute_result",
                    "execution_count": 16,
                    "data": {
                        "application/vnd.dataresource+json": {
                            "schema": {
                                "fields": [
                                    {
                                        "name": "Customer"
                                    },
                                    {
                                        "name": "CustomerReference"
                                    },
                                    {
                                        "name": "CustomerIdentifier"
                                    },
                                    {
                                        "name": "ResearchSubject"
                                    },
                                    {
                                        "name": "ResearchIdentifier"
                                    },
                                    {
                                        "name": "SurveyDefinition"
                                    },
                                    {
                                        "name": "SurveyReference"
                                    },
                                    {
                                        "name": "SurveyIdentifier"
                                    },
                                    {
                                        "name": "SurveyType"
                                    },
                                    {
                                        "name": "RespondentReference"
                                    },
                                    {
                                        "name": "RespondentIdentifier"
                                    },
                                    {
                                        "name": "RespondentType"
                                    },
                                    {
                                        "name": "RespondentEmail"
                                    },
                                    {
                                        "name": "CompletionDate"
                                    },
                                    {
                                        "name": "QuestionIdentifier"
                                    },
                                    {
                                        "name": "QuestionReference"
                                    },
                                    {
                                        "name": "Question"
                                    },
                                    {
                                        "name": "QuestionType"
                                    },
                                    {
                                        "name": "Answer"
                                    },
                                    {
                                        "name": "AnswerDefinitionReference"
                                    },
                                    {
                                        "name": "AnswerDefinitionIdentifier"
                                    },
                                    {
                                        "name": "TextMiningJSON"
                                    }
                                ]
                            },
                            "data": [
                                {
                                    "0": "STAEDION",
                                    "1": "c25dd9af-9bba-4131-93d2-3f2f8d242b77",
                                    "2": "3c8d0228-c191-4160-9f00-cdc1a88ef887",
                                    "3": "Algemeen",
                                    "4": "f9b1fba3-7243-4f9c-b9b5-f036a86e46a8",
                                    "5": "Betaalregeling treffen",
                                    "6": "STN812",
                                    "7": "ab888912-7efb-4521-983f-7b4d1bf5682c",
                                    "8": "online",
                                    "9": "STN812_STN812RF1938B",
                                    "10": "77c79570-322f-443d-813b-954b60d6f1d4",
                                    "11": "standaard",
                                    "12": "NULL",
                                    "13": "2022-01-20T12:24:42",
                                    "14": "b838e93e-1760-4d0f-9ab0-e939f5162c77",
                                    "15": "STN812Q1000616316",
                                    "16": "Staedion heeft met u gesproken over hoe we u kunnen helpen met het betalen van de huur. Wat vond u van de manier waarop we u geholpen hebben? Geef een rapportcijfer. Een 1 is ‘Ik ben zeer ontevreden’ en een 10 is ‘Ik ben zeer tevreden’. ",
                                    "17": "score",
                                    "18": "10",
                                    "19": "STN812Q1000616316A10",
                                    "20": "8760fe79-2053-47df-86df-86b8ca958915",
                                    "21": "NULL"
                                },
                                {
                                    "0": "STAEDION",
                                    "1": "c25dd9af-9bba-4131-93d2-3f2f8d242b77",
                                    "2": "3c8d0228-c191-4160-9f00-cdc1a88ef887",
                                    "3": "Algemeen",
                                    "4": "f9b1fba3-7243-4f9c-b9b5-f036a86e46a8",
                                    "5": "Betaalregeling treffen",
                                    "6": "STN812",
                                    "7": "ab888912-7efb-4521-983f-7b4d1bf5682c",
                                    "8": "online",
                                    "9": "STN812_STN812RF1938B",
                                    "10": "77c79570-322f-443d-813b-954b60d6f1d4",
                                    "11": "standaard",
                                    "12": "NULL",
                                    "13": "2022-01-20T12:24:42",
                                    "14": "564694fc-c6a2-49c9-8156-08138ca80084",
                                    "15": "STN812Q1000616319",
                                    "16": "Bedankt voor uw beoordeling. Wat hebben wij goed gedaan volgens u? U mag meer antwoorden geven.",
                                    "17": "select_multiple",
                                    "18": "Vriendelijk zijn",
                                    "19": "STN812Q1000616319A4",
                                    "20": "013f7e24-4cbf-4fda-971f-80e9805d6f9d",
                                    "21": "NULL"
                                }
                            ]
                        },
                        "text/html": "<table><tr><th>Customer</th><th>CustomerReference</th><th>CustomerIdentifier</th><th>ResearchSubject</th><th>ResearchIdentifier</th><th>SurveyDefinition</th><th>SurveyReference</th><th>SurveyIdentifier</th><th>SurveyType</th><th>RespondentReference</th><th>RespondentIdentifier</th><th>RespondentType</th><th>RespondentEmail</th><th>CompletionDate</th><th>QuestionIdentifier</th><th>QuestionReference</th><th>Question</th><th>QuestionType</th><th>Answer</th><th>AnswerDefinitionReference</th><th>AnswerDefinitionIdentifier</th><th>TextMiningJSON</th></tr><tr><td>STAEDION</td><td>c25dd9af-9bba-4131-93d2-3f2f8d242b77</td><td>3c8d0228-c191-4160-9f00-cdc1a88ef887</td><td>Algemeen</td><td>f9b1fba3-7243-4f9c-b9b5-f036a86e46a8</td><td>Betaalregeling treffen</td><td>STN812</td><td>ab888912-7efb-4521-983f-7b4d1bf5682c</td><td>online</td><td>STN812_STN812RF1938B</td><td>77c79570-322f-443d-813b-954b60d6f1d4</td><td>standaard</td><td>NULL</td><td>2022-01-20T12:24:42</td><td>b838e93e-1760-4d0f-9ab0-e939f5162c77</td><td>STN812Q1000616316</td><td>Staedion heeft met u gesproken over hoe we u kunnen helpen met het betalen van de huur. Wat vond u van de manier waarop we u geholpen hebben? Geef een rapportcijfer. Een 1 is ‘Ik ben zeer ontevreden’ en een 10 is ‘Ik ben zeer tevreden’. </td><td>score</td><td>10</td><td>STN812Q1000616316A10</td><td>8760fe79-2053-47df-86df-86b8ca958915</td><td>NULL</td></tr><tr><td>STAEDION</td><td>c25dd9af-9bba-4131-93d2-3f2f8d242b77</td><td>3c8d0228-c191-4160-9f00-cdc1a88ef887</td><td>Algemeen</td><td>f9b1fba3-7243-4f9c-b9b5-f036a86e46a8</td><td>Betaalregeling treffen</td><td>STN812</td><td>ab888912-7efb-4521-983f-7b4d1bf5682c</td><td>online</td><td>STN812_STN812RF1938B</td><td>77c79570-322f-443d-813b-954b60d6f1d4</td><td>standaard</td><td>NULL</td><td>2022-01-20T12:24:42</td><td>564694fc-c6a2-49c9-8156-08138ca80084</td><td>STN812Q1000616319</td><td>Bedankt voor uw beoordeling. Wat hebben wij goed gedaan volgens u? U mag meer antwoorden geven.</td><td>select_multiple</td><td>Vriendelijk zijn</td><td>STN812Q1000616319A4</td><td>013f7e24-4cbf-4fda-971f-80e9805d6f9d</td><td>NULL</td></tr></table>"
                    },
                    "metadata": {}
                },
                {
                    "output_type": "execute_result",
                    "execution_count": 16,
                    "data": {
                        "application/vnd.dataresource+json": {
                            "schema": {
                                "fields": [
                                    {
                                        "name": "Customer"
                                    },
                                    {
                                        "name": "CustomerReference"
                                    },
                                    {
                                        "name": "CustomerIdentifier"
                                    },
                                    {
                                        "name": "ResearchSubject"
                                    },
                                    {
                                        "name": "ResearchIdentifier"
                                    },
                                    {
                                        "name": "SurveyDefinition"
                                    },
                                    {
                                        "name": "SurveyReference"
                                    },
                                    {
                                        "name": "SurveyIdentifier"
                                    },
                                    {
                                        "name": "SurveyType"
                                    },
                                    {
                                        "name": "RespondentReference"
                                    },
                                    {
                                        "name": "RespondentIdentifier"
                                    },
                                    {
                                        "name": "RespondentType"
                                    },
                                    {
                                        "name": "RespondentEmail"
                                    },
                                    {
                                        "name": "CompletionDate"
                                    },
                                    {
                                        "name": "QuestionIdentifier"
                                    },
                                    {
                                        "name": "QuestionReference"
                                    },
                                    {
                                        "name": "Question"
                                    },
                                    {
                                        "name": "QuestionType"
                                    },
                                    {
                                        "name": "Answer"
                                    },
                                    {
                                        "name": "AnswerDefinitionReference"
                                    },
                                    {
                                        "name": "AnswerDefinitionIdentifier"
                                    },
                                    {
                                        "name": "TextMiningJSON"
                                    }
                                ]
                            },
                            "data": [
                                {
                                    "0": "STAEDION",
                                    "1": "c25dd9af-9bba-4131-93d2-3f2f8d242b77",
                                    "2": "3c8d0228-c191-4160-9f00-cdc1a88ef887",
                                    "3": "Algemeen",
                                    "4": "f9b1fba3-7243-4f9c-b9b5-f036a86e46a8",
                                    "5": "Betaalregeling treffen",
                                    "6": "STN812",
                                    "7": "ab888912-7efb-4521-983f-7b4d1bf5682c",
                                    "8": "online",
                                    "9": "STN812_STN812RF1938B",
                                    "10": "77c79570-322f-443d-813b-954b60d6f1d4",
                                    "11": "standaard",
                                    "12": "NULL",
                                    "13": "2022-01-20T12:24:42",
                                    "14": "b838e93e-1760-4d0f-9ab0-e939f5162c77",
                                    "15": "STN812Q1000616316",
                                    "16": "Staedion heeft met u gesproken over hoe we u kunnen helpen met het betalen van de huur. Wat vond u van de manier waarop we u geholpen hebben? Geef een rapportcijfer. Een 1 is ‘Ik ben zeer ontevreden’ en een 10 is ‘Ik ben zeer tevreden’. ",
                                    "17": "score",
                                    "18": "10",
                                    "19": "STN812Q1000616316A10",
                                    "20": "8760fe79-2053-47df-86df-86b8ca958915",
                                    "21": "NULL"
                                },
                                {
                                    "0": "STAEDION",
                                    "1": "c25dd9af-9bba-4131-93d2-3f2f8d242b77",
                                    "2": "3c8d0228-c191-4160-9f00-cdc1a88ef887",
                                    "3": "Algemeen",
                                    "4": "f9b1fba3-7243-4f9c-b9b5-f036a86e46a8",
                                    "5": "Betaalregeling treffen",
                                    "6": "STN812",
                                    "7": "ab888912-7efb-4521-983f-7b4d1bf5682c",
                                    "8": "online",
                                    "9": "STN812_STN812RF1938B",
                                    "10": "77c79570-322f-443d-813b-954b60d6f1d4",
                                    "11": "standaard",
                                    "12": "NULL",
                                    "13": "2022-01-20T12:24:42",
                                    "14": "564694fc-c6a2-49c9-8156-08138ca80084",
                                    "15": "STN812Q1000616319",
                                    "16": "Bedankt voor uw beoordeling. Wat hebben wij goed gedaan volgens u? U mag meer antwoorden geven.",
                                    "17": "select_multiple",
                                    "18": "Vriendelijk zijn",
                                    "19": "STN812Q1000616319A4",
                                    "20": "013f7e24-4cbf-4fda-971f-80e9805d6f9d",
                                    "21": "NULL"
                                }
                            ]
                        },
                        "text/html": "<table><tr><th>Customer</th><th>CustomerReference</th><th>CustomerIdentifier</th><th>ResearchSubject</th><th>ResearchIdentifier</th><th>SurveyDefinition</th><th>SurveyReference</th><th>SurveyIdentifier</th><th>SurveyType</th><th>RespondentReference</th><th>RespondentIdentifier</th><th>RespondentType</th><th>RespondentEmail</th><th>CompletionDate</th><th>QuestionIdentifier</th><th>QuestionReference</th><th>Question</th><th>QuestionType</th><th>Answer</th><th>AnswerDefinitionReference</th><th>AnswerDefinitionIdentifier</th><th>TextMiningJSON</th></tr><tr><td>STAEDION</td><td>c25dd9af-9bba-4131-93d2-3f2f8d242b77</td><td>3c8d0228-c191-4160-9f00-cdc1a88ef887</td><td>Algemeen</td><td>f9b1fba3-7243-4f9c-b9b5-f036a86e46a8</td><td>Betaalregeling treffen</td><td>STN812</td><td>ab888912-7efb-4521-983f-7b4d1bf5682c</td><td>online</td><td>STN812_STN812RF1938B</td><td>77c79570-322f-443d-813b-954b60d6f1d4</td><td>standaard</td><td>NULL</td><td>2022-01-20T12:24:42</td><td>b838e93e-1760-4d0f-9ab0-e939f5162c77</td><td>STN812Q1000616316</td><td>Staedion heeft met u gesproken over hoe we u kunnen helpen met het betalen van de huur. Wat vond u van de manier waarop we u geholpen hebben? Geef een rapportcijfer. Een 1 is ‘Ik ben zeer ontevreden’ en een 10 is ‘Ik ben zeer tevreden’. </td><td>score</td><td>10</td><td>STN812Q1000616316A10</td><td>8760fe79-2053-47df-86df-86b8ca958915</td><td>NULL</td></tr><tr><td>STAEDION</td><td>c25dd9af-9bba-4131-93d2-3f2f8d242b77</td><td>3c8d0228-c191-4160-9f00-cdc1a88ef887</td><td>Algemeen</td><td>f9b1fba3-7243-4f9c-b9b5-f036a86e46a8</td><td>Betaalregeling treffen</td><td>STN812</td><td>ab888912-7efb-4521-983f-7b4d1bf5682c</td><td>online</td><td>STN812_STN812RF1938B</td><td>77c79570-322f-443d-813b-954b60d6f1d4</td><td>standaard</td><td>NULL</td><td>2022-01-20T12:24:42</td><td>564694fc-c6a2-49c9-8156-08138ca80084</td><td>STN812Q1000616319</td><td>Bedankt voor uw beoordeling. Wat hebben wij goed gedaan volgens u? U mag meer antwoorden geven.</td><td>select_multiple</td><td>Vriendelijk zijn</td><td>STN812Q1000616319A4</td><td>013f7e24-4cbf-4fda-971f-80e9805d6f9d</td><td>NULL</td></tr></table>"
                    },
                    "metadata": {}
                },
                {
                    "output_type": "error",
                    "ename": "",
                    "evalue": "permission denied for view respondenten",
                    "traceback": []
                }
            ],
            "execution_count": 16
        }
    ]
}