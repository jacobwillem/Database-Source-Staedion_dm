{
    "metadata": {
        "kernelspec": {
            "name": "SQL",
            "display_name": "SQL",
            "language": "sql"
        },
        "language_info": {
            "name": "sql",
            "version": ""
        }
    },
    "nbformat_minor": 2,
    "nbformat": 4,
    "cells": [
        {
            "cell_type": "markdown",
            "source": [
                "# KCM Analyse database\n",
                "\n",
                "  \n",
                "\n",
                "· [KCM rapportage omgeving](onenote:https://staedionict.sharepoint.com/sites/DataEngineers/SiteAssets/Data%20Engineers%20Notitieblok/DATABRONNEN/KCM%20rapportage%20omgeving.one#&section-id=d53efded-1059-4a77-b180-a5c2c4f39213&end)  ([Webweergave](https://staedionict.sharepoint.com/sites/DataEngineers/_layouts/15/Doc.aspx?sourcedoc=%7bcb7436b0-798b-4806-81a3-424eeab955cb%7d&action=edit&wd=target%28DATABRONNEN%2FKCM%20rapportage%20omgeving.one%7Cd53efded-1059-4a77-b180-a5c2c4f39213%2F%29&wdorigin=717&wdpreservelink=1) )"
            ],
            "metadata": {
                "azdata_cell_guid": "8661e30e-cd73-4c52-92c7-c4ac25e925b2"
            },
            "attachments": {}
        },
        {
            "cell_type": "markdown",
            "source": [
                "## Tabellen data-analysis"
            ],
            "metadata": {
                "azdata_cell_guid": "bc8cbe91-f96d-415e-ae44-195c2a2c20a2"
            },
            "attachments": {}
        },
        {
            "cell_type": "code",
            "source": [
                "select 'dataanalysis.answerdefinitions' as bron, count(*) as aantal from dataanalysis.answerdefinitions union\r\n",
                "select 'dataanalysis.answerresults' as bron, count(*) as aantal from dataanalysis.answerresults union\r\n",
                "select 'dataanalysis.contactfielddefinitions' as bron, count(*) as aantal from dataanalysis.contactfielddefinitions union\r\n",
                "select 'dataanalysis.contactfields' as bron, count(*) as aantal from dataanalysis.contactfields union\r\n",
                "select 'dataanalysis.contactinvites' as bron, count(*) as aantal from dataanalysis.contactinvites union\r\n",
                "select 'dataanalysis.contactresponses' as bron, count(*) as aantal from dataanalysis.contactresponses union\r\n",
                "select 'dataanalysis.contacts' as bron, count(*) as aantal from dataanalysis.contacts union\r\n",
                "select 'dataanalysis.contacttypes' as bron, count(*) as aantal from dataanalysis.contacttypes union\r\n",
                "select 'dataanalysis.country' as bron, count(*) as aantal from dataanalysis.country union\r\n",
                "select 'dataanalysis.customers' as bron, count(*) as aantal from dataanalysis.customers union\r\n",
                "select 'dataanalysis.gender' as bron, count(*) as aantal from dataanalysis.gender union\r\n",
                "select 'dataanalysis.loginfo' as bron, count(*) as aantal from dataanalysis.loginfo union\r\n",
                "select 'dataanalysis.questiondefinitions' as bron, count(*) as aantal from dataanalysis.questiondefinitions union\r\n",
                "select 'dataanalysis.questionresults' as bron, count(*) as aantal from dataanalysis.questionresults union\r\n",
                "select 'dataanalysis.questiontypedefinitions' as bron, count(*) as aantal from dataanalysis.questiontypedefinitions union\r\n",
                "select 'dataanalysis.researchsubjectdefinitions' as bron, count(*) as aantal from dataanalysis.researchsubjectdefinitions union\r\n",
                "select 'dataanalysis.respondent' as bron, count(*) as aantal from dataanalysis.respondent union\r\n",
                "select 'dataanalysis.respondentfield' as bron, count(*) as aantal from dataanalysis.respondentfield union\r\n",
                "select 'dataanalysis.respondentfielddefinition' as bron, count(*) as aantal from dataanalysis.respondentfielddefinition union\r\n",
                "select 'dataanalysis.respondenttype' as bron, count(*) as aantal from dataanalysis.respondenttype union\r\n",
                "select 'dataanalysis.surveydefinitions' as bron, count(*) as aantal from dataanalysis.surveydefinitions union\r\n",
                "select 'dataanalysis.surveyresults' as bron, count(*) as aantal from dataanalysis.surveyresults union\r\n",
                "select 'dataanalysis.surveystatuses' as bron, count(*) as aantal from dataanalysis.surveystatuses union\r\n",
                "select 'dataanalysis.surveytypes' as bron, count(*) as aantal from dataanalysis.surveytypes \r\n",
                "order by 2 desc"
            ],
            "metadata": {
                "azdata_cell_guid": "2c1c83fd-2e1b-4e46-9c5f-9364d27e2050",
                "tags": []
            },
            "outputs": [],
            "execution_count": null
        },
        {
            "cell_type": "markdown",
            "source": [
                "## Tabellen kcmdump"
            ],
            "metadata": {
                "azdata_cell_guid": "fd2c1736-0bf6-412c-869d-a92f68c9b760"
            },
            "attachments": {}
        },
        {
            "cell_type": "code",
            "source": [
                "select 'kcm_dump.loginfo' as bron, count(*) as aantal, min(datecreated) as min_created, max(datecreated) as max_created from kcm_dump.loginfo union\r\n",
                "select 'kcm_dump.surveycontacts' as bron, count(*) as aantal, min(datecreated) as min_created, max(datecreated) as max_created from kcm_dump.surveycontacts union\r\n",
                "select 'kcm_dump.surveydetails' as bron, count(*) as aantal, min(datecreated) as min_created, max(datecreated) as max_created from kcm_dump.surveydetails union\r\n",
                "select 'kcm_dump.surveylists' as bron, count(*) as aantal, min(datecreated) as min_created, max(datecreated) as max_created from kcm_dump.surveylists union\r\n",
                "select 'kcm_dump.surveyquestionexports' as bron, count(*) as aantal, min(datecreated) as min_created, max(datecreated) as max_created from kcm_dump.surveyquestionexports union\r\n",
                "select 'kcm_dump.surveyresultexports' as bron, count(*) as aantal, min(datecreated) as min_created, max(datecreated) as max_created from kcm_dump.surveyresultexports "
            ],
            "metadata": {
                "azdata_cell_guid": "d9f9ad60-b8d9-4d56-914a-98e60665f322"
            },
            "outputs": [],
            "execution_count": null
        },
        {
            "cell_type": "markdown",
            "source": [
                "## Voorbeeld data\r\n",
                ""
            ],
            "metadata": {
                "azdata_cell_guid": "f2e618a7-9953-423a-815d-f7953af8e343"
            },
            "attachments": {}
        },
        {
            "cell_type": "code",
            "source": [
                "-- limit genereert foutmelding in azure data studio ?\r\n",
                "select * from dataanalysis.surveydefinitions where externalreference = 'STN660' limit 2;\r\n",
                "select * from dataanalysis.plaindump limit 2;\r\n",
                "select * from dataanalysis.plaindump limit 2;\r\n",
                "select * from dataanalysis.respondenten limit 2;\r\n",
                "select * from dataanalysis.respondentvelden limit 2;\r\n",
                "select * from dataanalysis.resultaten limit 2;\r\n",
                "select * from dataanalysis.surveys limit 2;\r\n",
                "select * from dataanalysis.vragen limit 2;\r\n",
                "select * from dataanalysis.vw_surveydefinitions limit 2;\r\n",
                "select * from dataanalysis.vw_surveylist limit 2;\r\n",
                ""
            ],
            "metadata": {
                "azdata_cell_guid": "129c1775-1ff7-4561-bfed-67f3ac5d0cc2"
            },
            "outputs": [],
            "execution_count": null
        },
        {
            "cell_type": "code",
            "source": [
                "-- limit genereert foutmelding in azure data studio ?\r\n",
                "select * from dataanalysis.Country limit 2;\r\n",
                "select * from dataanalysis.Gender limit 2;\r\n",
                "select * from dataanalysis.Contacttypes limit 2;\r\n",
                "select * from dataanalysis.Contactresponses limit 3;\r\n",
                "select * from dataanalysis.Customers limit 3;\r\n",
                "select * from dataanalysis.Researchsubjectdefinitions limit 2;\r\n",
                "select * from dataanalysis.Questiontypedefinitions limit 2;\r\n",
                "select * from dataanalysis.Surveytypes limit 2;\r\n",
                "select * from dataanalysis.RespondentType limit 2;\r\n",
                "select * from dataanalysis.respondentFieldDefinition limit 5;\r\n",
                "select * from dataanalysis.RespondentField limit 2;\r\n",
                "\r\n",
                ""
            ],
            "metadata": {
                "azdata_cell_guid": "0aaab49c-bf7d-473e-99a3-00924c0ac9ac"
            },
            "outputs": [
                {
                    "output_type": "display_data",
                    "data": {
                        "text/html": "(2 row(s) affected)"
                    },
                    "metadata": {}
                },
                {
                    "output_type": "display_data",
                    "data": {
                        "text/html": "Total execution time: 00:00:00.095"
                    },
                    "metadata": {}
                },
                {
                    "output_type": "execute_result",
                    "metadata": {},
                    "execution_count": 20,
                    "data": {
                        "application/vnd.dataresource+json": {
                            "schema": {
                                "fields": [
                                    {
                                        "name": "respondentfieldid"
                                    },
                                    {
                                        "name": "guid"
                                    },
                                    {
                                        "name": "respondentfielddefinitionid"
                                    },
                                    {
                                        "name": "respondentid"
                                    },
                                    {
                                        "name": "fieldvalue"
                                    },
                                    {
                                        "name": "datecreated"
                                    },
                                    {
                                        "name": "datemodified"
                                    },
                                    {
                                        "name": "datedeleted"
                                    }
                                ]
                            },
                            "data": [
                                {
                                    "0": "1341753",
                                    "1": "04ee8d8e-4453-4a65-a26b-362616364675",
                                    "2": "122",
                                    "3": "77392",
                                    "4": "Noordpolderkade 97-129",
                                    "5": "2021-06-08T13:33:24.951000",
                                    "6": "2021-06-08T13:33:24.951000",
                                    "7": "NULL"
                                },
                                {
                                    "0": "1341754",
                                    "1": "9df3bf85-f8a0-48ca-9420-0b4d604b08b6",
                                    "2": "151",
                                    "3": "77392",
                                    "4": "BB-1550C",
                                    "5": "2021-06-08T13:33:24.951000",
                                    "6": "2021-06-08T13:33:24.951000",
                                    "7": "NULL"
                                }
                            ]
                        },
                        "text/html": [
                            "<table>",
                            "<tr><th>respondentfieldid</th><th>guid</th><th>respondentfielddefinitionid</th><th>respondentid</th><th>fieldvalue</th><th>datecreated</th><th>datemodified</th><th>datedeleted</th></tr>",
                            "<tr><td>1341753</td><td>04ee8d8e-4453-4a65-a26b-362616364675</td><td>122</td><td>77392</td><td>Noordpolderkade 97-129</td><td>2021-06-08T13:33:24.951000</td><td>2021-06-08T13:33:24.951000</td><td>NULL</td></tr>",
                            "<tr><td>1341754</td><td>9df3bf85-f8a0-48ca-9420-0b4d604b08b6</td><td>151</td><td>77392</td><td>BB-1550C</td><td>2021-06-08T13:33:24.951000</td><td>2021-06-08T13:33:24.951000</td><td>NULL</td></tr>",
                            "</table>"
                        ]
                    }
                }
            ],
            "execution_count": 20
        }
    ]
}