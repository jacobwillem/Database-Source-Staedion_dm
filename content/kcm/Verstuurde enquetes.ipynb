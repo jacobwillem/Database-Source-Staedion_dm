{
    "metadata": {
        "kernelspec": {
            "name": "SQL",
            "display_name": "SQL",
            "language": "sql"
        },
        "language_info": {
            "name": "sql",
            "version": ""
        }
    },
    "nbformat_minor": 2,
    "nbformat": 4,
    "cells": [
        {
            "cell_type": "markdown",
            "source": [
                "# Verstuurde enquetes (nog verder uit te werken)"
            ],
            "metadata": {
                "azdata_cell_guid": "56b2ca7e-7600-4ea5-bfe3-f57a9b400258"
            },
            "attachments": {}
        },
        {
            "cell_type": "markdown",
            "source": [
                "## Uitval ?"
            ],
            "metadata": {
                "azdata_cell_guid": "77f16526-067c-40ea-ad7e-8fbb120b8542"
            },
            "attachments": {}
        },
        {
            "cell_type": "code",
            "source": [
                "select left(displayname,6), cast(datecreated as date) as datum,importerrormessage,count(*)\r\n",
                "from dataanalysis.contacts\r\n",
                "where extract(year from datecreated) = 2022\r\n",
                "  and extract(month from datecreated) = 2\r\n",
                "    --and extract(day from datecreated)  =2\r\n",
                "\tand displayname like 'STN661%'\r\n",
                "group by left(displayname,6), cast(datecreated as date),importerrormessage\r\n",
                ";"
            ],
            "metadata": {
                "azdata_cell_guid": "35631631-f61f-4326-906e-671c2f2ff4a8"
            },
            "outputs": [],
            "execution_count": null
        },
        {
            "cell_type": "markdown",
            "source": [
                "## Verstuurde enquetes"
            ],
            "metadata": {
                "azdata_cell_guid": "0f136692-65d4-4a71-a69f-21392e08a682"
            },
            "attachments": {}
        },
        {
            "cell_type": "code",
            "source": [
                "select SD.externalreference, SD.name, max(invitedatesent) as laatst_verstuurd\r\n",
                "from dataanalysis.contactinvites as CI\r\n",
                "join dataanalysis.surveydefinitions as SD\r\n",
                "on CI.surveydefinitionid = SD.surveydefinitionid \r\n",
                "group by SD.externalreference, SD.name\r\n",
                "order by 3 desc"
            ],
            "metadata": {
                "azdata_cell_guid": "08451a1d-e563-4873-a3ad-1293c963eddd"
            },
            "outputs": [],
            "execution_count": null
        }
    ]
}