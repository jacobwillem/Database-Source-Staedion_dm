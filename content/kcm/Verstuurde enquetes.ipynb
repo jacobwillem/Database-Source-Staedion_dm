{
    "metadata": {
        "kernelspec": {
            "name": "SQL",
            "display_name": "SQL",
            "language": "sql"
        },
        "language_info": {
            "name": "sql",
            "version": ""
        }
    },
    "nbformat_minor": 2,
    "nbformat": 4,
    "cells": [
        {
            "cell_type": "markdown",
            "source": [
                "# Verstuurde enquetes (nog verder uit te werken)"
            ],
            "metadata": {
                "azdata_cell_guid": "56b2ca7e-7600-4ea5-bfe3-f57a9b400258"
            },
            "attachments": {}
        },
        {
            "cell_type": "markdown",
            "source": [
                "## Uitval ?"
            ],
            "metadata": {
                "azdata_cell_guid": "77f16526-067c-40ea-ad7e-8fbb120b8542"
            },
            "attachments": {}
        },
        {
            "cell_type": "code",
            "source": [
                "select left(displayname,6), cast(datecreated as date) as datum,importerrormessage,count(*)\r\n",
                "-- select min(datecreated)\r\n",
                "from dataanalysis.contacts\r\n",
                "where extract(year from datecreated) = 2022\r\n",
                "  and extract(month from datecreated) = 2\r\n",
                "    --and extract(day from datecreated)  =2\r\n",
                "\tand displayname like 'STN661%'\r\n",
                "group by left(displayname,6), cast(datecreated as date),importerrormessage\r\n",
                ";"
            ],
            "metadata": {
                "azdata_cell_guid": "35631631-f61f-4326-906e-671c2f2ff4a8"
            },
            "outputs": [
                {
                    "output_type": "display_data",
                    "data": {
                        "text/html": "(13 row(s) affected)"
                    },
                    "metadata": {}
                },
                {
                    "output_type": "display_data",
                    "data": {
                        "text/html": "Total execution time: 00:00:00.192"
                    },
                    "metadata": {}
                },
                {
                    "output_type": "execute_result",
                    "metadata": {},
                    "execution_count": 2,
                    "data": {
                        "application/vnd.dataresource+json": {
                            "schema": {
                                "fields": [
                                    {
                                        "name": "left"
                                    },
                                    {
                                        "name": "datum"
                                    },
                                    {
                                        "name": "importerrormessage"
                                    },
                                    {
                                        "name": "count"
                                    }
                                ]
                            },
                            "data": [
                                {
                                    "0": "STN661",
                                    "1": "2022-02-01",
                                    "2": "Invald e-mail address.",
                                    "3": "1"
                                },
                                {
                                    "0": "STN661",
                                    "1": "2022-02-01",
                                    "2": "Present on unsubscribe list.",
                                    "3": "54"
                                },
                                {
                                    "0": "STN661",
                                    "1": "2022-02-01",
                                    "2": "Previously added within exclusion period.",
                                    "3": "14"
                                },
                                {
                                    "0": "STN661",
                                    "1": "2022-02-01",
                                    "2": "NULL",
                                    "3": "638"
                                },
                                {
                                    "0": "STN661",
                                    "1": "2022-02-08",
                                    "2": "Present on unsubscribe list.",
                                    "3": "32"
                                },
                                {
                                    "0": "STN661",
                                    "1": "2022-02-08",
                                    "2": "Previously added within exclusion period.",
                                    "3": "5"
                                },
                                {
                                    "0": "STN661",
                                    "1": "2022-02-08",
                                    "2": "NULL",
                                    "3": "437"
                                },
                                {
                                    "0": "STN661",
                                    "1": "2022-02-15",
                                    "2": "Present on unsubscribe list.",
                                    "3": "47"
                                },
                                {
                                    "0": "STN661",
                                    "1": "2022-02-15",
                                    "2": "Previously added within exclusion period.",
                                    "3": "13"
                                },
                                {
                                    "0": "STN661",
                                    "1": "2022-02-15",
                                    "2": "NULL",
                                    "3": "543"
                                },
                                {
                                    "0": "STN661",
                                    "1": "2022-02-22",
                                    "2": "Present on unsubscribe list.",
                                    "3": "29"
                                },
                                {
                                    "0": "STN661",
                                    "1": "2022-02-22",
                                    "2": "Previously added within exclusion period.",
                                    "3": "7"
                                },
                                {
                                    "0": "STN661",
                                    "1": "2022-02-22",
                                    "2": "NULL",
                                    "3": "430"
                                }
                            ]
                        },
                        "text/html": [
                            "<table>",
                            "<tr><th>left</th><th>datum</th><th>importerrormessage</th><th>count</th></tr>",
                            "<tr><td>STN661</td><td>2022-02-01</td><td>Invald e-mail address.</td><td>1</td></tr>",
                            "<tr><td>STN661</td><td>2022-02-01</td><td>Present on unsubscribe list.</td><td>54</td></tr>",
                            "<tr><td>STN661</td><td>2022-02-01</td><td>Previously added within exclusion period.</td><td>14</td></tr>",
                            "<tr><td>STN661</td><td>2022-02-01</td><td>NULL</td><td>638</td></tr>",
                            "<tr><td>STN661</td><td>2022-02-08</td><td>Present on unsubscribe list.</td><td>32</td></tr>",
                            "<tr><td>STN661</td><td>2022-02-08</td><td>Previously added within exclusion period.</td><td>5</td></tr>",
                            "<tr><td>STN661</td><td>2022-02-08</td><td>NULL</td><td>437</td></tr>",
                            "<tr><td>STN661</td><td>2022-02-15</td><td>Present on unsubscribe list.</td><td>47</td></tr>",
                            "<tr><td>STN661</td><td>2022-02-15</td><td>Previously added within exclusion period.</td><td>13</td></tr>",
                            "<tr><td>STN661</td><td>2022-02-15</td><td>NULL</td><td>543</td></tr>",
                            "<tr><td>STN661</td><td>2022-02-22</td><td>Present on unsubscribe list.</td><td>29</td></tr>",
                            "<tr><td>STN661</td><td>2022-02-22</td><td>Previously added within exclusion period.</td><td>7</td></tr>",
                            "<tr><td>STN661</td><td>2022-02-22</td><td>NULL</td><td>430</td></tr>",
                            "</table>"
                        ]
                    }
                }
            ],
            "execution_count": 2
        },
        {
            "cell_type": "code",
            "source": [
                "select min(datecreated)\r\n",
                "from dataanalysis.contacts"
            ],
            "metadata": {
                "azdata_cell_guid": "6db85a2f-919a-4e0a-998d-5581fbc14099"
            },
            "outputs": [
                {
                    "output_type": "display_data",
                    "data": {
                        "text/html": "(1 row(s) affected)"
                    },
                    "metadata": {}
                },
                {
                    "output_type": "display_data",
                    "data": {
                        "text/html": "Total execution time: 00:00:00.149"
                    },
                    "metadata": {}
                },
                {
                    "output_type": "execute_result",
                    "metadata": {},
                    "execution_count": 3,
                    "data": {
                        "application/vnd.dataresource+json": {
                            "schema": {
                                "fields": [
                                    {
                                        "name": "min"
                                    }
                                ]
                            },
                            "data": [
                                {
                                    "0": "2021-06-29T18:02:02.990000"
                                }
                            ]
                        },
                        "text/html": [
                            "<table>",
                            "<tr><th>min</th></tr>",
                            "<tr><td>2021-06-29T18:02:02.990000</td></tr>",
                            "</table>"
                        ]
                    }
                }
            ],
            "execution_count": 3
        },
        {
            "cell_type": "markdown",
            "source": [
                "## Verstuurde enquetes"
            ],
            "metadata": {
                "azdata_cell_guid": "0f136692-65d4-4a71-a69f-21392e08a682"
            },
            "attachments": {}
        },
        {
            "cell_type": "code",
            "source": [
                "select SD.externalreference, SD.name, max(invitedatesent) as laatst_verstuurd\r\n",
                "from dataanalysis.contactinvites as CI\r\n",
                "join dataanalysis.surveydefinitions as SD\r\n",
                "on CI.surveydefinitionid = SD.surveydefinitionid \r\n",
                "group by SD.externalreference, SD.name\r\n",
                "order by 3 desc"
            ],
            "metadata": {
                "azdata_cell_guid": "08451a1d-e563-4873-a3ad-1293c963eddd",
                "tags": []
            },
            "outputs": [
                {
                    "output_type": "display_data",
                    "data": {
                        "text/html": "(66 row(s) affected)"
                    },
                    "metadata": {}
                },
                {
                    "output_type": "display_data",
                    "data": {
                        "text/html": "Total execution time: 00:00:00.877"
                    },
                    "metadata": {}
                },
                {
                    "output_type": "execute_result",
                    "execution_count": 4,
                    "data": {
                        "application/vnd.dataresource+json": {
                            "schema": {
                                "fields": [
                                    {
                                        "name": "externalreference"
                                    },
                                    {
                                        "name": "name"
                                    },
                                    {
                                        "name": "laatst_verstuurd"
                                    }
                                ]
                            },
                            "data": [
                                {
                                    "0": "STN814",
                                    "1": "DO - Eigen dienst",
                                    "2": "2022-02-09T12:22:26"
                                },
                                {
                                    "0": "STN813",
                                    "1": "KTV DO - Deelscore dienstverlening",
                                    "2": "2022-02-09T12:22:21"
                                },
                                {
                                    "0": "STN421",
                                    "1": "Klantenservice I&P",
                                    "2": "2022-02-09T12:22:12"
                                },
                                {
                                    "0": "STN420",
                                    "1": "Klantenservice telefoon",
                                    "2": "2022-02-09T12:22:01"
                                },
                                {
                                    "0": "STN661",
                                    "1": "Stellingen Thuisgevoel / Woonbeleving",
                                    "2": "2022-02-08T15:08:15"
                                },
                                {
                                    "0": "STN812",
                                    "1": "Betaalregeling treffen",
                                    "2": "2022-02-08T12:22:29"
                                },
                                {
                                    "0": "STN660",
                                    "1": "Schoonmaakonderhoud",
                                    "2": "2022-02-08T12:22:14"
                                },
                                {
                                    "0": "STN647",
                                    "1": "BKT",
                                    "2": "2022-02-08T12:22:13"
                                },
                                {
                                    "0": "STN417",
                                    "1": "Klachtenmanagement (Online)",
                                    "2": "2022-02-08T12:21:49"
                                },
                                {
                                    "0": "STN414",
                                    "1": "Huur betalen",
                                    "2": "2022-02-08T12:21:13"
                                },
                                {
                                    "0": "STN410",
                                    "1": "Verlaten woning",
                                    "2": "2022-02-08T12:21:11"
                                },
                                {
                                    "0": "STN407",
                                    "1": "Betrekken woning",
                                    "2": "2022-02-08T12:21:06"
                                },
                                {
                                    "0": "STN418",
                                    "1": "Planmatig onderhoud",
                                    "2": "2022-01-27T12:21:40"
                                },
                                {
                                    "0": "STN659",
                                    "1": "Groenonderhoud",
                                    "2": "2021-12-30T12:21:26"
                                },
                                {
                                    "0": "STN658",
                                    "1": "Dagelijks onderhoud Totaal",
                                    "2": "2021-12-20T12:24:37"
                                },
                                {
                                    "0": "STN746",
                                    "1": "Betrekken woning Evaluatiemail demo",
                                    "2": "2021-05-10T14:51:36"
                                },
                                {
                                    "0": "STN416",
                                    "1": "Stookkosten",
                                    "2": "2020-12-10T12:20:52"
                                },
                                {
                                    "0": "STN695",
                                    "1": "Betrekken woning DEMO EVALUATIE",
                                    "2": "2020-12-08T14:20:38"
                                },
                                {
                                    "0": "STN415",
                                    "1": "Servicekosten",
                                    "2": "2020-03-24T12:20:48"
                                },
                                {
                                    "0": "STN657",
                                    "1": "Langer thuis wonen check",
                                    "2": "2020-01-13T14:39:55"
                                },
                                {
                                    "0": "STN459",
                                    "1": "Dagelijks onderhoud",
                                    "2": "2020-01-08T12:20:18"
                                },
                                {
                                    "0": "STN411",
                                    "1": "Dagelijks onderhoud",
                                    "2": "2020-01-08T12:20:07"
                                },
                                {
                                    "0": "STN409",
                                    "1": "Thuisgevoel / Woonbeleving",
                                    "2": "2020-01-05T15:05:12"
                                },
                                {
                                    "0": "STN413",
                                    "1": "Schoonmaakonderhoud",
                                    "2": "2019-07-29T13:24:39"
                                },
                                {
                                    "0": "STN646",
                                    "1": "Quiz",
                                    "2": "2019-05-16T09:07:03"
                                },
                                {
                                    "0": "STN419",
                                    "1": "Renovatie onderhoud",
                                    "2": "2019-01-22T14:20:54"
                                },
                                {
                                    "0": "STN336",
                                    "1": "Klantenservice I&P",
                                    "2": "2019-01-06T12:20:11"
                                },
                                {
                                    "0": "STN308",
                                    "1": "DO - Eigen dienst",
                                    "2": "2019-01-06T12:20:10"
                                },
                                {
                                    "0": "STN285",
                                    "1": "Klantenservice telefoon",
                                    "2": "2019-01-06T12:20:10"
                                },
                                {
                                    "0": "STN286",
                                    "1": "Klantenservice email",
                                    "2": "2019-01-05T12:20:12"
                                },
                                {
                                    "0": "STN307",
                                    "1": "DO - Co-Makers",
                                    "2": "2019-01-01T12:20:47"
                                },
                                {
                                    "0": "STN295",
                                    "1": "Planmatig Onderhoud (per 18/03/2017)",
                                    "2": "2019-01-01T12:20:38"
                                },
                                {
                                    "0": "STN159",
                                    "1": "Directe Woonomgeving",
                                    "2": "2019-01-01T12:20:31"
                                },
                                {
                                    "0": "STN051",
                                    "1": "BOG opzegging",
                                    "2": "2019-01-01T12:20:30"
                                },
                                {
                                    "0": "STN058",
                                    "1": "Klachtenmanagement",
                                    "2": "2019-01-01T12:20:30"
                                },
                                {
                                    "0": "STN039",
                                    "1": "Serviceabonnement ",
                                    "2": "2019-01-01T12:20:28"
                                },
                                {
                                    "0": "STN026",
                                    "1": "Verlaten Woning ",
                                    "2": "2019-01-01T12:20:27"
                                },
                                {
                                    "0": "STN010",
                                    "1": "Betrekken nieuwe woning",
                                    "2": "2019-01-01T12:20:26"
                                },
                                {
                                    "0": "STN045",
                                    "1": "BOG Nieuwe verhuring ",
                                    "2": "2018-12-11T12:20:30"
                                },
                                {
                                    "0": "STN017",
                                    "1": "Thuisgevoel",
                                    "2": "2018-10-02T11:20:40"
                                },
                                {
                                    "0": "STN035",
                                    "1": "Verkoop",
                                    "2": "2018-07-10T11:25:18"
                                },
                                {
                                    "0": "STN360",
                                    "1": "Afrekening stookkosten",
                                    "2": "2018-04-26T09:27:30"
                                },
                                {
                                    "0": "STN359",
                                    "1": "Afrekening servicekosten",
                                    "2": "2018-04-26T09:11:49"
                                },
                                {
                                    "0": "STN392",
                                    "1": "DEMO DO - Co-Makers",
                                    "2": "2018-04-19T14:56:58"
                                },
                                {
                                    "0": "STN384",
                                    "1": "Onderzoek leefbaarheid 2018",
                                    "2": "2018-04-16T14:25:38"
                                },
                                {
                                    "0": "STN361",
                                    "1": "Betaling huur",
                                    "2": "2018-04-04T08:24:34"
                                },
                                {
                                    "0": "STN311",
                                    "1": "Verlaten Woning  (B-test)",
                                    "2": "2018-02-27T12:21:22"
                                },
                                {
                                    "0": "STN249",
                                    "1": "DO - afgesproken via Breman (t/m feb. 2018)",
                                    "2": "2018-01-29T13:51:02"
                                },
                                {
                                    "0": "STN296",
                                    "1": "Groot Onderhoud (01/03/17)",
                                    "2": "2017-12-12T12:26:11"
                                },
                                {
                                    "0": "STN354",
                                    "1": "Bewonerscommissie (2017)",
                                    "2": "2017-07-11T13:47:31"
                                },
                                {
                                    "0": "STN251",
                                    "1": "DO - afgesproken via SENS Glas (t/m feb. 2018)",
                                    "2": "2017-06-11T11:03:18"
                                },
                                {
                                    "0": "STN306",
                                    "1": "Groen onderhoud (nieuw)",
                                    "2": "2017-05-23T11:19:35"
                                },
                                {
                                    "0": "STN305",
                                    "1": "Schoonmaak onderhoud (nieuw)",
                                    "2": "2017-05-23T11:19:29"
                                },
                                {
                                    "0": "STN250",
                                    "1": "DO - afgesproken via Zegwaard (t/m feb. 2018)",
                                    "2": "2017-05-20T15:32:33"
                                },
                                {
                                    "0": "STN329",
                                    "1": "Onderzoek leefbaarheid 2017",
                                    "2": "2017-05-11T10:07:28"
                                },
                                {
                                    "0": "STN009",
                                    "1": "DO – eigen dienst + comakers (t/m feb. 2017)",
                                    "2": "2017-03-07T12:18:08"
                                },
                                {
                                    "0": "STN021",
                                    "1": "Klantenservice t/m 19/3/17",
                                    "2": "2017-02-28T12:18:14"
                                },
                                {
                                    "0": "STN069",
                                    "1": "Planmatig Onderhoud (t/m 17/03/2017)",
                                    "2": "2017-02-07T14:24:08"
                                },
                                {
                                    "0": "STN007",
                                    "1": "Bewonerscommissie (2015-2016)",
                                    "2": "2017-01-05T13:51:32"
                                },
                                {
                                    "0": "STN004",
                                    "1": "Groen onderhoud",
                                    "2": "2016-11-29T12:21:16"
                                },
                                {
                                    "0": "STN001",
                                    "1": "Schoonmaak onderhoud",
                                    "2": "2016-11-29T12:21:15"
                                },
                                {
                                    "0": "STN262",
                                    "1": "Glasherstel SENS Glas",
                                    "2": "2016-06-20T16:01:17"
                                },
                                {
                                    "0": "STN261",
                                    "1": "RRS",
                                    "2": "2016-06-07T11:31:28"
                                },
                                {
                                    "0": "STN264",
                                    "1": "Breman",
                                    "2": "2016-06-06T11:31:41"
                                },
                                {
                                    "0": "STN168",
                                    "1": "Onderzoek leefbaarheid 2016",
                                    "2": "2016-04-28T10:19:44"
                                },
                                {
                                    "0": "STN068",
                                    "1": "Onderzoek leefbaarheid 2015",
                                    "2": "2015-04-06T16:07:42"
                                }
                            ]
                        },
                        "text/html": "<table><tr><th>externalreference</th><th>name</th><th>laatst_verstuurd</th></tr><tr><td>STN814</td><td>DO - Eigen dienst</td><td>2022-02-09T12:22:26</td></tr><tr><td>STN813</td><td>KTV DO - Deelscore dienstverlening</td><td>2022-02-09T12:22:21</td></tr><tr><td>STN421</td><td>Klantenservice I&amp;P</td><td>2022-02-09T12:22:12</td></tr><tr><td>STN420</td><td>Klantenservice telefoon</td><td>2022-02-09T12:22:01</td></tr><tr><td>STN661</td><td>Stellingen Thuisgevoel / Woonbeleving</td><td>2022-02-08T15:08:15</td></tr><tr><td>STN812</td><td>Betaalregeling treffen</td><td>2022-02-08T12:22:29</td></tr><tr><td>STN660</td><td>Schoonmaakonderhoud</td><td>2022-02-08T12:22:14</td></tr><tr><td>STN647</td><td>BKT</td><td>2022-02-08T12:22:13</td></tr><tr><td>STN417</td><td>Klachtenmanagement (Online)</td><td>2022-02-08T12:21:49</td></tr><tr><td>STN414</td><td>Huur betalen</td><td>2022-02-08T12:21:13</td></tr><tr><td>STN410</td><td>Verlaten woning</td><td>2022-02-08T12:21:11</td></tr><tr><td>STN407</td><td>Betrekken woning</td><td>2022-02-08T12:21:06</td></tr><tr><td>STN418</td><td>Planmatig onderhoud</td><td>2022-01-27T12:21:40</td></tr><tr><td>STN659</td><td>Groenonderhoud</td><td>2021-12-30T12:21:26</td></tr><tr><td>STN658</td><td>Dagelijks onderhoud Totaal</td><td>2021-12-20T12:24:37</td></tr><tr><td>STN746</td><td>Betrekken woning Evaluatiemail demo</td><td>2021-05-10T14:51:36</td></tr><tr><td>STN416</td><td>Stookkosten</td><td>2020-12-10T12:20:52</td></tr><tr><td>STN695</td><td>Betrekken woning DEMO EVALUATIE</td><td>2020-12-08T14:20:38</td></tr><tr><td>STN415</td><td>Servicekosten</td><td>2020-03-24T12:20:48</td></tr><tr><td>STN657</td><td>Langer thuis wonen check</td><td>2020-01-13T14:39:55</td></tr><tr><td>STN459</td><td>Dagelijks onderhoud</td><td>2020-01-08T12:20:18</td></tr><tr><td>STN411</td><td>Dagelijks onderhoud</td><td>2020-01-08T12:20:07</td></tr><tr><td>STN409</td><td>Thuisgevoel / Woonbeleving</td><td>2020-01-05T15:05:12</td></tr><tr><td>STN413</td><td>Schoonmaakonderhoud</td><td>2019-07-29T13:24:39</td></tr><tr><td>STN646</td><td>Quiz</td><td>2019-05-16T09:07:03</td></tr><tr><td>STN419</td><td>Renovatie onderhoud</td><td>2019-01-22T14:20:54</td></tr><tr><td>STN336</td><td>Klantenservice I&amp;P</td><td>2019-01-06T12:20:11</td></tr><tr><td>STN308</td><td>DO - Eigen dienst</td><td>2019-01-06T12:20:10</td></tr><tr><td>STN285</td><td>Klantenservice telefoon</td><td>2019-01-06T12:20:10</td></tr><tr><td>STN286</td><td>Klantenservice email</td><td>2019-01-05T12:20:12</td></tr><tr><td>STN307</td><td>DO - Co-Makers</td><td>2019-01-01T12:20:47</td></tr><tr><td>STN295</td><td>Planmatig Onderhoud (per 18/03/2017)</td><td>2019-01-01T12:20:38</td></tr><tr><td>STN159</td><td>Directe Woonomgeving</td><td>2019-01-01T12:20:31</td></tr><tr><td>STN051</td><td>BOG opzegging</td><td>2019-01-01T12:20:30</td></tr><tr><td>STN058</td><td>Klachtenmanagement</td><td>2019-01-01T12:20:30</td></tr><tr><td>STN039</td><td>Serviceabonnement </td><td>2019-01-01T12:20:28</td></tr><tr><td>STN026</td><td>Verlaten Woning </td><td>2019-01-01T12:20:27</td></tr><tr><td>STN010</td><td>Betrekken nieuwe woning</td><td>2019-01-01T12:20:26</td></tr><tr><td>STN045</td><td>BOG Nieuwe verhuring </td><td>2018-12-11T12:20:30</td></tr><tr><td>STN017</td><td>Thuisgevoel</td><td>2018-10-02T11:20:40</td></tr><tr><td>STN035</td><td>Verkoop</td><td>2018-07-10T11:25:18</td></tr><tr><td>STN360</td><td>Afrekening stookkosten</td><td>2018-04-26T09:27:30</td></tr><tr><td>STN359</td><td>Afrekening servicekosten</td><td>2018-04-26T09:11:49</td></tr><tr><td>STN392</td><td>DEMO DO - Co-Makers</td><td>2018-04-19T14:56:58</td></tr><tr><td>STN384</td><td>Onderzoek leefbaarheid 2018</td><td>2018-04-16T14:25:38</td></tr><tr><td>STN361</td><td>Betaling huur</td><td>2018-04-04T08:24:34</td></tr><tr><td>STN311</td><td>Verlaten Woning  (B-test)</td><td>2018-02-27T12:21:22</td></tr><tr><td>STN249</td><td>DO - afgesproken via Breman (t/m feb. 2018)</td><td>2018-01-29T13:51:02</td></tr><tr><td>STN296</td><td>Groot Onderhoud (01/03/17)</td><td>2017-12-12T12:26:11</td></tr><tr><td>STN354</td><td>Bewonerscommissie (2017)</td><td>2017-07-11T13:47:31</td></tr><tr><td>STN251</td><td>DO - afgesproken via SENS Glas (t/m feb. 2018)</td><td>2017-06-11T11:03:18</td></tr><tr><td>STN306</td><td>Groen onderhoud (nieuw)</td><td>2017-05-23T11:19:35</td></tr><tr><td>STN305</td><td>Schoonmaak onderhoud (nieuw)</td><td>2017-05-23T11:19:29</td></tr><tr><td>STN250</td><td>DO - afgesproken via Zegwaard (t/m feb. 2018)</td><td>2017-05-20T15:32:33</td></tr><tr><td>STN329</td><td>Onderzoek leefbaarheid 2017</td><td>2017-05-11T10:07:28</td></tr><tr><td>STN009</td><td>DO – eigen dienst + comakers (t/m feb. 2017)</td><td>2017-03-07T12:18:08</td></tr><tr><td>STN021</td><td>Klantenservice t/m 19/3/17</td><td>2017-02-28T12:18:14</td></tr><tr><td>STN069</td><td>Planmatig Onderhoud (t/m 17/03/2017)</td><td>2017-02-07T14:24:08</td></tr><tr><td>STN007</td><td>Bewonerscommissie (2015-2016)</td><td>2017-01-05T13:51:32</td></tr><tr><td>STN004</td><td>Groen onderhoud</td><td>2016-11-29T12:21:16</td></tr><tr><td>STN001</td><td>Schoonmaak onderhoud</td><td>2016-11-29T12:21:15</td></tr><tr><td>STN262</td><td>Glasherstel SENS Glas</td><td>2016-06-20T16:01:17</td></tr><tr><td>STN261</td><td>RRS</td><td>2016-06-07T11:31:28</td></tr><tr><td>STN264</td><td>Breman</td><td>2016-06-06T11:31:41</td></tr><tr><td>STN168</td><td>Onderzoek leefbaarheid 2016</td><td>2016-04-28T10:19:44</td></tr><tr><td>STN068</td><td>Onderzoek leefbaarheid 2015</td><td>2015-04-06T16:07:42</td></tr></table>"
                    },
                    "metadata": {}
                }
            ],
            "execution_count": 4
        }
    ]
}