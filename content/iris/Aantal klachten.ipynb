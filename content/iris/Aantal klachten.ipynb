{
    "metadata": {
        "kernelspec": {
            "name": "SQL",
            "display_name": "SQL",
            "language": "sql"
        },
        "language_info": {
            "name": "sql",
            "version": ""
        }
    },
    "nbformat_minor": 2,
    "nbformat": 4,
    "cells": [
        {
            "cell_type": "markdown",
            "source": [
                "# Handmatig overhalen telefonische contacten Intake en planning tbv KCM (inmiddels geautomatiseerd)\n",
                "\\- ...\n",
                "- ....\n",
                "aco vn der Wel, 5 juli 2021"
            ],dat": {
                "azdata_cell_guid": "719314f8-add3-4f05-a3dc-4366bd6484b9"
            },
            "attachments": {}
        },
        {
            "cell_type": "markdown",
            "source": [
                "## Data van postgres (iris) =\\> <mark>connectie A-PBI-PROD</mark>"
            ],
            "metadata": {
                "azdata_cell_guid": "67899aa0-5691-4906-8545-a4ccd71109d9"
            }
        },
        {
            "cell_type": "code",
            "source": [
                "SELECT subj.description as \"Categorie Iris\",\n",
                "       chnl.description as Kanaal,\n",
                "       stat.label as \"Status afhandeling\" ,\n",
                "       DATE(cas.created_datetime) \"Datum\" ,\n",
                "       count(distinct cas.id) as \"Aantal\"\n",
                "-- select *       \n",
                "FROM vault.facts.fac_iris4_case cas\n",
                "INNER JOIN vault.dimensions.dim_iris4_direction dir ON cas.direction_id = dir.kubion_id\n",
                "AND dir.description = 'Huurder'\n",
                "INNER JOIN vault.dimensions.dim_iris4_channel chnl ON cas.channel_id = chnl.kubion_id --AND chnl.description = 'Telefoon'\n",
                "INNER JOIN vault.dimensions.dim_iris4_subject subj ON cas.subject_id = subj.kubion_id --AND subj.description = 'DAGEONDERH Reparatieverzoek'\n",
                "INNER JOIN vault.dimensions.dim_iris4_casestatus stat ON cas.status_id = stat.kubion_id --AND stat.label = 'Afgehandeld'\n",
                "INNER JOIN vault.dimensions.dim_iris4_autuser aut ON cas.created_user_id = aut.kubion_id\n",
                "INNER JOIN vault.facts.fac_iris4_indexobject idobj ON cas.kubion_id = idobj.case_id\n",
                "INNER JOIN vault.dimensions.dim_empire_customers cust ON cust.contact_no = idobj.relation_id\n",
                "AND cust.DATE_TO = '2199-12-31 23:59:59.999'\n",
                "WHERE cas.created_datetime > '2021-01-01 00:00:00.999' --CURRENT_DATE - Interval '2 day'\n",
                "and (subj.description like 'KLACLABEZW%'\n",
                "     or subj.description like 'PLANONDERH Vraag/klacht%'\n",
                "     or subj.description like 'SOCMEL&BEH%')\n",
                "and subj.description <> 'SOCMEL&BEH Welkomstgesprek'\n",
                "and DATE(cas.created_datetime) = '2021-01-04'\n",
                "group by subj.description,\n",
                "         chnl.description,\n",
                "         stat.label,\n",
                "         DATE(cas.created_datetime)\n",
                "--EXTRACT(DAY FROM TIMESTAMP cas.created_datetime ),,EXTRACT(DAY FROM TIMESTAMP cas.created_datetime )"
            ],
            "metadata": {
                "azdata_cell_guid": "abe0cc3c-6b1c-45eb-a204-33fb673a9064"
            },
            "outputs": [],
            "execution_count": null
        }
    ]
}