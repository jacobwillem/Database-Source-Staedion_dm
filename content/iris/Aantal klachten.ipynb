{
    "metadata": {
        "kernelspec": {
            "name": "SQL",
            "display_name": "SQL",
            "language": "sql"
        },
        "language_info": {
            "name": "sql",
            "version": ""
        }
    },
    "nbformat_minor": 2,
    "nbformat": 4,
    "cells": [
        {
            "cell_type": "markdown",
            "source": [
                "# Aantal klachten voor KPI dashboard\n",
                "\n",
                "  \n",
                "\n",
                "Jaco van der Wel, 5 juli 2021"
            ],
            "metadata": {
                "azdata_cell_guid": "719314f8-add3-4f05-a3dc-4366bd6484b9"
            },
            "attachments": {}
        },
        {
            "cell_type": "markdown",
            "source": [
                "## Data van postgres (iris) =\\> <mark>connectie A-PBI-PROD</mark>"
            ],
            "metadata": {
                "azdata_cell_guid": "67899aa0-5691-4906-8545-a4ccd71109d9"
            },
            "attachments": {}
        },
        {
            "cell_type": "code",
            "source": [
                "SELECT subj.description as \"Categorie Iris\",\r\n",
                "       chnl.description as Kanaal,\r\n",
                "       stat.label as \"Status afhandeling\" ,\r\n",
                "       DATE(cas.created_datetime) \"Datum\" ,\r\n",
                "       count(distinct cas.id) as \"Aantal\"\r\n",
                "-- select *       \r\n",
                "FROM vault.facts.fac_iris4_case cas\r\n",
                "INNER JOIN vault.dimensions.dim_iris4_direction dir ON cas.direction_id = dir.kubion_id\r\n",
                "AND dir.description = 'Huurder'\r\n",
                "INNER JOIN vault.dimensions.dim_iris4_channel chnl ON cas.channel_id = chnl.kubion_id --AND chnl.description = 'Telefoon'\r\n",
                "INNER JOIN vault.dimensions.dim_iris4_subject subj ON cas.subject_id = subj.kubion_id --AND subj.description = 'DAGEONDERH Reparatieverzoek'\r\n",
                "INNER JOIN vault.dimensions.dim_iris4_casestatus stat ON cas.status_id = stat.kubion_id --AND stat.label = 'Afgehandeld'\r\n",
                "INNER JOIN vault.dimensions.dim_iris4_autuser aut ON cas.created_user_id = aut.kubion_id\r\n",
                "INNER JOIN vault.facts.fac_iris4_indexobject idobj ON cas.kubion_id = idobj.case_id\r\n",
                "INNER JOIN vault.dimensions.dim_empire_customers cust ON cust.contact_no = idobj.relation_id\r\n",
                "AND cust.DATE_TO = '2199-12-31 23:59:59.999'\r\n",
                "WHERE cas.created_datetime > '2021-01-01 00:00:00.999' --CURRENT_DATE - Interval '2 day'\r\n",
                "and (subj.description like 'KLACLABEZW%'\r\n",
                "     or subj.description like 'PLANONDERH Vraag/klacht%'\r\n",
                "     or subj.description like 'SOCMEL&BEH%')\r\n",
                "and subj.description <> 'SOCMEL&BEH Welkomstgesprek'\r\n",
                "and DATE(cas.created_datetime) = '2021-01-04'\r\n",
                "group by subj.description,\r\n",
                "         chnl.description,\r\n",
                "         stat.label,\r\n",
                "         DATE(cas.created_datetime)\r\n",
                "--EXTRACT(DAY FROM TIMESTAMP cas.created_datetime ),,EXTRACT(DAY FROM TIMESTAMP cas.created_datetime )\r\n",
                " "
            ],
            "metadata": {
                "azdata_cell_guid": "6745ea80-4ad5-460e-99a6-ba81c2d0e615",
                "tags": []
            },
            "outputs": [],
            "execution_count": null
        }
    ]
}