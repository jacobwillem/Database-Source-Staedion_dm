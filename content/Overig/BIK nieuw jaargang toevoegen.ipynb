{
    "metadata": {
        "kernelspec": {
            "name": "SQL",
            "display_name": "SQL",
            "language": "sql"
        },
        "language_info": {
            "name": "sql",
            "version": ""
        }
    },
    "nbformat_minor": 2,
    "nbformat": 4,
    "cells": [
        {
            "cell_type": "markdown",
            "source": [
                "# BIK jaargang toevoegen tbv Power BI rapportage BIK\n",
                "\n",
                "\\- zie: C:\\\\Users\\\\jvdw\\\\Staedion\\\\INFO VZ T&C - BRONBESTANDEN PBIX\\\\BIK 2019-2022.pbix"
            ],
            "metadata": {
                "azdata_cell_guid": "8661e30e-cd73-4c52-92c7-c4ac25e925b2"
            },
            "attachments": {}
        },
        {
            "cell_type": "markdown",
            "source": [
                "## Achtergrondinformatie\n",
                "\n",
                "Handmatige acties om PBI voor nieuwe jaargang BIK geschikt te maken\n",
                "\n",
                "1. Aantallen woningen ultimo jaar toevoegen (empire\\_staedion\\_Data.bik.AantalWoningenPerBuurtUltimo + AantalWoningenPerClusterUltimo)\n",
                "2. KCM thuisgevoel met aantal indicatoren toevoegen en verwerken in onderliggende views (staedion\\_dm.Leefbaarheid.KlantContactMonitorOpCluster + KlantContactMonitorOpBuurt)\n",
                "3. Check of overlastdossiers nieuwe jaargang automatisch opgehaald wordt (staedion\\_dm.Leefbaarheid.LeefbaarheidsdossiersOpCluster + Leefbaarheid.LeefbaarheidsdossiersOpBuurt)\n",
                "4. Teamscores excel van medewerkers toevoegen en verwerken in view (empire\\_Staedion\\_data.bik.TeamscoreJJJJ + staedion\\_dm.Leefbaarheid.TeamscoreOpCluster +TeamscoreOpBuurt)"
            ],
            "metadata": {
                "azdata_cell_guid": "ce0b2ebc-96d7-49b9-a91c-e8cab660f0c5"
            },
            "attachments": {}
        },
        {
            "cell_type": "markdown",
            "source": [
                "## 1. Bijwerken ELS-lijst-aantallen einde jaar voor cluster en buurt"
            ],
            "metadata": {
                "azdata_cell_guid": "bc8cbe91-f96d-415e-ae44-195c2a2c20a2"
            },
            "attachments": {}
        },
        {
            "cell_type": "code",
            "source": [
                "/* \r\n",
                "-- Aanvullen ELS_AantalWoningenPerClusterUltimo\r\n",
                "INSERT INTO empire_staedion_data.bik.ELS_AantalWoningenPerClusterUltimo (Clusternummer, Clusternaam, Jaar, Aantalwoningen)\r\n",
                "SELECT clusternummer, clusternaam, 2021,count(*) as Aantalwoningen\r\n",
                "from empire_Staedion_data.dbo.els\r\n",
                "where datum_gegenereerd = (select max(datum_gegenereerd) from  empire_Staedion_data.dbo.els where YEAR(datum_gegenereerd) = 2021) \r\n",
                "and Corpodata_type LIKE '%WON%'\r\n",
                "AND datum_in_exploitatie <= '20211231' AND ( NULLIF(datum_uit_exploitatie,'') IS NULL OR datum_uit_exploitatie > '20211231') \r\n",
                "group by clusternummer, clusternaam\r\n",
                ";\r\n",
                "-- Aanvullen ELS_AantalWoningenPerBuurtUltimo\r\n",
                "insert into empire_staedion_data.bik.ELS_AantalWoningenPerBuurtUltimo (Buurtcode, Jaar, AantalWoningen, AantalClusters)\r\n",
                "SELECT REPLACE(REPLACE(E.fk_cbsbuurt_id, 'BU0',''),'BU1','')  as Buurtcode, 2021,count(*) as Aantalwoningen, COUNT(DISTINCT E.staedion_fk_ftcluster_id)\r\n",
                "-- select top 10 E.*\r\n",
                "from empire_dwh.dbo.eenheid as E\r\n",
                "join empire_dwh.dbo.technischtype as T\r\n",
                "on T.id = E.fk_technischtype_id\r\n",
                "where T.fk_eenheid_type_corpodata_id LIKE '%WON%'\r\n",
                "AND E.da_bedrijf = 'Staedion'\r\n",
                "AND dt_in_exploitatie <= '20211231' AND ( NULLIF(dt_uit_exploitatie,'') IS NULL OR dt_uit_exploitatie > '20211231') \r\n",
                "group by REPLACE(REPLACE(E.fk_cbsbuurt_id, 'BU0',''),'BU1','')\r\n",
                ";\r\n",
                "*/"
            ],
            "metadata": {
                "azdata_cell_guid": "592f4a0b-96c3-421f-af9d-71471b185187",
                "tags": []
            },
            "outputs": [],
            "execution_count": null
        },
        {
            "cell_type": "code",
            "source": [
                "-- Check\r\n",
                "select jaar, sum(Aantalwoningen) AS Aantalwoningen, count(clusternummer) AS Aantalclusters\r\n",
                "from empire_staedion_data.bik.ELS_AantalWoningenPerClusterUltimo\r\n",
                "group by jaar\r\n",
                "order by jaar\r\n",
                ";\r\n",
                ""
            ],
            "metadata": {
                "azdata_cell_guid": "a5e98c4c-c576-4ba9-a2a1-d1f4e14ad31e",
                "tags": []
            },
            "outputs": [
                {
                    "output_type": "display_data",
                    "data": {
                        "text/html": "Warning: Null value is eliminated by an aggregate or other SET operation."
                    },
                    "metadata": {}
                },
                {
                    "output_type": "display_data",
                    "data": {
                        "text/html": "(10 rows affected)"
                    },
                    "metadata": {}
                },
                {
                    "output_type": "display_data",
                    "data": {
                        "text/html": "Total execution time: 00:00:00.016"
                    },
                    "metadata": {}
                },
                {
                    "output_type": "execute_result",
                    "metadata": {},
                    "execution_count": 2,
                    "data": {
                        "application/vnd.dataresource+json": {
                            "schema": {
                                "fields": [
                                    {
                                        "name": "jaar"
                                    },
                                    {
                                        "name": "Aantalwoningen"
                                    },
                                    {
                                        "name": "Aantalclusters"
                                    }
                                ]
                            },
                            "data": [
                                {
                                    "0": "2012",
                                    "1": "NULL",
                                    "2": "639"
                                },
                                {
                                    "0": "2013",
                                    "1": "NULL",
                                    "2": "639"
                                },
                                {
                                    "0": "2014",
                                    "1": "NULL",
                                    "2": "639"
                                },
                                {
                                    "0": "2015",
                                    "1": "NULL",
                                    "2": "639"
                                },
                                {
                                    "0": "2016",
                                    "1": "35703",
                                    "2": "639"
                                },
                                {
                                    "0": "2017",
                                    "1": "35703",
                                    "2": "639"
                                },
                                {
                                    "0": "2018",
                                    "1": "35764",
                                    "2": "641"
                                },
                                {
                                    "0": "2019",
                                    "1": "35829",
                                    "2": "645"
                                },
                                {
                                    "0": "2020",
                                    "1": "36921",
                                    "2": "683"
                                },
                                {
                                    "0": "2021",
                                    "1": "36913",
                                    "2": "680"
                                }
                            ]
                        },
                        "text/html": [
                            "<table>",
                            "<tr><th>jaar</th><th>Aantalwoningen</th><th>Aantalclusters</th></tr>",
                            "<tr><td>2012</td><td>NULL</td><td>639</td></tr>",
                            "<tr><td>2013</td><td>NULL</td><td>639</td></tr>",
                            "<tr><td>2014</td><td>NULL</td><td>639</td></tr>",
                            "<tr><td>2015</td><td>NULL</td><td>639</td></tr>",
                            "<tr><td>2016</td><td>35703</td><td>639</td></tr>",
                            "<tr><td>2017</td><td>35703</td><td>639</td></tr>",
                            "<tr><td>2018</td><td>35764</td><td>641</td></tr>",
                            "<tr><td>2019</td><td>35829</td><td>645</td></tr>",
                            "<tr><td>2020</td><td>36921</td><td>683</td></tr>",
                            "<tr><td>2021</td><td>36913</td><td>680</td></tr>",
                            "</table>"
                        ]
                    }
                }
            ],
            "execution_count": 2
        },
        {
            "cell_type": "code",
            "source": [
                "-- Check\r\n",
                "select jaar, sum(Aantalwoningen) AS Aantalwoningen, count(Buurtcode) AS Aantalbuurten\r\n",
                "from empire_staedion_data.bik.ELS_AantalWoningenPerBuurtUltimo\r\n",
                "group by jaar\r\n",
                "order by jaar desc\r\n",
                ";"
            ],
            "metadata": {
                "azdata_cell_guid": "df22033e-8c52-4378-a257-fd768e6d4838"
            },
            "outputs": [
                {
                    "output_type": "display_data",
                    "data": {
                        "text/html": "Warning: Null value is eliminated by an aggregate or other SET operation."
                    },
                    "metadata": {}
                },
                {
                    "output_type": "display_data",
                    "data": {
                        "text/html": "(10 rows affected)"
                    },
                    "metadata": {}
                },
                {
                    "output_type": "display_data",
                    "data": {
                        "text/html": "Total execution time: 00:00:00.007"
                    },
                    "metadata": {}
                },
                {
                    "output_type": "execute_result",
                    "metadata": {},
                    "execution_count": 4,
                    "data": {
                        "application/vnd.dataresource+json": {
                            "schema": {
                                "fields": [
                                    {
                                        "name": "jaar"
                                    },
                                    {
                                        "name": "Aantalwoningen"
                                    },
                                    {
                                        "name": "Aantalbuurten"
                                    }
                                ]
                            },
                            "data": [
                                {
                                    "0": "2012",
                                    "1": "NULL",
                                    "2": "83"
                                },
                                {
                                    "0": "2013",
                                    "1": "NULL",
                                    "2": "83"
                                },
                                {
                                    "0": "2014",
                                    "1": "NULL",
                                    "2": "83"
                                },
                                {
                                    "0": "2015",
                                    "1": "NULL",
                                    "2": "83"
                                },
                                {
                                    "0": "2016",
                                    "1": "35703",
                                    "2": "83"
                                },
                                {
                                    "0": "2017",
                                    "1": "35703",
                                    "2": "83"
                                },
                                {
                                    "0": "2018",
                                    "1": "35764",
                                    "2": "82"
                                },
                                {
                                    "0": "2019",
                                    "1": "35829",
                                    "2": "82"
                                },
                                {
                                    "0": "2020",
                                    "1": "36921",
                                    "2": "90"
                                },
                                {
                                    "0": "2021",
                                    "1": "36945",
                                    "2": "90"
                                }
                            ]
                        },
                        "text/html": [
                            "<table>",
                            "<tr><th>jaar</th><th>Aantalwoningen</th><th>Aantalbuurten</th></tr>",
                            "<tr><td>2012</td><td>NULL</td><td>83</td></tr>",
                            "<tr><td>2013</td><td>NULL</td><td>83</td></tr>",
                            "<tr><td>2014</td><td>NULL</td><td>83</td></tr>",
                            "<tr><td>2015</td><td>NULL</td><td>83</td></tr>",
                            "<tr><td>2016</td><td>35703</td><td>83</td></tr>",
                            "<tr><td>2017</td><td>35703</td><td>83</td></tr>",
                            "<tr><td>2018</td><td>35764</td><td>82</td></tr>",
                            "<tr><td>2019</td><td>35829</td><td>82</td></tr>",
                            "<tr><td>2020</td><td>36921</td><td>90</td></tr>",
                            "<tr><td>2021</td><td>36945</td><td>90</td></tr>",
                            "</table>"
                        ]
                    }
                }
            ],
            "execution_count": 4
        },
        {
            "cell_type": "markdown",
            "source": [
                "## 2\\. Aanvullen staedion\\_dm.Leefbaarheid.KlantContactMonitorOpCluster + \\[Leefbaarheid\\].\\[KlantContactMonitorOpBuurt\\]"
            ],
            "metadata": {
                "azdata_cell_guid": "6d1b7f1f-b715-4628-9368-d75caf32f42b"
            },
            "attachments": {}
        },
        {
            "cell_type": "code",
            "source": [
                "/* \r\n",
                "-- ingelezen\r\n",
                "SELECT Clusternr,\r\n",
                "\t\tYEAR(CAST([INGEVULDE GEGEVENS] AS DATE)) AS Jaar,\r\n",
                "       COUNT(*) AS AantalRespondenten,\r\n",
                "       AVG(CAST(NULLIF([Welk rapportcijfer geeft u voor uw 'thuisgevoel'? Een 1 staat hi],'') AS DECIMAL(8,2))) AS KCMThuisgevoel,\r\n",
                "       AVG(CAST(NULLIF([Welk rapportcijfer geeft u voor de kwaliteit van uw woning? Een ],'') AS DECIMAL(8,2))) AS KCMTevredenheidWoning,\r\n",
                "       AVG(CAST(NULLIF([Welk rapportcijfer geeft u Staedion voor de algemene ruimten ron],'') AS DECIMAL(8,2))) AS KCMTevredenheidAlgemeneRuimte,\r\n",
                "       AVG(CAST(NULLIF([Welk rapportcijfer geeft u voor uw buurt? Een 1 staat hier voor ],'') AS DECIMAL(8,2))) AS KCMTevredenheidBuurt,\r\n",
                "\r\n",
                "\t\tAVG(CAST(NULLIF([Welk rapportcijfer geeft u voor uw 'thuisgevoel'? Een 1 staat hi],'') AS DECIMAL(8,2)))*0.25+\r\n",
                "\t\tAVG(CAST(NULLIF([Welk rapportcijfer geeft u voor de kwaliteit van uw woning? Een ],'') AS DECIMAL(8,2)))*0.25+\r\n",
                "\t\tAVG(CAST(NULLIF([Welk rapportcijfer geeft u Staedion voor de algemene ruimten ron],'') AS DECIMAL(8,2)))*0.25+\r\n",
                "\t\tAVG(CAST(NULLIF([Welk rapportcijfer geeft u voor uw buurt? Een 1 staat hier voor ],'') AS DECIMAL(8,2)))*0.25 AS KCMCijfer\r\n",
                "INTO  [empire_staedion_data].[bik].[STN661_Ingevulde_gegevens_2021] \r\n",
                "FROM empire_staedion_data.kcm.stn661_ingevulde_gegevens\r\n",
                "WHERE YEAR(CAST([INGEVULDE GEGEVENS] AS DATE)) = 2021\r\n",
                "GROUP BY Clusternr,YEAR(CAST([INGEVULDE GEGEVENS] AS DATE))\r\n",
                ";\r\n",
                "*/"
            ],
            "metadata": {
                "azdata_cell_guid": "2c1c83fd-2e1b-4e46-9c5f-9364d27e2050",
                "tags": []
            },
            "outputs": [],
            "execution_count": null
        },
        {
            "cell_type": "code",
            "source": [
                "-- totalen\r\n",
                "SELECT Jaar, SUM(AantalRespondenten),SUM(AantalRespondenten*KCMThuisgevoel)/SUM(AantalRespondenten)  as KCMThuisgevoel\r\n",
                "\t\t, SUM(AantalRespondenten*KCMTevredenheidWoning)/SUM(AantalRespondenten)  as KCMTevredenheidWoning\r\n",
                "\t\t, SUM(AantalRespondenten*KCMTevredenheidAlgemeneRuimte)/SUM(AantalRespondenten)  as KCMTevredenheidAlgemeneRuimte\r\n",
                "\t\t, SUM(AantalRespondenten*KCMTevredenheidBuurt)/SUM(AantalRespondenten)  as KCMTevredenheidBuurt\r\n",
                "\t\t, SUM(AantalRespondenten*KCMCijfer)/SUM(AantalRespondenten)  as KCMCijfer\r\n",
                "FROM\tstaedion_dm.Leefbaarheid.[KlantContactMonitorOpCluster]\r\n",
                "GROUP BY Jaar \r\n",
                "ORDER BY Jaar desc\r\n",
                ";\r\n",
                ""
            ],
            "metadata": {
                "azdata_cell_guid": "9e1f06e4-2f8e-4337-b03a-c37e2700934c"
            },
            "outputs": [
                {
                    "output_type": "display_data",
                    "data": {
                        "text/html": "Warning: Null value is eliminated by an aggregate or other SET operation."
                    },
                    "metadata": {}
                },
                {
                    "output_type": "display_data",
                    "data": {
                        "text/html": "(4 rows affected)"
                    },
                    "metadata": {}
                },
                {
                    "output_type": "display_data",
                    "data": {
                        "text/html": "Total execution time: 00:00:00.627"
                    },
                    "metadata": {}
                },
                {
                    "output_type": "execute_result",
                    "metadata": {},
                    "execution_count": 5,
                    "data": {
                        "application/vnd.dataresource+json": {
                            "schema": {
                                "fields": [
                                    {
                                        "name": "Jaar"
                                    },
                                    {
                                        "name": "(No column name)"
                                    },
                                    {
                                        "name": "KCMThuisgevoel"
                                    },
                                    {
                                        "name": "KCMTevredenheidWoning"
                                    },
                                    {
                                        "name": "KCMTevredenheidAlgemeneRuimte"
                                    },
                                    {
                                        "name": "KCMTevredenheidBuurt"
                                    },
                                    {
                                        "name": "KCMCijfer"
                                    }
                                ]
                            },
                            "data": [
                                {
                                    "0": "2018",
                                    "1": "2613",
                                    "2": "7,918101798698814",
                                    "3": "7,151549942594719",
                                    "4": "6,745909199558307",
                                    "5": "7,090317642556449",
                                    "6": "7,228000453353029"
                                },
                                {
                                    "0": "2019",
                                    "1": "3831",
                                    "2": "7,891412163925868",
                                    "3": "7,184025058731402",
                                    "4": "6,746177414553127",
                                    "5": "7,188201513965022",
                                    "6": "7,258588206418236"
                                },
                                {
                                    "0": "2020",
                                    "1": "7691",
                                    "2": "7,832921596671434",
                                    "3": "7,087504875828891",
                                    "4": "6,574679828534149",
                                    "5": "7,086594721102587",
                                    "6": "7,156390452951157"
                                },
                                {
                                    "0": "2021",
                                    "1": "8004",
                                    "2": "7,8255868526986365",
                                    "3": "7,07358786744126",
                                    "4": "6,530950993003494",
                                    "5": "7,225511880684639",
                                    "6": "7,179734818882224"
                                }
                            ]
                        },
                        "text/html": [
                            "<table>",
                            "<tr><th>Jaar</th><th>(No column name)</th><th>KCMThuisgevoel</th><th>KCMTevredenheidWoning</th><th>KCMTevredenheidAlgemeneRuimte</th><th>KCMTevredenheidBuurt</th><th>KCMCijfer</th></tr>",
                            "<tr><td>2018</td><td>2613</td><td>7,918101798698814</td><td>7,151549942594719</td><td>6,745909199558307</td><td>7,090317642556449</td><td>7,228000453353029</td></tr>",
                            "<tr><td>2019</td><td>3831</td><td>7,891412163925868</td><td>7,184025058731402</td><td>6,746177414553127</td><td>7,188201513965022</td><td>7,258588206418236</td></tr>",
                            "<tr><td>2020</td><td>7691</td><td>7,832921596671434</td><td>7,087504875828891</td><td>6,574679828534149</td><td>7,086594721102587</td><td>7,156390452951157</td></tr>",
                            "<tr><td>2021</td><td>8004</td><td>7,8255868526986365</td><td>7,07358786744126</td><td>6,530950993003494</td><td>7,225511880684639</td><td>7,179734818882224</td></tr>",
                            "</table>"
                        ]
                    }
                }
            ],
            "execution_count": 5
        },
        {
            "cell_type": "code",
            "source": [
                "-- aanpassen view [KlantContactMonitorOpBuurt]\r\n",
                "SELECT Jaar, SUM(AantalRespondenten),SUM(AantalRespondenten*KCMThuisgevoel)/SUM(AantalRespondenten)  as KCMThuisgevoel\r\n",
                "\t\t, SUM(AantalRespondenten*KCMTevredenheidWoning)/SUM(AantalRespondenten)  as KCMTevredenheidWoning\r\n",
                "\t\t, SUM(AantalRespondenten*KCMTevredenheidAlgemeneRuimte)/SUM(AantalRespondenten)  as KCMTevredenheidAlgemeneRuimte\r\n",
                "\t\t, SUM(AantalRespondenten*KCMTevredenheidBuurt)/SUM(AantalRespondenten)  as KCMTevredenheidBuurt\r\n",
                "\t\t, SUM(AantalRespondenten*KCMCijfer)/SUM(AantalRespondenten)  as KCMCijfer\r\n",
                "FROM\tstaedion_dm.Leefbaarheid.[KlantContactMonitorOpBuurt]\r\n",
                "GROUP BY Jaar \r\n",
                "ORDER BY Jaar desc\r\n",
                ";"
            ],
            "metadata": {
                "azdata_cell_guid": "cfd22001-efce-4cd3-b15f-a8d6ceed88f4"
            },
            "outputs": [
                {
                    "output_type": "display_data",
                    "data": {
                        "text/html": "Warning: Null value is eliminated by an aggregate or other SET operation."
                    },
                    "metadata": {}
                },
                {
                    "output_type": "display_data",
                    "data": {
                        "text/html": "(4 rows affected)"
                    },
                    "metadata": {}
                },
                {
                    "output_type": "display_data",
                    "data": {
                        "text/html": "Total execution time: 00:00:00.388"
                    },
                    "metadata": {}
                },
                {
                    "output_type": "execute_result",
                    "metadata": {},
                    "execution_count": 6,
                    "data": {
                        "application/vnd.dataresource+json": {
                            "schema": {
                                "fields": [
                                    {
                                        "name": "Jaar"
                                    },
                                    {
                                        "name": "(No column name)"
                                    },
                                    {
                                        "name": "KCMThuisgevoel"
                                    },
                                    {
                                        "name": "KCMTevredenheidWoning"
                                    },
                                    {
                                        "name": "KCMTevredenheidAlgemeneRuimte"
                                    },
                                    {
                                        "name": "KCMTevredenheidBuurt"
                                    },
                                    {
                                        "name": "KCMCijfer"
                                    }
                                ]
                            },
                            "data": [
                                {
                                    "0": "2018",
                                    "1": "3737",
                                    "2": "7,895638212469896",
                                    "3": "7,123093390420123",
                                    "4": "6,723554319347293",
                                    "5": "7,075996788868076",
                                    "6": "7,2045706777763465"
                                },
                                {
                                    "0": "2019",
                                    "1": "4765",
                                    "2": "7,887513116474292",
                                    "3": "7,17292759706191",
                                    "4": "6,768867342967464",
                                    "5": "7,140608604407135",
                                    "6": "7,242479165227701"
                                },
                                {
                                    "0": "2020",
                                    "1": "8001",
                                    "2": "7,826021747281589",
                                    "3": "7,084989376327959",
                                    "4": "6,6186945905887455",
                                    "5": "7,0666166729158855",
                                    "6": "7,149080596778549"
                                },
                                {
                                    "0": "2021",
                                    "1": "8346",
                                    "2": "7,829486218308172",
                                    "3": "7,06510932446681",
                                    "4": "6,588137387371198",
                                    "5": "7,223397092020125",
                                    "6": "7,176532505541576"
                                }
                            ]
                        },
                        "text/html": [
                            "<table>",
                            "<tr><th>Jaar</th><th>(No column name)</th><th>KCMThuisgevoel</th><th>KCMTevredenheidWoning</th><th>KCMTevredenheidAlgemeneRuimte</th><th>KCMTevredenheidBuurt</th><th>KCMCijfer</th></tr>",
                            "<tr><td>2018</td><td>3737</td><td>7,895638212469896</td><td>7,123093390420123</td><td>6,723554319347293</td><td>7,075996788868076</td><td>7,2045706777763465</td></tr>",
                            "<tr><td>2019</td><td>4765</td><td>7,887513116474292</td><td>7,17292759706191</td><td>6,768867342967464</td><td>7,140608604407135</td><td>7,242479165227701</td></tr>",
                            "<tr><td>2020</td><td>8001</td><td>7,826021747281589</td><td>7,084989376327959</td><td>6,6186945905887455</td><td>7,0666166729158855</td><td>7,149080596778549</td></tr>",
                            "<tr><td>2021</td><td>8346</td><td>7,829486218308172</td><td>7,06510932446681</td><td>6,588137387371198</td><td>7,223397092020125</td><td>7,176532505541576</td></tr>",
                            "</table>"
                        ]
                    }
                }
            ],
            "execution_count": 6
        },
        {
            "cell_type": "markdown",
            "source": [
                "## 3\\. Check nieuwe jaargang staedion\\_dm.Leefbaarheid.LeefbaarheidsdossiersOpBuurt + \\[Leefbaarheid\\].\\[LeefbaarheidsdossiersOpCluster\\]"
            ],
            "metadata": {
                "azdata_cell_guid": "dfe0e2d4-34a7-43e3-bb97-8fdfc55011ad"
            },
            "attachments": {}
        },
        {
            "cell_type": "code",
            "source": [
                "SELECT Jaar, COUNT(*) FROM staedion_dm.Leefbaarheid.LeefbaarheidsdossiersOpCluster GROUP BY Jaar ORDER BY Jaar desc\r\n",
                ""
            ],
            "metadata": {
                "azdata_cell_guid": "998d52b8-82c2-40e5-81fb-1dd7c25e2c0f",
                "tags": []
            },
            "outputs": [
                {
                    "output_type": "display_data",
                    "data": {
                        "text/html": "(6 rows affected)"
                    },
                    "metadata": {}
                },
                {
                    "output_type": "display_data",
                    "data": {
                        "text/html": "Total execution time: 00:00:00.022"
                    },
                    "metadata": {}
                },
                {
                    "output_type": "execute_result",
                    "metadata": {},
                    "execution_count": 7,
                    "data": {
                        "application/vnd.dataresource+json": {
                            "schema": {
                                "fields": [
                                    {
                                        "name": "Jaar"
                                    },
                                    {
                                        "name": "(No column name)"
                                    }
                                ]
                            },
                            "data": [
                                {
                                    "0": "2021",
                                    "1": "680"
                                },
                                {
                                    "0": "2020",
                                    "1": "683"
                                },
                                {
                                    "0": "2019",
                                    "1": "645"
                                },
                                {
                                    "0": "2018",
                                    "1": "641"
                                },
                                {
                                    "0": "2017",
                                    "1": "639"
                                },
                                {
                                    "0": "2016",
                                    "1": "639"
                                }
                            ]
                        },
                        "text/html": [
                            "<table>",
                            "<tr><th>Jaar</th><th>(No column name)</th></tr>",
                            "<tr><td>2021</td><td>680</td></tr>",
                            "<tr><td>2020</td><td>683</td></tr>",
                            "<tr><td>2019</td><td>645</td></tr>",
                            "<tr><td>2018</td><td>641</td></tr>",
                            "<tr><td>2017</td><td>639</td></tr>",
                            "<tr><td>2016</td><td>639</td></tr>",
                            "</table>"
                        ]
                    }
                }
            ],
            "execution_count": 7
        },
        {
            "cell_type": "code",
            "source": [
                "SELECT Jaar, COUNT(*) FROM staedion_dm.Leefbaarheid.LeefbaarheidsdossiersOpBuurt GROUP BY Jaar ORDER BY Jaar desc"
            ],
            "metadata": {
                "azdata_cell_guid": "5253ea87-5401-4fb6-8e63-ee3e76a81e72"
            },
            "outputs": [
                {
                    "output_type": "display_data",
                    "data": {
                        "text/html": "(6 rows affected)"
                    },
                    "metadata": {}
                },
                {
                    "output_type": "display_data",
                    "data": {
                        "text/html": "Total execution time: 00:00:00.020"
                    },
                    "metadata": {}
                },
                {
                    "output_type": "execute_result",
                    "metadata": {},
                    "execution_count": 8,
                    "data": {
                        "application/vnd.dataresource+json": {
                            "schema": {
                                "fields": [
                                    {
                                        "name": "Jaar"
                                    },
                                    {
                                        "name": "(No column name)"
                                    }
                                ]
                            },
                            "data": [
                                {
                                    "0": "2021",
                                    "1": "90"
                                },
                                {
                                    "0": "2020",
                                    "1": "90"
                                },
                                {
                                    "0": "2019",
                                    "1": "82"
                                },
                                {
                                    "0": "2018",
                                    "1": "82"
                                },
                                {
                                    "0": "2017",
                                    "1": "83"
                                },
                                {
                                    "0": "2016",
                                    "1": "83"
                                }
                            ]
                        },
                        "text/html": [
                            "<table>",
                            "<tr><th>Jaar</th><th>(No column name)</th></tr>",
                            "<tr><td>2021</td><td>90</td></tr>",
                            "<tr><td>2020</td><td>90</td></tr>",
                            "<tr><td>2019</td><td>82</td></tr>",
                            "<tr><td>2018</td><td>82</td></tr>",
                            "<tr><td>2017</td><td>83</td></tr>",
                            "<tr><td>2016</td><td>83</td></tr>",
                            "</table>"
                        ]
                    }
                }
            ],
            "execution_count": 8
        },
        {
            "cell_type": "markdown",
            "source": [
                "## 4. Aanvullen staedion\\_dm.Leefbaarheid.TeamscoreOpBuurt + \\[Leefbaarheid\\].\\[TeamscoreOpCluster\\]"
            ],
            "metadata": {
                "azdata_cell_guid": "ce12006d-b6c1-4a49-b1fd-06da49c08e89"
            },
            "attachments": {}
        },
        {
            "cell_type": "code",
            "source": [
                "/* \r\n",
                "-- ingelezen\r\n",
                "SELECT * \r\n",
                "INTO [empire_staedion_data].[bik].[Teamscore2022]\r\n",
                "FROM ff...ff\r\n",
                ";\r\n",
                "*/"
            ],
            "metadata": {
                "azdata_cell_guid": "dde46d2c-0760-4a2c-9225-7287cfa7a90f"
            },
            "outputs": [],
            "execution_count": null
        },
        {
            "cell_type": "code",
            "source": [
                "SELECT Jaar,\r\n",
                "       COUNT(*) AS AantalClusters,\r\n",
                "       SUM(AantalWoningen) AS AantalWoningen,\r\n",
                "       AVG([TeamscoreOverlast]) AS [TeamscoreOverlast],\r\n",
                "       AVG([TeamscoreVervuiling]) AS [TeamscoreVervuiling],\r\n",
                "       AVG([TeamscoreGemiddeldOverlastVervuiling]) AS [TeamscoreGemiddeldOverlastVervuiling],\r\n",
                "       AVG([TeamscoreCriminaliteitWoonfraude]) AS [TeamscoreCriminaliteitWoonfraude],\r\n",
                "       AVG([TeamscoreParticipatie]) AS [TeamscoreParticipatie],\r\n",
                "       AVG([TeamscoreLeefkwaliteit]) AS [TeamscoreLeefkwaliteit],\r\n",
                "       AVG([TeamscoreBeheerintensiteit]) AS [TeamscoreBeheerintensiteit],\r\n",
                "       AVG([TeamscoreCijfer]) AS [TeamscoreCijfer]\r\n",
                "FROM staedion_dm.Leefbaarheid.TeamscoreOpCluster\r\n",
                "GROUP BY Jaar\r\n",
                "ORDER BY Jaar desc\r\n",
                ";"
            ],
            "metadata": {
                "azdata_cell_guid": "8b77c993-8cca-44cc-82a2-04a3a394b3d6"
            },
            "outputs": [
                {
                    "output_type": "display_data",
                    "data": {
                        "text/html": "Warning: Null value is eliminated by an aggregate or other SET operation."
                    },
                    "metadata": {}
                },
                {
                    "output_type": "display_data",
                    "data": {
                        "text/html": "(4 rows affected)"
                    },
                    "metadata": {}
                },
                {
                    "output_type": "display_data",
                    "data": {
                        "text/html": "Total execution time: 00:00:00.122"
                    },
                    "metadata": {}
                },
                {
                    "output_type": "execute_result",
                    "metadata": {},
                    "execution_count": 9,
                    "data": {
                        "application/vnd.dataresource+json": {
                            "schema": {
                                "fields": [
                                    {
                                        "name": "Jaar"
                                    },
                                    {
                                        "name": "AantalClusters"
                                    },
                                    {
                                        "name": "AantalWoningen"
                                    },
                                    {
                                        "name": "TeamscoreOverlast"
                                    },
                                    {
                                        "name": "TeamscoreVervuiling"
                                    },
                                    {
                                        "name": "TeamscoreGemiddeldOverlastVervuiling"
                                    },
                                    {
                                        "name": "TeamscoreCriminaliteitWoonfraude"
                                    },
                                    {
                                        "name": "TeamscoreParticipatie"
                                    },
                                    {
                                        "name": "TeamscoreLeefkwaliteit"
                                    },
                                    {
                                        "name": "TeamscoreBeheerintensiteit"
                                    },
                                    {
                                        "name": "TeamscoreCijfer"
                                    }
                                ]
                            },
                            "data": [
                                {
                                    "0": "2021",
                                    "1": "678",
                                    "2": "36687",
                                    "3": "6,81858407079646",
                                    "4": "6,912979351032448",
                                    "5": "6,865044247787611",
                                    "6": "7,615044247787611",
                                    "7": "NULL",
                                    "8": "6,908554572271386",
                                    "9": "6,491150442477876",
                                    "10": "7,122861356932159"
                                },
                                {
                                    "0": "2020",
                                    "1": "676",
                                    "2": "36346",
                                    "3": "6,596153846153846",
                                    "4": "6,652366863905326",
                                    "5": "6,618343195266272",
                                    "6": "7,482248520710059",
                                    "7": "7,588757396449704",
                                    "8": "6,791420118343195",
                                    "9": "6,27810650887574",
                                    "10": "6,951775147928999"
                                },
                                {
                                    "0": "2019",
                                    "1": "632",
                                    "2": "35247",
                                    "3": "6,4414556962025316",
                                    "4": "6,504746835443038",
                                    "5": "6,473101265822785",
                                    "6": "7,419303797468355",
                                    "7": "7,6613924050632916",
                                    "8": "6,800632911392405",
                                    "9": "6,072784810126582",
                                    "10": "6,885443037974682"
                                },
                                {
                                    "0": "2018",
                                    "1": "632",
                                    "2": "35162",
                                    "3": "NULL",
                                    "4": "NULL",
                                    "5": "6,420886075949367",
                                    "6": "7,325949367088608",
                                    "7": "6,564873417721519",
                                    "8": "6,7136075949367084",
                                    "9": "6,2215189873417724",
                                    "10": "6,6493670886076"
                                }
                            ]
                        },
                        "text/html": [
                            "<table>",
                            "<tr><th>Jaar</th><th>AantalClusters</th><th>AantalWoningen</th><th>TeamscoreOverlast</th><th>TeamscoreVervuiling</th><th>TeamscoreGemiddeldOverlastVervuiling</th><th>TeamscoreCriminaliteitWoonfraude</th><th>TeamscoreParticipatie</th><th>TeamscoreLeefkwaliteit</th><th>TeamscoreBeheerintensiteit</th><th>TeamscoreCijfer</th></tr>",
                            "<tr><td>2021</td><td>678</td><td>36687</td><td>6,81858407079646</td><td>6,912979351032448</td><td>6,865044247787611</td><td>7,615044247787611</td><td>NULL</td><td>6,908554572271386</td><td>6,491150442477876</td><td>7,122861356932159</td></tr>",
                            "<tr><td>2020</td><td>676</td><td>36346</td><td>6,596153846153846</td><td>6,652366863905326</td><td>6,618343195266272</td><td>7,482248520710059</td><td>7,588757396449704</td><td>6,791420118343195</td><td>6,27810650887574</td><td>6,951775147928999</td></tr>",
                            "<tr><td>2019</td><td>632</td><td>35247</td><td>6,4414556962025316</td><td>6,504746835443038</td><td>6,473101265822785</td><td>7,419303797468355</td><td>7,6613924050632916</td><td>6,800632911392405</td><td>6,072784810126582</td><td>6,885443037974682</td></tr>",
                            "<tr><td>2018</td><td>632</td><td>35162</td><td>NULL</td><td>NULL</td><td>6,420886075949367</td><td>7,325949367088608</td><td>6,564873417721519</td><td>6,7136075949367084</td><td>6,2215189873417724</td><td>6,6493670886076</td></tr>",
                            "</table>"
                        ]
                    }
                }
            ],
            "execution_count": 9
        },
        {
            "cell_type": "code",
            "source": [
                "SELECT Jaar,\r\n",
                "       COUNT(*) AS AantalBuurten,\r\n",
                "       AVG([TeamscoreOverlast]) AS [TeamscoreOverlast],\r\n",
                "       AVG([TeamscoreVervuiling]) AS [TeamscoreVervuiling],\r\n",
                "       AVG([TeamscoreGemiddeldOverlastVervuiling]) AS [TeamscoreGemiddeldOverlastVervuiling],\r\n",
                "       AVG([TeamscoreCriminaliteitWoonfraude]) AS [TeamscoreCriminaliteitWoonfraude],\r\n",
                "       AVG([TeamscoreParticipatie]) AS [TeamscoreParticipatie],\r\n",
                "       AVG([TeamscoreLeefkwaliteit]) AS [TeamscoreLeefkwaliteit],\r\n",
                "       AVG([TeamscoreBeheerintensiteit]) AS [TeamscoreBeheerintensiteit],\r\n",
                "       AVG([TeamscoreCijfer]) AS [TeamscoreCijfer]\r\n",
                "FROM staedion_dm.Leefbaarheid.TeamscoreOpBuurt\r\n",
                "GROUP BY Jaar\r\n",
                "ORDER BY Jaar desc;\r\n",
                ""
            ],
            "metadata": {
                "azdata_cell_guid": "179eef5f-5910-4408-bba1-a9af91d15f56"
            },
            "outputs": [],
            "execution_count": null
        }
    ]
}