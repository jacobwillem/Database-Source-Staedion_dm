{
    "metadata": {
        "kernelspec": {
            "name": "SQL",
            "display_name": "SQL",
            "language": "sql"
        },
        "language_info": {
            "name": "sql",
            "version": ""
        }
    },
    "nbformat_minor": 2,
    "nbformat": 4,
    "cells": [
        {
            "cell_type": "markdown",
            "source": [
                "\n",
                "# Voorbereiding en controle-rapportages rondom proces jaarlijkse huuraanpassing!\n",
                "\n",
                "- [Specificatie per 30-6 en 1-7](#100)\n",
                "- [Eenheden met brutohuurprijs onder de 1 euro](#110)\n",
                "- [Check op bepaalde elementen die niet meer voor mogen komen](#120)\n",
                "- [Eenheden met 061 Huurkorting per 30-06 en 1-7 van lopend jaar](#130)\n",
                "- [Eenheden met 413 Woonduurkorting 10 jaar - afwijkend tov -0.97](#140)\n",
                "- [480 Huurcorrectie eigen gebruik + 481 Servicekostencorrectie eigen gebruik](#150)\n",
                "- [008 Standplaats + 482 Huurcorrectie ivm extern beheer](#160)\n",
                "- [Overzicht alle elementen per 30-6, volgens te muteren tabel, per 1-7](#170)\n",
                "- [Check nieuwe netto huur simulatie met functie netto huur op basis van kopie element\\contract-tabel](#180)\n",
                "- [Check specificatie huur per eenheid is optelsom van huur per element](#190)\n",
                "- [BIJLAGE 1: rapportage-onderdelen tbv genereren huuraanpassing (maatwerk Jaco/Eric Reitsma in Empire)]\n",
                "- [BIJLAGE 2: welke tabellen worden gekopieerd en bewaard]\n",
                "- [BIJLAGE 3: welke database-objecten zijn in gebruik]\n",
                "\n",
                "<a id=00 /> Jaco van der Wel, 14 april 2021\n",
                "\n",
                "- NB: alles op basis van bevroren huurverhogings-regels. Dat wil zeggen gekopieerde/bewaarde tabellen op staedion\\_dm.huuraanpassing\n",
                "- Zodoende kun je ook de werkelijke 1-7 regels vergelijken met de bevroren regels"
            ],
            "metadata": {
                "azdata_cell_guid": "8fbc9496-7c93-4ef3-9478-662735dae35d"
            }
        },
        {
            "cell_type": "markdown",
            "source": [
                "<a id=100 />\n",
                "## Specificatie per 30-6 en 1-7\n",
                "- staedion\\_dm.Huuraanpassing.Specificatie\\_30\\_juni\n",
                "- staedion\\_dm.Huuraanpassing.Specificatie\\_30\\_juni\n",
                "-"
            ],
            "metadata": {
                "azdata_cell_guid": "91d09270-f71c-4294-9ad6-adaec076675e"
            }
        },
        {
            "cell_type": "code",
            "source": [
                "use staedion_dm\r\n",
                ";\r\n",
                "\r\n",
                "Drop table If Exists Huuraanpassing.Specificatie_30_juni\r\n",
                ";\r\n",
                "SELECT  Peildatum = datefromparts(year(getdate()),6,30)\r\n",
                "\t, Eenheidnr\r\n",
                "\t, Volgnummer\r\n",
                "    /*, [Ingangsdatum contractregel] = convert(NVARCHAR(20), [Ingangsdatum contractregel], 105)  */\r\n",
                "    , [Ingangsdatum contractregel]= convert(nvarchar(20),[Ingangsdatum contractregel],105)\r\n",
                "    , [Einddatum contractregel] =  convert(NVARCHAR(20), [Einddatum contractregel], 105)\r\n",
                "    , [Huurdernaam]\r\n",
                "    , [Elementnr]\r\n",
                "\t, ElementNaam = Elementnr + ' ' + [Omschrijving element]\r\n",
                "    , [Omschrijving element]\r\n",
                "    , Bedrag = Bedrag --convert(DECIMAL(12, 2), Bedrag)\r\n",
                "\t, [Bedrag niet afgerond] \r\n",
                "\t, [Bedrag incl. BTW]\r\n",
                "\t, [BTW-productboekingsgroep]\r\n",
                "    , [Status ogekaart]\r\n",
                "\t, [Op huurverhoging afdrukken]\r\n",
                "    , [Eenmalig]    \r\n",
                "into staedion_dm.Huuraanpassing.Specificatie_30_juni\r\n",
                "FROM staedion_dm.Huuraanpassing.[fn_ElementenDetails](NULL, datefromparts(year(getdate()),6,30)) AS BASIS\r\n",
                "ORDER BY Eenheidnr\r\n",
                "      ,[Elementnr]\r\n",
                "\r\n",
                "Drop table If Exists Huuraanpassing.Specificatie_1_juli\r\n",
                ";\r\n",
                "SELECT  Peildatum = datefromparts(year(getdate()),7,1)\r\n",
                "\t, Eenheidnr\r\n",
                "\t, Volgnummer\r\n",
                "    /*, [Ingangsdatum contractregel] = convert(NVARCHAR(20), [Ingangsdatum contractregel], 105)  */\r\n",
                "    , [Ingangsdatum contractregel]= convert(nvarchar(20),[Ingangsdatum contractregel],105)\r\n",
                "    , [Einddatum contractregel] =  convert(NVARCHAR(20), [Einddatum contractregel], 105)\r\n",
                "    , [Huurdernaam]\r\n",
                "    , [Elementnr]\r\n",
                "\t, ElementNaam = Elementnr + ' ' + [Omschrijving element]\r\n",
                "    , [Omschrijving element]\r\n",
                "    , Bedrag = Bedrag --convert(DECIMAL(12, 2), Bedrag)\r\n",
                "\t, [Bedrag niet afgerond] \r\n",
                "\t, [Bedrag incl. BTW]\r\n",
                "\t, [BTW-productboekingsgroep]\r\n",
                "    , [Status ogekaart]\r\n",
                "\t, [Op huurverhoging afdrukken]\r\n",
                "    , [Eenmalig]\r\n",
                "into staedion_dm.Huuraanpassing.Specificatie_1_juli\r\n",
                "FROM staedion_dm.Huuraanpassing.[fn_ElementenDetails](NULL, datefromparts(year(getdate()),7,1)) AS BASIS\r\n",
                "ORDER BY Eenheidnr\r\n",
                "      ,[Elementnr]      \r\n",
                "\r\n",
                "Drop table If Exists Huuraanpassing.Huurprijs_1_juli\r\n",
                ";\r\n",
                "SELECT Eenheidnr = OGE.Nr_\r\n",
                "\t   ,Adres = OGE.Straatnaam + ' ' + OGE.Huisnr_  + ' ' + OGE.Toevoegsel\r\n",
                "       ,CLUS.Clusternr\r\n",
                "       ,CLUS.Clusternaam\r\n",
                "       ,CONT.Assetmanager\r\n",
                "       ,Peildatum = getdate()\r\n",
                "       ,Huurbeleid = CASE oge.huurbeleid\r\n",
                "              WHEN 0\r\n",
                "                     THEN 'Hoogste bedrag'\r\n",
                "              WHEN 1\r\n",
                "                     THEN 'Streefhuur'\r\n",
                "              WHEN 2\r\n",
                "                     THEN 'Elementsjabloon'\r\n",
                "              WHEN 3\r\n",
                "                     THEN 'Huidige huur'\r\n",
                "              WHEN 4\r\n",
                "                     THEN 'Markthuurwaarde'\r\n",
                "              END\r\n",
                "       ,[Nettohuur] = convert(FLOAT, HPR.nettohuur)\r\n",
                "       ,[Nettohuur incl btw] = convert(FLOAT, HPR.nettohuur_inclbtw)\r\n",
                "       ,[Brutohuur] = convert(FLOAT, HPR.brutohuur_inclbtw)\r\n",
                "       ,[Brutohuur incl btw] = convert(FLOAT, HPR.brutohuur_inclbtw)\r\n",
                "       ,HPR.prolongatietermijn\r\n",
                "       ,KENM.[Corpodata type]\r\n",
                "into staedion_dm.Huuraanpassing.Huurprijs_1_juli\r\n",
                "FROM empire_data.dbo.Staedion$oge AS OGE\r\n",
                "OUTER APPLY staedion_dm.Huuraanpassing.fn_Huurprijs(OGE.Nr_, datefromparts(year(getdate()),7,1)) AS HPR\r\n",
                "OUTER APPLY staedion_dm.Eenheden.fnEigenschappen(OGE.Nr_, getdate()) AS KENM\r\n",
                "OUTER APPLY empire_staedion_data.[dbo].ITVfnCLusterBouwblok(OGE.Nr_) AS CLUS\r\n",
                "OUTER APPLY empire_staedion_data.[dbo].[ITVFnContactbeheer](OGE.Nr_) AS CONT\r\n",
                "--OUTER APPLY empire_staedion_data.[dbo].ITVfnContractaanhef(HPR.huurdernr) AS HRD\r\n",
                "WHERE OGE.[Common Area] = 0\r\n",
                "       AND OGE.[Begin exploitatie] <> '17530101'\r\n",
                "       AND OGE.[Begin exploitatie] <= datefromparts(year(getdate()),7,1)\r\n",
                "       AND (\r\n",
                "              OGE.[Einde exploitatie] = '17530101'\r\n",
                "              OR OGE.[Einde exploitatie] > datefromparts(year(getdate()),7,1)\r\n",
                "              );\r\n",
                "\r\n",
                "select count(*) from staedion_dm.Huuraanpassing.Specificatie_30_juni;\r\n",
                "select count(*) from staedion_dm.Huuraanpassing.Specificatie_1_juli;\r\n",
                "select count(*) from staedion_dm.Huuraanpassing.Huurprijs_1_juli;\r\n",
                ""
            ],
            "metadata": {
                "azdata_cell_guid": "5939a2fe-1d6f-490b-9140-983db32f4258",
                "tags": []
            },
            "outputs": [],
            "execution_count": null
        },
        {
            "cell_type": "markdown",
            "source": [
                "<a id=110 />\n",
                "\n",
                "## Eenheden met brutohuurprijs onder de 1 euro\n",
                "- [Terug naar inhoudsopgave](#00)"
            ],
            "metadata": {
                "azdata_cell_guid": "e09334f9-6f3d-418e-b875-d4089da3f91d"
            }
        },
        {
            "cell_type": "code",
            "source": [
                "SELECT Eenheidnr = OGE.Nr_\r\n",
                "\t   ,Adres = OGE.Straatnaam + ' ' + OGE.Huisnr_  + ' ' + OGE.Toevoegsel\r\n",
                "       ,CLUS.Clusternr\r\n",
                "       ,CLUS.Clusternaam\r\n",
                "       ,CONT.Assetmanager\r\n",
                "       ,Peildatum = getdate()\r\n",
                "       ,Huurbeleid = CASE oge.huurbeleid\r\n",
                "              WHEN 0\r\n",
                "                     THEN 'Hoogste bedrag'\r\n",
                "              WHEN 1\r\n",
                "                     THEN 'Streefhuur'\r\n",
                "              WHEN 2\r\n",
                "                     THEN 'Elementsjabloon'\r\n",
                "              WHEN 3\r\n",
                "                     THEN 'Huidige huur'\r\n",
                "              WHEN 4\r\n",
                "                     THEN 'Markthuurwaarde'\r\n",
                "              END\r\n",
                "       ,[Nettohuur] = convert(FLOAT, HPR.nettohuur)\r\n",
                "       ,[Nettohuur incl btw] = convert(FLOAT, HPR.nettohuur_inclbtw)\r\n",
                "       ,[Brutohuur] = convert(FLOAT, HPR.brutohuur_inclbtw)\r\n",
                "       ,[Brutohuur incl btw] = convert(FLOAT, HPR.brutohuur_inclbtw)\r\n",
                "       ,KENM.[Corpodata type]\r\n",
                "--into staedion_dm.Huuraanpassing.Huurprijs_1_juli\r\n",
                "FROM empire_data.dbo.Staedion$oge AS OGE\r\n",
                "OUTER APPLY staedion_dm.Huuraanpassing.fn_Huurprijs(OGE.Nr_, datefromparts(year(getdate()),7,1)) AS HPR\r\n",
                "OUTER APPLY staedion_dm.Eenheden.fnEigenschappen(OGE.Nr_, getdate()) AS KENM\r\n",
                "OUTER APPLY empire_staedion_data.[dbo].ITVfnCLusterBouwblok(OGE.Nr_) AS CLUS\r\n",
                "OUTER APPLY empire_staedion_data.[dbo].[ITVFnContactbeheer](OGE.Nr_) AS CONT\r\n",
                "--OUTER APPLY empire_staedion_data.[dbo].ITVfnContractaanhef(HPR.huurdernr) AS HRD\r\n",
                "WHERE OGE.[Common Area] = 0\r\n",
                "       AND HPR.brutohuur_inclbtw <= 1 \r\n",
                "       AND OGE.[Begin exploitatie] <> '17530101'\r\n",
                "       AND OGE.[Begin exploitatie] <= datefromparts(year(getdate()),7,1)\r\n",
                "       AND (\r\n",
                "              OGE.[Einde exploitatie] = '17530101'\r\n",
                "              OR OGE.[Einde exploitatie] > datefromparts(year(getdate()),7,1)\r\n",
                "              );"
            ],
            "metadata": {
                "azdata_cell_guid": "0313ad97-665a-494f-a931-09dcf7d6b230",
                "tags": [
                    "hide_input"
                ]
            },
            "outputs": [],
            "execution_count": null
        },
        {
            "cell_type": "markdown",
            "source": [
                "[Check op bepaalde elementen die niet meer voor mogen komen- [Terug naar inhoudsopgave](#00)](..\\..\\..\\..\\..\\..)"
            ],
            "metadata": {
                "azdata_cell_guid": "fab8cb38-a8e9-4d93-b77a-1d17aae6d605"
            }
        },
        {
            "cell_type": "code",
            "source": [
                "/* Check op aanwezigheid van niet-actieve elementen */\r\n",
                "DROP TABLE IF EXISTS #cte_InActieveElementen ;\r\n",
                "\r\n",
                "WITH cte_InActieveElementen\r\n",
                "AS (\r\n",
                "\tSELECT ElementNummer\r\n",
                "\t\t,SoortVerhogingAlgemeen = CASE ALG.SoortVerhogingAlgemeen\r\n",
                "\t\t\tWHEN 0\r\n",
                "\t\t\t\tTHEN 'Niet'\r\n",
                "\t\t\tWHEN 1\r\n",
                "\t\t\t\tTHEN '%'\r\n",
                "\t\t\tWHEN 2\r\n",
                "\t\t\t\tTHEN 'Bedrag'\r\n",
                "\t\t\tEND\r\n",
                "\t\t,ALG.VerhogingAlgemeen\r\n",
                "\t\t,ELEM.Productboekingsgroep\r\n",
                "\t\t,ELEM.Omschrijving\r\n",
                "\tFROM empire.empire.dbo.HuurverhogingAlgemeen AS ALG\r\n",
                "\tLEFT OUTER JOIN empire.empire.dbo.staedion$element  AS ELEM with (nolock) ON ELEM.Nr_ = ALG.elementnummer\r\n",
                "\t\tAND ELEM.TAbel = 0\r\n",
                "\tWHERE ALG.ElementNummer IN (\r\n",
                "\t\t\t'124'\r\n",
                "\t\t\t,'129'\r\n",
                "\t\t\t,'201'\r\n",
                "\t\t\t,'211'\r\n",
                "\t\t\t,'215'\r\n",
                "\t\t\t,'218'\r\n",
                "\t\t\t,'219'\r\n",
                "\t\t\t)\r\n",
                "\t)\r\n",
                "SELECT * INTO #cte_InActieveElementen FROM cte_InActieveElementen\r\n",
                ";\r\n",
                "SELECT\tELEM.ElementNummer,  ELEM.Omschrijving, [Aantal regels per 1-7] = count(*)\r\n",
                "FROM\t#cte_InActieveElementen as ELEM\r\n",
                "cross apply staedion_dm. Huuraanpassing.[fn_ElementenDetails] (null,'20210701') as DET\r\n",
                "group by ELEM.ElementNummer,  ELEM.Omschrijving\r\n",
                "order by ELEM.ElementNummer,  ELEM.Omschrijving\r\n",
                ";\r\n",
                ""
            ],
            "metadata": {
                "azdata_cell_guid": "ceb948e6-3aa7-4955-a6ff-fa6061910415",
                "tags": []
            },
            "outputs": [],
            "execution_count": null
        },
        {
            "cell_type": "markdown",
            "source": [
                "[Eenheden met 061 Huurkorting per 30-06 en 1-7 van lopend jaar (op basis van bevroren huurverhogings-regels)- [Terug naar inhoudsopgave](#00)](..\\..\\..\\..\\..\\..)"
            ],
            "metadata": {
                "azdata_cell_guid": "e961e991-5a7a-4506-afd8-1f1380e02913"
            }
        },
        {
            "cell_type": "code",
            "source": [
                "SELECT Peildatum = datefromparts(year(getdate()),6,30)\r\n",
                "\t, Eenheidnr\r\n",
                "    /*, [Ingangsdatum contractregel] = convert(NVARCHAR(20), [Ingangsdatum contractregel], 105)  */\r\n",
                "    , [Ingangsdatum contractregel]= convert(nvarchar(20),[Ingangsdatum contractregel],105)\r\n",
                "    , [Einddatum contractregel] =  convert(NVARCHAR(20), [Einddatum contractregel], 105)\r\n",
                "    , [Huurdernaam]\r\n",
                "    , [Elementnr]\r\n",
                "    , [Omschrijving element]\r\n",
                "    , Bedrag = Bedrag--convert(DECIMAL(12, 2), Bedrag)\r\n",
                "    , [Status ogekaart]\r\n",
                "FROM staedion_dm.Huuraanpassing.[fn_ElementenDetails](NULL, datefromparts(year(getdate()),6,30)) AS BASIS\r\n",
                "WHERE EXISTS (\r\n",
                "        SELECT 1\r\n",
                "        FROM staedion_dm.Huuraanpassing.[fn_ElementenDetails](NULL, datefromparts(year(getdate()),6,30)) AS KOPIE\r\n",
                "        WHERE KOPIE.Elementnr IN ('061')\r\n",
                "            AND BASIS.Eenheidnr = KOPIE.Eenheidnr\r\n",
                "        )\r\n",
                "UNION\r\n",
                "SELECT Peildatum = datefromparts(year(getdate()),7,1)\r\n",
                "\t, Eenheidnr\r\n",
                "    /*, [Ingangsdatum contractregel] = convert(NVARCHAR(20), [Ingangsdatum contractregel], 105)  */\r\n",
                "    , [Ingangsdatum contractregel]= convert(nvarchar(20),[Ingangsdatum contractregel],105)\r\n",
                "    , [Einddatum contractregel] =  convert(NVARCHAR(20), [Einddatum contractregel], 105)\r\n",
                "    , [Huurdernaam]\r\n",
                "    , [Elementnr]\r\n",
                "    , [Omschrijving element]\r\n",
                "    , Bedrag = Bedrag --convert(DECIMAL(12, 2), Bedrag)\r\n",
                "    , [Status ogekaart]\r\n",
                "FROM staedion_dm.Huuraanpassing.[fn_ElementenDetails](NULL, datefromparts(year(getdate()),7,1)) AS BASIS\r\n",
                "WHERE EXISTS (\r\n",
                "        SELECT 1\r\n",
                "        FROM staedion_dm.Huuraanpassing.[fn_ElementenDetails](NULL, datefromparts(year(getdate()),7,1)) AS KOPIE\r\n",
                "        WHERE KOPIE.Elementnr IN ('061')\r\n",
                "            AND BASIS.Eenheidnr = KOPIE.Eenheidnr\r\n",
                "        )\r\n",
                "ORDER BY Eenheidnr\r\n",
                "      ,Peildatum\r\n",
                "    , [Elementnr];\r\n",
                ""
            ],
            "metadata": {
                "azdata_cell_guid": "9968d4f5-e899-4e3f-8b35-62627c564556",
                "tags": [
                    "hide_input"
                ]
            },
            "outputs": [],
            "execution_count": null
        },
        {
            "cell_type": "markdown",
            "source": [
                "<a id=140 />\n",
                "\n",
                "## Eenheden met 413 Woonduurkorting 10 jaar - afwijkend tov -0.97\n",
                "- [Terug naar inhoudsopgave](#00)"
            ],
            "metadata": {
                "azdata_cell_guid": "ed03f04d-5e3c-4511-bc33-87f7984cce90"
            }
        },
        {
            "cell_type": "code",
            "source": [
                "SELECT Peildatum = datefromparts(year(getdate()),7,1)\r\n",
                "\t, Eenheidnr\r\n",
                "    , [Ingangsdatum contractregel]= convert(nvarchar(20),[Ingangsdatum contractregel],105)\r\n",
                "    , [Einddatum contractregel]= convert(nvarchar(20),[Einddatum contractregel],105)\r\n",
                "    , [Huurdernaam]\r\n",
                "    , [Elementnr]\r\n",
                "    , [Omschrijving element]\r\n",
                "    , Bedrag = convert(decimal(12,2), Bedrag)\r\n",
                "    , [Status ogekaart]\r\n",
                "FROM staedion_dm.Huuraanpassing.[fn_ElementenDetails](NULL, datefromparts(year(getdate()),7,1))\r\n",
                "WHERE Elementnr IN ('413')\r\n",
                "    AND Bedrag <> - 0.97\r\n",
                "UNION\r\n",
                "SELECT Peildatum = datefromparts(year(getdate()),6,30)\r\n",
                "\t, Eenheidnr\r\n",
                "    , [Ingangsdatum contractregel]= convert(nvarchar(20),[Ingangsdatum contractregel],105)\r\n",
                "    , [Einddatum contractregel]= convert(nvarchar(20),[Einddatum contractregel],105)\r\n",
                "    , [Huurdernaam]\r\n",
                "    , [Elementnr]\r\n",
                "    , [Omschrijving element]\r\n",
                "    , Bedrag = convert(decimal(12,2), Bedrag)\r\n",
                "    , [Status ogekaart]\r\n",
                "FROM staedion_dm.Huuraanpassing.[fn_ElementenDetails](NULL, datefromparts(year(getdate()),6,30))\r\n",
                "WHERE Elementnr IN ('413')\r\n",
                "    AND Bedrag <> - 0.97\r\n",
                "ORDER BY Eenheidnr\r\n",
                "    , Peildatum\r\n",
                "    , [Elementnr];\r\n",
                ""
            ],
            "metadata": {
                "azdata_cell_guid": "60920099-4c48-41c8-810c-81b7c68e6526",
                "tags": []
            },
            "outputs": [],
            "execution_count": null
        },
        {
            "cell_type": "markdown",
            "source": [
                "[480 Huurcorrectie eigen gebruik + 481 Servicekostencorrectie eigen gebruik- [Terug naar inhoudsopgave](#00)](..\\..\\..\\..\\..\\..)"
            ],
            "metadata": {
                "azdata_cell_guid": "dc6653ce-e0ab-42f9-b7eb-7a50a4e01980"
            }
        },
        {
            "cell_type": "code",
            "source": [
                "SELECT Peildatum = datefromparts(year(getdate()),6,30)\r\n",
                "\t, Eenheidnr\r\n",
                "    /*, [Ingangsdatum contractregel] = convert(NVARCHAR(20), [Ingangsdatum contractregel], 105)  */\r\n",
                "    , [Ingangsdatum contractregel]= convert(nvarchar(20),[Ingangsdatum contractregel],105)\r\n",
                "    , [Einddatum contractregel] =  convert(NVARCHAR(20), [Einddatum contractregel], 105)\r\n",
                "    , [Huurdernaam]\r\n",
                "    , [Elementnr]\r\n",
                "    , [Omschrijving element]\r\n",
                "    , Bedrag = convert(DECIMAL(12, 2), Bedrag)\r\n",
                "    , [Status ogekaart]\r\n",
                "FROM staedion_dm.Huuraanpassing.[ElementenDetails](NULL, datefromparts(year(getdate()),6,30)) AS BASIS\r\n",
                "WHERE EXISTS (\r\n",
                "        SELECT 1\r\n",
                "        FROM staedion_dm.Huuraanpassing.[ElementenDetails](NULL, datefromparts(year(getdate()),6,30)) AS KOPIE\r\n",
                "        WHERE KOPIE.Elementnr IN ('480','481')\r\n",
                "            AND BASIS.Eenheidnr = KOPIE.Eenheidnr\r\n",
                "        )\r\n",
                "union\r\n",
                "\r\n",
                "SELECT Peildatum = datefromparts(year(getdate()),7,1)\r\n",
                "\t, Eenheidnr\r\n",
                "    /*, [Ingangsdatum contractregel] = convert(NVARCHAR(20), [Ingangsdatum contractregel], 105)  */\r\n",
                "    , [Ingangsdatum contractregel]= convert(nvarchar(20),[Ingangsdatum contractregel],105)\r\n",
                "    , [Einddatum contractregel] =  convert(NVARCHAR(20), [Einddatum contractregel], 105)\r\n",
                "    , [Huurdernaam]\r\n",
                "    , [Elementnr]\r\n",
                "    , [Omschrijving element]\r\n",
                "    , Bedrag = convert(DECIMAL(12, 2), Bedrag)\r\n",
                "    , [Status ogekaart]\r\n",
                "FROM staedion_dm.Huuraanpassing.[ElementenDetails](NULL, datefromparts(year(getdate()),7,1)) AS BASIS\r\n",
                "WHERE EXISTS (\r\n",
                "        SELECT 1\r\n",
                "        FROM staedion_dm.Huuraanpassing.[ElementenDetails](NULL, datefromparts(year(getdate()),7,1)) AS KOPIE\r\n",
                "        WHERE KOPIE.Elementnr IN ('480','481')\r\n",
                "            AND BASIS.Eenheidnr = KOPIE.Eenheidnr\r\n",
                "        )\r\n",
                "\r\n",
                "ORDER BY Eenheidnr\r\n",
                "      ,Peildatum\r\n",
                "    , [Elementnr];\r\n",
                ""
            ],
            "metadata": {
                "azdata_cell_guid": "7c5bddc3-beb1-47c7-b8af-47c4ae59e92f",
                "tags": [
                    "hide_input"
                ]
            },
            "outputs": [],
            "execution_count": null
        },
        {
            "cell_type": "markdown",
            "source": [
                "[008 Standplaats + 482 Huurcorrectie ivm extern beheer- [Terug naar inhoudsopgave](#00)](..\\..\\..\\..\\..\\..)"
            ],
            "metadata": {
                "azdata_cell_guid": "3f1ad697-ddec-4eda-b4e5-f7ddf04b0b8f"
            }
        },
        {
            "cell_type": "code",
            "source": [
                "SELECT Peildatum = datefromparts(year(getdate()),6,30)\r\n",
                "\t, Eenheidnr\r\n",
                "    /*, [Ingangsdatum contractregel] = convert(NVARCHAR(20), [Ingangsdatum contractregel], 105)  */\r\n",
                "    , [Ingangsdatum contractregel]= convert(nvarchar(20),[Ingangsdatum contractregel],105)\r\n",
                "    , [Einddatum contractregel] =  convert(NVARCHAR(20), [Einddatum contractregel], 105)\r\n",
                "    , [Huurdernaam]\r\n",
                "    , [Elementnr]\r\n",
                "    , [Omschrijving element]\r\n",
                "    , Bedrag = convert(DECIMAL(12, 2), Bedrag)\r\n",
                "    , [Status ogekaart]\r\n",
                "FROM staedion_dm.Huuraanpassing.[ElementenDetails](NULL, datefromparts(year(getdate()),6,30)) AS BASIS\r\n",
                "WHERE EXISTS (\r\n",
                "        SELECT 1\r\n",
                "        FROM staedion_dm.Huuraanpassing.[ElementenDetails](NULL, datefromparts(year(getdate()),6,30)) AS KOPIE\r\n",
                "        WHERE KOPIE.Elementnr IN ('008','482')\r\n",
                "            AND BASIS.Eenheidnr = KOPIE.Eenheidnr\r\n",
                "        )\r\n",
                "union\r\n",
                "\r\n",
                "SELECT Peildatum = datefromparts(year(getdate()),7,1)\r\n",
                "\t, Eenheidnr\r\n",
                "    /*, [Ingangsdatum contractregel] = convert(NVARCHAR(20), [Ingangsdatum contractregel], 105)  */\r\n",
                "    , [Ingangsdatum contractregel]= convert(nvarchar(20),[Ingangsdatum contractregel],105)\r\n",
                "    , [Einddatum contractregel] =  convert(NVARCHAR(20), [Einddatum contractregel], 105)\r\n",
                "    , [Huurdernaam]\r\n",
                "    , [Elementnr]\r\n",
                "    , [Omschrijving element]\r\n",
                "    , Bedrag = convert(DECIMAL(12, 2), Bedrag)\r\n",
                "    , [Status ogekaart]\r\n",
                "FROM staedion_dm.Huuraanpassing.[ElementenDetails](NULL, datefromparts(year(getdate()),7,1)) AS BASIS\r\n",
                "WHERE EXISTS (\r\n",
                "        SELECT 1\r\n",
                "        FROM staedion_dm.Huuraanpassing.[ElementenDetails](NULL, datefromparts(year(getdate()),7,1)) AS KOPIE\r\n",
                "        WHERE KOPIE.Elementnr IN ('008','482')\r\n",
                "            AND BASIS.Eenheidnr = KOPIE.Eenheidnr\r\n",
                "        )\r\n",
                "\r\n",
                "ORDER BY Eenheidnr\r\n",
                "      ,Peildatum\r\n",
                "    , [Elementnr];"
            ],
            "metadata": {
                "azdata_cell_guid": "136b8455-98b9-47c3-9a98-12093bdb8d29",
                "tags": [
                    "hide_input"
                ]
            },
            "outputs": [],
            "execution_count": null
        },
        {
            "cell_type": "markdown",
            "source": [
                "[Overzicht alle elementen per 30-6, volgens te muteren tabel, per 1-7- [Terug naar inhoudsopgave](#00)](..\\..\\..\\..\\..\\..)"
            ],
            "metadata": {
                "azdata_cell_guid": "5e2c5310-ff63-4d86-9e6c-29b0946081c6"
            }
        },
        {
            "cell_type": "code",
            "source": [
                "DROP TABLE IF EXISTS #cte_InActieveElementen ;\r\n",
                "DROP TABLE IF EXISTS #cte_TrendMatigeElementen ;\r\n",
                "DROP TABLE IF EXISTS #cte_17 ;\r\n",
                "DROP TABLE IF EXISTS #cte_306 ;\r\n",
                "DROP TABLE IF EXISTS #cte_sim ;\r\n",
                "\r\n",
                "WITH cte_InActieveElementen\r\n",
                "AS (\r\n",
                "\tSELECT ElementNummer\r\n",
                "\t\t,SoortVerhogingAlgemeen = CASE ALG.SoortVerhogingAlgemeen\r\n",
                "\t\t\tWHEN 0\r\n",
                "\t\t\t\tTHEN 'Niet'\r\n",
                "\t\t\tWHEN 1\r\n",
                "\t\t\t\tTHEN '%'\r\n",
                "\t\t\tWHEN 2\r\n",
                "\t\t\t\tTHEN 'Bedrag'\r\n",
                "\t\t\tEND\r\n",
                "\t\t,ALG.VerhogingAlgemeen\r\n",
                "\t\t,ELEM.Productboekingsgroep\r\n",
                "\t\t,ELEM.Omschrijving\r\n",
                "\tFROM empire.empire.dbo.HuurverhogingAlgemeen AS ALG\r\n",
                "\tLEFT OUTER JOIN empire.empire.dbo.staedion$element AS ELEM ON ELEM.Nr_ = ALG.elementnummer\r\n",
                "\t\tAND ELEM.TAbel = 0\r\n",
                "\tWHERE ALG.ElementNummer IN (\r\n",
                "\t\t\t'124'\r\n",
                "\t\t\t,'129'\r\n",
                "\t\t\t,'201'\r\n",
                "\t\t\t,'211'\r\n",
                "\t\t\t,'215'\r\n",
                "\t\t\t,'218'\r\n",
                "\t\t\t,'219'\r\n",
                "\t\t\t)\r\n",
                "\t)\r\n",
                "SELECT * INTO #cte_InActieveElementen FROM cte_InActieveElementen\r\n",
                ";\r\n",
                "\r\n",
                "WITH cte_TrendMatigeElementen\r\n",
                "AS (\r\n",
                "\tSELECT ElementNummer\r\n",
                "\t\t,SoortVerhogingAlgemeen = CASE ALG.SoortVerhogingAlgemeen\r\n",
                "\t\t\tWHEN 0\r\n",
                "\t\t\t\tTHEN 'Niet'\r\n",
                "\t\t\tWHEN 1\r\n",
                "\t\t\t\tTHEN '%'\r\n",
                "\t\t\tWHEN 2\r\n",
                "\t\t\t\tTHEN 'Bedrag'\r\n",
                "\t\t\tEND\r\n",
                "\t\t,ALG.VerhogingAlgemeen\r\n",
                "\t\t,ELEM.Productboekingsgroep\r\n",
                "\t\t,ELEM.Omschrijving\r\n",
                "\tFROM empire.empire.dbo.HuurverhogingAlgemeen AS ALG\r\n",
                "\tLEFT OUTER JOIN empire.empire.dbo.staedion$element AS ELEM ON ELEM.Nr_ = ALG.elementnummer\r\n",
                "\t\tAND ELEM.TAbel = 0\r\n",
                "\tWHERE ALG.ElementNummer IN (\r\n",
                "\t\t\t'101'\r\n",
                "\t\t\t,'103'\r\n",
                "\t\t\t,'107'\r\n",
                "\t\t\t,'109'\r\n",
                "\t\t\t,'111'\r\n",
                "\t\t\t,'113'\r\n",
                "\t\t\t,'117'\r\n",
                "\t\t\t,'121'\r\n",
                "\t\t\t,'123'\r\n",
                "\t\t\t,'125'\r\n",
                "\t\t\t,'126'\r\n",
                "\t\t\t,'127'\r\n",
                "\t\t\t,'131'\r\n",
                "\t\t\t,'133'\r\n",
                "\t\t\t,'137'\r\n",
                "\t\t\t,'138'\r\n",
                "\t\t\t,'141'\r\n",
                "\t\t\t,'145'\r\n",
                "\t\t\t,'148'\r\n",
                "\t\t\t,'151'\r\n",
                "\t\t\t,'161'\r\n",
                "\t\t\t,'163'\r\n",
                "\t\t\t,'166'\r\n",
                "\t\t\t,'206'\r\n",
                "\t\t\t,'207'\r\n",
                "\t\t\t,'208'\r\n",
                "\t\t\t,'212'\r\n",
                "\t\t\t,'213'\r\n",
                "\t\t\t,'224'\r\n",
                "\t\t\t,'225'\r\n",
                "\t\t\t,'352'\r\n",
                "\t\t\t)\r\n",
                "\t)\r\n",
                "SELECT * INTO #cte_TrendMatigeElementen FROM cte_TrendMatigeElementen\r\n",
                ";\r\n",
                ";WITH cte_17 (\r\n",
                "\t[SVKN-cluster]\r\n",
                "\t,Elementnr\r\n",
                "\t,[Aantal eenheden 1-7]\r\n",
                "\t,[Totaal bedrag 1-7]\r\n",
                "\t,[Gemiddeld bedrag 1-7]\r\n",
                "\t)\r\n",
                "AS (\r\n",
                "\tSELECT icb.[SVKN-cluster]\r\n",
                "\t\t,ELEM.Elementnr\r\n",
                "\t\t,[Aantal eenheden 1-7] = COUNT(DISTINCT Eenheidnr)\r\n",
                "\t\t,[Totaal bedrag 1-7] = sum(Bedrag)\r\n",
                "\t\t,[Gemiddeld bedrag 1-7] = AVG(Bedrag)\r\n",
                "\tFROM empire_staedion_data.hvh.[ElementenDetails](NULL, '20210701') AS ELEM\r\n",
                "\tOUTER APPLY empire_staedion_data.dbo.ITVfnCLusterBouwblok(ELEM.Eenheidnr) AS icb\r\n",
                "\tGROUP BY ELEM.Elementnr\r\n",
                "\t\t,icb.[SVKN-cluster]\r\n",
                "\t)\r\n",
                "SELECT * INTO #cte_17 FROM cte_17\r\n",
                ";\r\n",
                "WITH cte_306 (\r\n",
                "\t[SVKN-cluster]\r\n",
                "\t,Elementnr\r\n",
                "\t,[Aantal eenheden 30-6]\r\n",
                "\t,[Totaal bedrag 30-6]\r\n",
                "\t,[Gemiddeld bedrag 30-6]\r\n",
                "\t)\r\n",
                "AS (\r\n",
                "\tSELECT icb.[SVKN-cluster]\r\n",
                "\t\t,ELEM.Elementnr\r\n",
                "\t\t,[Aantal eenheden 30-6] = COUNT(DISTINCT Eenheidnr)\r\n",
                "\t\t,[Totaal bedrag 30-6] = sum(Bedrag)\r\n",
                "\t\t,[Gemiddeld bedrag 30-6] = AVG(Bedrag)\r\n",
                "\tFROM empire_staedion_data.hvh.[ElementenDetails](NULL, '20210630') AS ELEM\r\n",
                "\tOUTER APPLY empire_staedion_data.dbo.ITVfnCLusterBouwblok(ELEM.Eenheidnr) AS icb\r\n",
                "\tGROUP BY ELEM.Elementnr\r\n",
                "\t\t,icb.[SVKN-cluster]\r\n",
                "\t)\r\n",
                "SELECT * INTO #cte_306 FROM cte_306\r\n",
                ";\r\n",
                "WITH cte_sim (\r\n",
                "\tEenheidnummer\r\n",
                "\t,Elementnr\r\n",
                "\t,[Te verwachten bedrag per 1-7]\r\n",
                "\t)\r\n",
                "AS (SELECT HVH.Eenheidnummer\r\n",
                "\t,HVH.ElementNummer\r\n",
                "\t,[Te verwachten bedrag per 1-7] =  CASE HVH.SoortVerhogingEenheid\r\n",
                "\t\tWHEN 1\r\n",
                "\t\t\tTHEN ROUND(ELEM.[Eenheidprijs (LV)]*1.00*(HVH.WaardeVerhogingEenheid+100)/100,2)\r\n",
                "\t\tWHEN 2\r\n",
                "\t\t\tTHEN ROUND(ELEM.[Eenheidprijs (LV)]+ HVH.WaardeVerhogingEenheid,2)\r\n",
                "\t\tEND\r\n",
                "FROM empire.empire.dbo.HuurverhogingEenheid AS HVH\r\n",
                "LEFT OUTER JOIN empire.empire.dbo.Staedion$Element AS ELEM \r\n",
                "\tON ELEM.Eenheidnr_ = HVH.Eenheidnummer\r\n",
                "\tAND ELEM.Volgnummer = HVH.Volgnummer\r\n",
                "\tAND ELEM.Nr_ = HVH.ElementNummer\r\n",
                "\t--WHERE ELEM.Nr_ BETWEEN '100' AND '299'\r\n",
                "\t)\r\n",
                "SELECT * into #cte_sim FROM cte_sim\r\n",
                "\r\n",
                "SELECT Elementnr = ELEM.Nr_\r\n",
                "\t\t,ELEM.Omschrijving\r\n",
                "\t\t,[Totaal bedrag 30-6] = (select SUM(_306.[Totaal bedrag 30-6]) from #cte_306 AS _306 where ELEM.Nr_ = _306.Elementnr)\r\n",
                "\t\t,[Te verwachten bedrag per 1-7] = convert(float,(select SUM(_s.[Te verwachten bedrag per 1-7]) from #cte_sim  _s where ELEM.Nr_ = _s.Elementnr ))\r\n",
                "\t\t,[Totaal bedrag 1-7] = convert(float,(select SUM(_17.[Totaal bedrag 1-7]) from #cte_17 AS _17 where ELEM.Nr_ = _17.Elementnr))\r\n",
                "\t\t,[Aantal eenheden 30-6] = convert(float,(select sum(distinct _17.[Aantal eenheden 30-6]) from #cte_306 AS _17 where ELEM.Nr_ = _17.Elementnr))\r\n",
                "\t\t,[Aantal eenheden 1-7] = convert(float,(select sum(distinct _17.[Aantal eenheden 1-7]) from #cte_17 AS _17 where ELEM.Nr_ = _17.Elementnr))\r\n",
                "\t\t,[Percentage werkelijke verandering]  = \r\n",
                "\t\t\t\t\tiif(convert(float,(select SUM(_306.[Totaal bedrag 30-6]) from #cte_306 AS _306 where ELEM.Nr_ = _306.Elementnr)) <>0\r\n",
                "\t\t\t\t\t\t\t,round( (select SUM(_17.[Totaal bedrag 1-7]) from #cte_17 AS _17 where ELEM.Nr_ = _17.Elementnr)\r\n",
                "\t\t\t\t\t\t\t\t/ (select SUM(_306.[Totaal bedrag 30-6]) from #cte_306 AS _306 where ELEM.Nr_ = _306.Elementnr),4)\r\n",
                "\t\t\t\t\t\t\t\t,null)\r\n",
                "\t\t,Trendmatig = iif(coalesce(max(TM.ElementNummer), '')='','nvt','Trendmatig')\r\n",
                "\t\t,Inactief = iif(coalesce(max(IA.ElementNummer), '')='','nvt','Inactief')\r\n",
                "\t\t,ELEM.soort\r\n",
                "FROM empire.empire.dbo.staedion$element AS ELEM\r\n",
                "left outer join #cte_InActieveElementen as IA on IA.ElementNummer =ELEM.Nr_\r\n",
                "left outer join #cte_TrendMatigeElementen as TM on TM.ElementNummer =ELEM.Nr_\r\n",
                "where ELEM.TAbel = 0 and ELEM.soort = 0\r\n",
                "GROUP BY ELEM.Nr_,ELEM.Omschrijving,ELEM.soort\n",
                "HAVING convert(float,(select SUM(_306.[Totaal bedrag 30-6]) from #cte_306 AS _306 where ELEM.Nr_ = _306.Elementnr)) is not NULL\n",
                "        or convert(float,(select SUM(_s.[Te verwachten bedrag per 1-7]) from #cte_sim  _s where ELEM.Nr_ = _s.Elementnr )) is not NULL\n",
                "        or convert(float,(select SUM(_17.[Totaal bedrag 1-7]) from #cte_17 AS _17 where ELEM.Nr_ = _17.Elementnr)) is not null\r\n",
                "order by ELEM.Nr_\r\n",
                ";\r\n",
                "\r\n",
                ""
            ],
            "metadata": {
                "azdata_cell_guid": "bc55cfba-1bdc-4f82-a1d0-f7c3a6e7a938",
                "tags": [
                    "hide_input"
                ]
            },
            "outputs": [],
            "execution_count": null
        },
        {
            "cell_type": "markdown",
            "source": [
                "## Check nieuwe netto huur simulatie met functie netto huur op basis van kopie element\\contract-tabel\r\n",
                "- [Terug naar inhoudsopgave](#00)\r\n",
                "\r\n",
                "Dat dient 2 doelen: is simulatiebestand consistent met 1-7-regel + is functie ok](..\\..\\..\\..\\..\\..)"
            ],
            "metadata": {
                "azdata_cell_guid": "eaa1ec0b-a061-4e79-95ec-8f5a341e84d0"
            }
        },
        {
            "cell_type": "code",
            "source": [
                "/*  Check of Nieuwe nettohuur van simulatie ook overeenkomt met functie huurprijs op basis van hvh-tabellen element\\contract\r\n",
                "    (in deze functie wordt gebruik gemaakt van empire_staedion_data.hvh.fnHuurprijs */\r\n",
                "SELECT\tHuursomtijdvakcode, Eenheidnr,[Nieuwe nettohuur simulatie], [Nieuwe nettohuur 1-7], Verwerkingsstatus\r\n",
                "FROM\tstaedion_dm.Huuraanpassing.[fn_SimulatieHuursom](DEFAULT) \r\n",
                "WHERE   [Nieuwe nettohuur simulatie] <> [Nieuwe nettohuur 1-7]\r\n",
                "order by Eenheidnr\r\n",
                ""
            ],
            "metadata": {
                "azdata_cell_guid": "8836431e-8a91-48b9-91d6-c808bdf651de",
                "tags": [
                    "hide_input"
                ]
            },
            "outputs": [],
            "execution_count": null
        },
        {
            "cell_type": "markdown",
            "source": [
                "[Check specificatie huur per eenheid is optelsom van huur per element- [Terug naar inhoudsopgave](#00)Zijn beide bestanden consistent ?](..\\..\\..\\..\\..\\..)"
            ],
            "metadata": {
                "azdata_cell_guid": "fa57c634-a51a-4b3d-b61b-81344588b5a3"
            }
        },
        {
            "cell_type": "code",
            "source": [
                "Drop table If Exists #SPEC;\n",
                "Drop table If Exists #TOT;\n",
                "\n",
                "select Eenheidnr, Bedrag = sum(coalesce([Bedrag incl. BTW],0)) \n",
                "into #SPEC\n",
                "from staedion_dm.huuraanpassing.Specificatie_1_juli\n",
                "where Eenmalig = 0\n",
                "group by Eenheidnr\n",
                ";\n",
                "select Eenheidnr, Prolongatietermijn, Bedrag = sum(coalesce([Brutohuur incl btw],0)) \n",
                "into #TOT\n",
                "from staedion_dm.huuraanpassing.Huurprijs_1_juli\n",
                "group by Eenheidnr, Prolongatietermijn\n",
                ";\n",
                "select Eenheid = coalesce(S.eenheidnr,T.eenheidnr) , Prolongatietermijn, Specificatie = S.Bedrag, Totaal = T.Bedrag, [Afwijking] = abs( coalesce(S.Bedrag,0) - coalesce(T.Bedrag,0))\n",
                "from #SPEC as S\n",
                "full outer join #TOT as T\n",
                "on S.eenheidnr = T.eenheidnr\n",
                "where  abs( coalesce(S.Bedrag,0) - coalesce(T.Bedrag,0))>=0.1\n",
                ";"
            ],
            "metadata": {
                "azdata_cell_guid": "7cb2abc0-6186-4e1c-a596-6354bdb5e3f6",
                "tags": []
            },
            "outputs": [],
            "execution_count": null
        },
        {
            "cell_type": "markdown",
            "source": [
                "<span style=\"color: #800000;font-weight: bold;\">##&nbsp;Check wijzigingen elementen</span>\n",
                "\n",
                "  \n",
                "\n",
                "\\- \\[<span style=\"color: #a31515;\">Terug&nbsp;naar&nbsp;inhoudsopgave</span>\\](<u>#00</u>)\n",
                "\n",
                "  \n",
                "\n",
                "Een overall check op korte termijn op onderstaande constatering is van belang!\n",
                "\n",
                "Het lijkt erop dat (bij een nog onbekend aantal adressen) het verwijderen van element 206 niet goed is gegaan.\n",
                "\n",
                "Zo te zien zijn er correcties nodig (en wellicht al communicatie hierover; naar KCC en/of specifieke klanten)."
            ],
            "metadata": {
                "azdata_cell_guid": "6ec1a17f-807a-4f17-89b8-79e0a9bcacf4"
            }
        },
        {
            "cell_type": "code",
            "source": [
                "-- Element 206 verwijderd in 2021 maar daar ging iets niet goed\r\n",
                "select Datum = '20210701', Huurdernr, Eenheidnr, elementnr, [Omschrijving element], bedrag= convert(float,bedrag)\r\n",
                "from staedion_dm.huuraanpassing.fn_ElementenDetails (null,'20210701') \r\n",
                "where elementnr in ('207', '206')\r\n",
                ";\r\n",
                "select Datum = '20210630',Huurdernr, Eenheidnr, elementnr,[Omschrijving element], bedrag= convert(float,bedrag)\r\n",
                "from staedion_dm.huuraanpassing.fn_ElementenDetails (null,'20210630') \r\n",
                "where elementnr in ('207', '206')\r\n",
                ";"
            ],
            "metadata": {
                "azdata_cell_guid": "85a05c0e-143c-4380-82a0-2a0b918d59ea"
            },
            "outputs": [],
            "execution_count": null
        },
        {
            "cell_type": "markdown",
            "source": [
                "# 1000\n",
                "\n",
                "## BIJLAGE 1: rapportage-onderdelen tbv genereren huuraanpassing (maatwerk Jaco/Eric Reitsma in Empire)"
            ],
            "metadata": {
                "azdata_cell_guid": "963c0064-37ec-43e8-b67a-1e367ef1fc5a"
            }
        },
        {
            "cell_type": "markdown",
            "source": [
                "### 1\\. Importeren huurverhoging (rapport in rapportageportal + bijbehorende stored procedure in Empire-database)\n",
                "\n",
                "<table class=\"ms-listviewtable\" id=\"onetidDoclibViewTbl0\" dir=\"none\" border=\"0\" cellspacing=\"0\" cellpadding=\"1\" summary=\"RapportenBoek\" o:webquerysourcehref=\"&amp;XMLDATA=1&amp;RowLimit=0&amp;View=%7B082E8BDB%2D7144%2D41B0%2D8CD5%2DCE4F09CB41B0%7D\" xmlns:o=\"urn:schemas-microsoft-com:office:office\" handledeleteinit=\"true\"><tbody id=\"tbod1-6__\" isloaded=\"true\" selectablerows=\"8\"><tr class=\"ms-alternating  ms-itmHoverEnabled ms-itmhover s4-itm-selected\" id=\"1,1543,0\" iid=\"1,1543,0\" setedgeborder=\"true\"><td height=\"100%\" class=\"ms-cellstyle ms-vb-title\" iscallout=\"TRUE\" isecb=\"TRUE\"><div class=\"ms-vb  itx\" id=\"1543\" app=\"\" ctxname=\"ctx1\"><a class=\"ms-listlink ms-draggable\" aria-label=\"Importeren huurverhoging PRODUCTIE, rdl Bestand\" href=\"http://s-dwh2012-sp/Rapportenboek/Importeren%20huurverhoging%20PRODUCTIE.rdl\" dragid=\"3\">Importeren huurverhoging PRODUCTIE</a></div></td><td class=\"ms-list-itemLink-td ms-cellstyle\"><div class=\"ms-list-itemLink  \"><a title=\"Menu Openen\" class=\"ms-lstItmLinkAnchor ms-ellipsis-a\" id=\"ctx1_1543_calloutLaunchPoint\" href=\"http://s-dwh2012-sp/Level%203%20Financin/Directie%20Financien.aspx#\" ms-jsgrid-click-passthrough=\"true\"><img class=\"ms-ellipsis-icon\" alt=\"Importeren huurverhoging PRODUCTIE.rdl - menu Openen\" src=\"http://s-dwh2012-sp/_catalogs/theme/Themed/7FA80357/spcommon-B35BB0A9.themedpng?ctag=2\"></a></div></td><td class=\"ms-cellstyle ms-vb2 ms-vb-lastCell\"><div class=\"ms-rtestate-field\" dir=\"\">Dit rapport controleert de gegevens die vanuit een excel-bestand zijn ingelezen in de tabel \"empire_staedion_data.hvh.ImportElementHvH\" en verwerkt deze in de maatwerk-tabel HuurverhogingEenheid<br><br>DRAAIBOEK: stap \"Rapport vullen tabellen\"<br>02-04-2020 Gekoppeld aan ingelezen lijst empire_staedion_data.hvh.ImportElementHvH): H:\\Algemeen\\2020 huurverhoging\\Empire\\Servicekosten\\Afwijkingen per eenheid importbestand - versie Jaco, aanpassing Petra nr 6.xlsx; 03-04-2020 06:14</div></td></tr></tbody></table>"
            ],
            "metadata": {
                "azdata_cell_guid": "90169dbf-455c-4392-982f-84349588739a"
            }
        },
        {
            "cell_type": "markdown",
            "source": [
                "### <span style=\"color: #09885a;\">2</span>. Afwijkingen op <span style=\"color: #0000ff;\">service</span><span style=\"color: #000000;\">-</span>clusterniveau <span style=\"color: #0000ff;\">in</span> hulptabellen verwerken (rapport <span style=\"color: #0000ff;\">in</span> rapportageportal <span style=\"color: #000000;\">+</span> bijbehorende stored <span style=\"color: #0000ff;\">procedure</span> <span style=\"color: #0000ff;\">in</span> Empire<span style=\"color: #000000;\">-</span><span style=\"color: #0000ff;\">database</span>)"
            ],
            "metadata": {
                "azdata_cell_guid": "991167c7-3f20-4f95-a54f-907f98482fe4"
            }
        },
        {
            "cell_type": "markdown",
            "source": [
                "<table class=\"ms-listviewtable\" id=\"onetidDoclibViewTbl0\" dir=\"none\" border=\"0\" cellspacing=\"0\" cellpadding=\"1\" summary=\"RapportenBoek\" o:webquerysourcehref=\"&amp;XMLDATA=1&amp;RowLimit=0&amp;View=%7B082E8BDB%2D7144%2D41B0%2D8CD5%2DCE4F09CB41B0%7D\" xmlns:o=\"urn:schemas-microsoft-com:office:office\" handledeleteinit=\"true\"><tbody id=\"tbod1-6__\" isloaded=\"true\" selectablerows=\"8\"><tr class=\" ms-itmHoverEnabled ms-itmhover s4-itm-selected\" id=\"1,1542,0\" iid=\"1,1542,0\" setedgeborder=\"true\"><td height=\"100%\" class=\"ms-cellstyle ms-vb-title\" iscallout=\"TRUE\" isecb=\"TRUE\"><div class=\"ms-vb  itx\" id=\"1542\" app=\"\" ctxname=\"ctx1\"><a class=\"ms-listlink ms-draggable\" aria-label=\"Vullen hulptabellen Huurverhoging cluster en eenheden - PRODUCTIE, rdl Bestand\" href=\"http://s-dwh2012-sp/Rapportenboek/Vullen%20hulptabellen%20Huurverhoging%20cluster%20en%20eenheden%20-%20PRODUCTIE.rdl\" dragid=\"9\">Vullen hulptabellen Huurverhoging cluster en eenheden - PRODUCTIE</a></div></td><td class=\"ms-list-itemLink-td ms-cellstyle\"><div class=\"ms-list-itemLink  \"><a title=\"Menu Openen\" class=\"ms-lstItmLinkAnchor ms-ellipsis-a\" id=\"ctx1_1542_calloutLaunchPoint\" href=\"http://s-dwh2012-sp/Level%203%20Financin/Directie%20Financien.aspx#\" ms-jsgrid-click-passthrough=\"true\"><img class=\"ms-ellipsis-icon\" alt=\"Vullen hulptabellen Huurverhoging cluster en eenheden - PRODUCTIE.rdl - menu Openen\" src=\"http://s-dwh2012-sp/_catalogs/theme/Themed/7FA80357/spcommon-B35BB0A9.themedpng?ctag=2\"></a></div></td><td class=\"ms-cellstyle ms-vb2 ms-vb-lastCell\"><div class=\"ms-rtestate-field\" dir=\"\">Dit rapport wist de tabellen HuurverhogingEenheid en HuurverhogingCluster en vult ze daarna weer. Deze tabellen worden gevuld op basis van: * de verhoging zoals die per element is vastgelegd in de tabel VerhogingAlgemeen (mutaties huurverhoging per element) * contractregels die per opgegeven huurverhogingsdatum actief zijn * voor het kale-huur-element kan op basis van de opgegeven liberale grenswaarde een afwijkend huurverhogingspercentage worden ingevoerd. Inclusief toevoeging \"pp-element 031 + 281\".<br><br>DRAAIBOEK: stap \"Rapport vullen tabellen\"<br>11-03-2020 GEKOPPELD AAN PRODUCTIE</div></td></tr></tbody></table>"
            ],
            "metadata": {
                "azdata_cell_guid": "470d8c9a-3468-4528-b2b2-1422a19789c0"
            }
        },
        {
            "cell_type": "markdown",
            "source": [
                "### 3\\. Afwijkingen op eenheden vullen in hulptabellen (rapport in rapportageportal + bijbehorende stored procedure in dwh-database)"
            ],
            "metadata": {
                "azdata_cell_guid": "324489ae-7b45-4aa1-9f0b-e377add912e0"
            }
        },
        {
            "cell_type": "markdown",
            "source": [
                "<table class=\"ms-listviewtable\" id=\"onetidDoclibViewTbl0\" dir=\"none\" border=\"0\" cellspacing=\"0\" cellpadding=\"1\" summary=\"RapportenBoek\" o:webquerysourcehref=\"&amp;XMLDATA=1&amp;RowLimit=0&amp;View=%7B082E8BDB%2D7144%2D41B0%2D8CD5%2DCE4F09CB41B0%7D\" xmlns:o=\"urn:schemas-microsoft-com:office:office\" handledeleteinit=\"true\"><tbody id=\"tbod1-6__\" isloaded=\"true\" selectablerows=\"8\"><tr class=\" ms-itmHoverEnabled ms-itmhover s4-itm-selected\" id=\"1,1541,0\" iid=\"1,1541,0\" setedgeborder=\"true\"><td height=\"100%\" class=\"ms-cellstyle ms-vb-title\" iscallout=\"TRUE\" isecb=\"TRUE\"><div class=\"ms-vb  itx\" id=\"1541\" app=\"\" ctxname=\"ctx1\"><a class=\"ms-listlink ms-draggable\" aria-label=\"Wijzigen Huurverhoging voor eenheden met servicecluster - PRODUCTIE, rdl Bestand\" href=\"http://s-dwh2012-sp/Rapportenboek/Wijzigen%20Huurverhoging%20voor%20eenheden%20met%20servicecluster%20-%20PRODUCTIE.rdl\" dragid=\"13\">Wijzigen Huurverhoging voor eenheden met servicecluster - PRODUCTIE</a></div></td><td class=\"ms-list-itemLink-td ms-cellstyle\"><div class=\"ms-list-itemLink  \"><a title=\"Menu Openen\" class=\"ms-lstItmLinkAnchor ms-ellipsis-a\" id=\"ctx1_1541_calloutLaunchPoint\" href=\"http://s-dwh2012-sp/Level%203%20Financin/Directie%20Financien.aspx#\" ms-jsgrid-click-passthrough=\"true\"><img class=\"ms-ellipsis-icon\" alt=\"Wijzigen Huurverhoging voor eenheden met servicecluster - PRODUCTIE.rdl - menu Openen\" src=\"http://s-dwh2012-sp/_catalogs/theme/Themed/7FA80357/spcommon-B35BB0A9.themedpng?ctag=2\"></a></div></td><td class=\"ms-cellstyle ms-vb2 ms-vb-lastCell\"><div class=\"ms-rtestate-field\" dir=\"\">Dit rapport kan gedraaid worden aan het eind van de voorbereiding van de huurverhoging. De tabel HuurverhogingEenheid wordt als volgt daarbij gewijzigd voor eenheden die een element hebben en gekoppeld zijn aan een servicecluster waarvoor aparte bedragen zijn opgevoerd. Dat wil zeggen waarvoor dus regels zijn opgevoerd in de tabel HuurverhogingServiceCluster.<br><br>DRAAIBOEK: stap \"Rapport vullen tabellen\"<br>11-03-2020 GEKOPPELD AAN PRODUCTIE</div></td></tr></tbody></table>"
            ],
            "metadata": {
                "azdata_cell_guid": "e1fbc7da-a989-4503-98e3-8e394116b90f"
            }
        },
        {
            "cell_type": "markdown",
            "source": [
                "# 1100\r\n",
                "## BIJLAGE 2: welke tabellen worden gekopieerd en bewaard"
            ],
            "metadata": {
                "azdata_cell_guid": "eb5222cf-377a-4dce-870a-c10285d9b52a"
            }
        },
        {
            "cell_type": "markdown",
            "source": [
                "### <span style=\"font-size: 14px;\">Data overhalen van testomgeving: empire_staedion_logic.dbo.sp_load_specieke_tabellen_hvh</span>\n",
                "\n",
                "<span style=\"font-size: 14px;\">Test (Azure): kan langer dan 1h:40 duren</span>\n",
                "\n",
                "<span style=\"font-size: 14px;\">Gaat om volgende tabellen:</span>\n",
                "\n",
                "- 2021-04-03 08:55:15: VULLEN empire\\_Staedion\\_data.hvh.\\[Staedion$Target Rent \\_ Max\\_ Reas\\_ Rent\\] -  records: 55\n",
                "- 2021-04-03 08:55:16: VULLEN empire\\_Staedion\\_data.hvh.\\[Staedion$CR-gegevens\\] -  records: 25\n",
                "- 2021-04-03 08:55:17: VULLEN empire\\_Staedion\\_data.hvh.\\[Staedion$VAT Posting Setup\\] -  records: 44\n",
                "- 2021-04-03 08:55:23: VULLEN empire\\_Staedion\\_data.hvh.\\[Staedion$Maximale huurprijzen\\] -  records: 14,838\n",
                "- 2021-04-03 08:56:10: VULLEN empire\\_Staedion\\_data.hvh.\\[staedion$Oge\\] -  records: 68,564\n",
                "- 2021-04-03 09:03:43: VULLEN empire\\_Staedion\\_data.hvh.\\[Staedion$Property Valuation\\] -  records: 541,681\n",
                "- 2021-04-03 09:03:44: VULLEN empire\\_Staedion\\_data.hvh.\\[Staedion$Prop\\_ Valuation (Shared Acc\\_)\\] -  records: 4,382\n",
                "- 2021-04-03 09:08:15: VULLEN empire\\_Staedion\\_data.hvh.\\[staedion$OGE Rent Increase\\] -  records: 249,621\n",
                "- 2021-04-03 09:08:43: VULLEN empire\\_Staedion\\_data.hvh.\\[Staedion$Rent Increase Element\\] -  records: 214,995\n",
                "- 2021-04-03 09:08:43: VULLEN empire\\_Staedion\\_data.hvh.\\[parameter state aid\\] -  records: 8\n",
                "- 2021-04-03 09:08:44: VULLEN empire\\_Staedion\\_data.hvh.\\[Staedion$Capping Limit per Target Grp\\_\\] -  records: 110\n",
                "- 2021-04-03 09:09:33: VULLEN empire\\_Staedion\\_data.hvh.\\[staedion$OGE Rent Sum\\] -  records: 239,634\n",
                "- 2021-04-03 09:09:36: VULLEN empire\\_Staedion\\_data.hvh.\\[staedion$OGE Rent Sum Exception\\] -  records: 48,901\n",
                "- 2021-04-03 09:17:14: VULLEN empire\\_Staedion\\_data.hvh.\\[staedion$Contract\\] (\\[A-schiedam-sql\\].emphvl2021.) -  records: 88,022\n",
                "- 2021-04-03 10:34:46: VULLEN empire\\_Staedion\\_data.hvh.\\[staedion$Element\\] -  records: 1,044,090\n",
                "\n",
                "\\[empire\\_dwh\\].\\[dbo\\].\\[tmv\\_hvh\\_simulatie\\_testomgeving\\] \n",
                "\n",
                "BRON: empire\\_staedion\\_data.hvh.\\[Staedion$Oge Rent Increase\\]  + empire\\_staedion\\_Data.hvh.\\[Staedion$OGE\\]  + empire\\_data.dbo.\\[Staedion$Technical\\_Unit\\_Type\\]  + empire\\_staedion\\_Data.hvh.\\[Staedion$Contract\\] \n",
                "\n",
                "\\[empire\\_dwh\\].\\[dbo\\].tmv\\_hvh\\_simulatie\\_productieomgeving \n",
                "\n",
                "BRON: empire\\_data.dbo.Staedion$Oge\\_Rent\\_Increase as HVH + empire\\_data.dbo.\\[Staedion$OGE\\] + empire\\_data.dbo.\\[Staedion$Technical\\_Unit\\_Type\\]  + empire\\_data.dbo.\\[Staedion$Contract\\]"
            ],
            "metadata": {
                "azdata_cell_guid": "5d71601b-5d4c-41ea-90a7-78a9d95e93f5"
            }
        },
        {
            "cell_type": "markdown",
            "source": [
                "# 1200\n",
                "# BIJLAGE 3: welke database-objecten zijn in gebruik\n",
                "\n",
                "EXEC \\[empire\\_staedion\\_data\\].\\[dbo\\].\\[dsp\\_info\\_object\\_en\\_velden\\] 'empire\\_staedion\\_logic', 'dbo', 'sp\\_load\\_datamart\\_hvh\\_simulatie'"
            ],
            "metadata": {
                "azdata_cell_guid": "28ae2cb0-c592-4288-9e2d-d01bf44e11fc"
            }
        }
    ]
}